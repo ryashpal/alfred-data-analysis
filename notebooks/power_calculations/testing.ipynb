{
 "cells": [
  {
   "cell_type": "code",
   "execution_count": 3,
   "metadata": {
    "vscode": {
     "languageId": "r"
    }
   },
   "outputs": [
    {
     "data": {
      "text/html": [
       "<table class=\"dataframe\">\n",
       "<caption>A data.frame: 6 × 2</caption>\n",
       "<thead>\n",
       "\t<tr><th></th><th scope=col>tube_code</th><th scope=col>death_30_day</th></tr>\n",
       "\t<tr><th></th><th scope=col>&lt;chr&gt;</th><th scope=col>&lt;int&gt;</th></tr>\n",
       "</thead>\n",
       "<tbody>\n",
       "\t<tr><th scope=row>1</th><td>AH19I003 </td><td>0</td></tr>\n",
       "\t<tr><th scope=row>2</th><td>AH21E085 </td><td>0</td></tr>\n",
       "\t<tr><th scope=row>3</th><td>ALF22B136</td><td>0</td></tr>\n",
       "\t<tr><th scope=row>4</th><td>AH20B011 </td><td>0</td></tr>\n",
       "\t<tr><th scope=row>5</th><td>ALF23D002</td><td>0</td></tr>\n",
       "\t<tr><th scope=row>6</th><td>AH21H067 </td><td>0</td></tr>\n",
       "</tbody>\n",
       "</table>\n"
      ],
      "text/latex": [
       "A data.frame: 6 × 2\n",
       "\\begin{tabular}{r|ll}\n",
       "  & tube\\_code & death\\_30\\_day\\\\\n",
       "  & <chr> & <int>\\\\\n",
       "\\hline\n",
       "\t1 & AH19I003  & 0\\\\\n",
       "\t2 & AH21E085  & 0\\\\\n",
       "\t3 & ALF22B136 & 0\\\\\n",
       "\t4 & AH20B011  & 0\\\\\n",
       "\t5 & ALF23D002 & 0\\\\\n",
       "\t6 & AH21H067  & 0\\\\\n",
       "\\end{tabular}\n"
      ],
      "text/markdown": [
       "\n",
       "A data.frame: 6 × 2\n",
       "\n",
       "| <!--/--> | tube_code &lt;chr&gt; | death_30_day &lt;int&gt; |\n",
       "|---|---|---|\n",
       "| 1 | AH19I003  | 0 |\n",
       "| 2 | AH21E085  | 0 |\n",
       "| 3 | ALF22B136 | 0 |\n",
       "| 4 | AH20B011  | 0 |\n",
       "| 5 | ALF23D002 | 0 |\n",
       "| 6 | AH21H067  | 0 |\n",
       "\n"
      ],
      "text/plain": [
       "  tube_code death_30_day\n",
       "1 AH19I003  0           \n",
       "2 AH21E085  0           \n",
       "3 ALF22B136 0           \n",
       "4 AH20B011  0           \n",
       "5 ALF23D002 0           \n",
       "6 AH21H067  0           "
      ]
     },
     "metadata": {},
     "output_type": "display_data"
    }
   ],
   "source": [
    "library(data.table)\n",
    "\n",
    "\n",
    "pheno <- fread(\"/home/vmadmin/workspace/ehr_data/data/full_cohort/tube_id_mortality.pheno\", data.table = FALSE)\n",
    "head(pheno)"
   ]
  },
  {
   "cell_type": "code",
   "execution_count": 6,
   "metadata": {
    "vscode": {
     "languageId": "r"
    }
   },
   "outputs": [
    {
     "data": {
      "text/html": [
       "<table class=\"dataframe\">\n",
       "<caption>A data.frame: 2 × 2</caption>\n",
       "<thead>\n",
       "\t<tr><th scope=col>Var1</th><th scope=col>Freq</th></tr>\n",
       "\t<tr><th scope=col>&lt;fct&gt;</th><th scope=col>&lt;int&gt;</th></tr>\n",
       "</thead>\n",
       "<tbody>\n",
       "\t<tr><td>0</td><td>2675</td></tr>\n",
       "\t<tr><td>1</td><td> 409</td></tr>\n",
       "</tbody>\n",
       "</table>\n"
      ],
      "text/latex": [
       "A data.frame: 2 × 2\n",
       "\\begin{tabular}{ll}\n",
       " Var1 & Freq\\\\\n",
       " <fct> & <int>\\\\\n",
       "\\hline\n",
       "\t 0 & 2675\\\\\n",
       "\t 1 &  409\\\\\n",
       "\\end{tabular}\n"
      ],
      "text/markdown": [
       "\n",
       "A data.frame: 2 × 2\n",
       "\n",
       "| Var1 &lt;fct&gt; | Freq &lt;int&gt; |\n",
       "|---|---|\n",
       "| 0 | 2675 |\n",
       "| 1 |  409 |\n",
       "\n"
      ],
      "text/plain": [
       "  Var1 Freq\n",
       "1 0    2675\n",
       "2 1     409"
      ]
     },
     "metadata": {},
     "output_type": "display_data"
    }
   ],
   "source": [
    "as.data.frame(table(pheno$death_30_day))"
   ]
  }
 ],
 "metadata": {
  "kernelspec": {
   "display_name": "R",
   "language": "R",
   "name": "ir"
  },
  "language_info": {
   "codemirror_mode": "r",
   "file_extension": ".r",
   "mimetype": "text/x-r-source",
   "name": "R",
   "pygments_lexer": "r",
   "version": "4.5.0"
  }
 },
 "nbformat": 4,
 "nbformat_minor": 2
}
