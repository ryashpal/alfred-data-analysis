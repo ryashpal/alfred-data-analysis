{
 "cells": [
  {
   "cell_type": "markdown",
   "metadata": {},
   "source": [
    "# Genrate bacteria counts for the manuscript"
   ]
  },
  {
   "cell_type": "markdown",
   "metadata": {},
   "source": [
    "## Read data"
   ]
  },
  {
   "cell_type": "code",
   "execution_count": 1,
   "metadata": {},
   "outputs": [
    {
     "data": {
      "text/plain": [
       "((116754, 194), (3117, 18))"
      ]
     },
     "execution_count": 1,
     "metadata": {},
     "output_type": "execute_result"
    }
   ],
   "source": [
    "import os\n",
    "import pandas as pd\n",
    "\n",
    "from pathlib import Path\n",
    "\n",
    "\n",
    "datamatrixDf = pd.read_csv(os.environ['EHR_DATA_BASE'] + '/blood_pos_cohort_20240531/data/data_matrix.csv')\n",
    "infoDf = pd.read_csv(Path(os.environ['EHR_DATA_BASE'], 'saur_cohort_20250113', 'source', 'patient_tube_id_mapping_full.tsv'), sep='\\t')\n",
    "\n",
    "datamatrixDf.shape, infoDf.shape"
   ]
  },
  {
   "cell_type": "code",
   "execution_count": 3,
   "metadata": {},
   "outputs": [
    {
     "name": "stderr",
     "output_type": "stream",
     "text": [
      "/tmp/ipykernel_742971/2471855643.py:9: FutureWarning: Downcasting object dtype arrays on .fillna, .ffill, .bfill is deprecated and will change in a future version. Call result.infer_objects(copy=False) instead. To opt-in to the future behavior, set `pd.set_option('future.no_silent_downcasting', True)`\n",
      "  mergedDf.Flag = mergedDf.Flag.fillna(False)\n"
     ]
    },
    {
     "data": {
      "text/html": [
       "<div>\n",
       "<style scoped>\n",
       "    .dataframe tbody tr th:only-of-type {\n",
       "        vertical-align: middle;\n",
       "    }\n",
       "\n",
       "    .dataframe tbody tr th {\n",
       "        vertical-align: top;\n",
       "    }\n",
       "\n",
       "    .dataframe thead th {\n",
       "        text-align: right;\n",
       "    }\n",
       "</style>\n",
       "<table border=\"1\" class=\"dataframe\">\n",
       "  <thead>\n",
       "    <tr style=\"text-align: right;\">\n",
       "      <th></th>\n",
       "      <th>tube_code</th>\n",
       "      <th>PATIENT_ID</th>\n",
       "      <th>db_ID</th>\n",
       "      <th>pt_age</th>\n",
       "      <th>pt_gender</th>\n",
       "      <th>EPISODE_ID</th>\n",
       "      <th>hospital_admission</th>\n",
       "      <th>hospital_discharge</th>\n",
       "      <th>hospital_in_last_year</th>\n",
       "      <th>genome_species</th>\n",
       "      <th>species_reported</th>\n",
       "      <th>contig_number</th>\n",
       "      <th>length</th>\n",
       "      <th>tube_code_duplicate_or_old</th>\n",
       "      <th>date_of_collection</th>\n",
       "      <th>ID_number</th>\n",
       "      <th>location_additional_02</th>\n",
       "      <th>collected_from_original</th>\n",
       "      <th>person_id</th>\n",
       "      <th>Flag</th>\n",
       "    </tr>\n",
       "  </thead>\n",
       "  <tbody>\n",
       "    <tr>\n",
       "      <th>0</th>\n",
       "      <td>AH19J072</td>\n",
       "      <td>213972.0</td>\n",
       "      <td>3JNQS</td>\n",
       "      <td>64</td>\n",
       "      <td>Male</td>\n",
       "      <td>12931474.0</td>\n",
       "      <td>2019-10-17</td>\n",
       "      <td>2019-11-29</td>\n",
       "      <td>yes</td>\n",
       "      <td>Escherichia coli</td>\n",
       "      <td>Escherichia coli</td>\n",
       "      <td>92</td>\n",
       "      <td>5131021</td>\n",
       "      <td>NaN</td>\n",
       "      <td>2019-10-30</td>\n",
       "      <td>19-303-0997</td>\n",
       "      <td>A-7EA;HAEM</td>\n",
       "      <td>Blood</td>\n",
       "      <td>NaN</td>\n",
       "      <td>False</td>\n",
       "    </tr>\n",
       "    <tr>\n",
       "      <th>1</th>\n",
       "      <td>AH19J074</td>\n",
       "      <td>213972.0</td>\n",
       "      <td>3JNQS</td>\n",
       "      <td>64</td>\n",
       "      <td>Male</td>\n",
       "      <td>12931474.0</td>\n",
       "      <td>2019-10-17</td>\n",
       "      <td>2019-11-29</td>\n",
       "      <td>yes</td>\n",
       "      <td>Streptococcus sp. D19</td>\n",
       "      <td>Streptococcus mitis group</td>\n",
       "      <td>84</td>\n",
       "      <td>2022991</td>\n",
       "      <td>NaN</td>\n",
       "      <td>2019-10-30</td>\n",
       "      <td>19-303-1174</td>\n",
       "      <td>A-7EA;HAEM</td>\n",
       "      <td>Blood Peripheral</td>\n",
       "      <td>NaN</td>\n",
       "      <td>False</td>\n",
       "    </tr>\n",
       "    <tr>\n",
       "      <th>2</th>\n",
       "      <td>AH19B003</td>\n",
       "      <td>526238.0</td>\n",
       "      <td>567AE</td>\n",
       "      <td>85</td>\n",
       "      <td>Male</td>\n",
       "      <td>640261.0</td>\n",
       "      <td>2019-02-04</td>\n",
       "      <td>2019-02-07</td>\n",
       "      <td>no</td>\n",
       "      <td>Escherichia coli</td>\n",
       "      <td>Escherichia coli</td>\n",
       "      <td>93</td>\n",
       "      <td>4942915</td>\n",
       "      <td>NaN</td>\n",
       "      <td>2019-02-03</td>\n",
       "      <td>19-034-1596</td>\n",
       "      <td>A-4WB;GMC</td>\n",
       "      <td>Blood</td>\n",
       "      <td>526238.0</td>\n",
       "      <td>True</td>\n",
       "    </tr>\n",
       "    <tr>\n",
       "      <th>3</th>\n",
       "      <td>AH20A024</td>\n",
       "      <td>788941.0</td>\n",
       "      <td>3YBDS</td>\n",
       "      <td>58</td>\n",
       "      <td>Female</td>\n",
       "      <td>13194824.0</td>\n",
       "      <td>2020-01-16</td>\n",
       "      <td>2020-01-19</td>\n",
       "      <td>no</td>\n",
       "      <td>Escherichia coli</td>\n",
       "      <td>Escherichia coli</td>\n",
       "      <td>110</td>\n",
       "      <td>5149157</td>\n",
       "      <td>NaN</td>\n",
       "      <td>2020-01-16</td>\n",
       "      <td>20-016-2112</td>\n",
       "      <td>S-ED;Emergency</td>\n",
       "      <td>Blood Venous</td>\n",
       "      <td>788941.0</td>\n",
       "      <td>True</td>\n",
       "    </tr>\n",
       "    <tr>\n",
       "      <th>4</th>\n",
       "      <td>AH20L041</td>\n",
       "      <td>1023735.0</td>\n",
       "      <td>2VJ78</td>\n",
       "      <td>42</td>\n",
       "      <td>Male</td>\n",
       "      <td>14210147.0</td>\n",
       "      <td>2020-12-18</td>\n",
       "      <td>2021-01-05</td>\n",
       "      <td>yes</td>\n",
       "      <td>Staphylococcus aureus</td>\n",
       "      <td>Staphylococcus aureus</td>\n",
       "      <td>46</td>\n",
       "      <td>2735216</td>\n",
       "      <td>NaN</td>\n",
       "      <td>2020-12-16</td>\n",
       "      <td>20-351-2856</td>\n",
       "      <td>Emergency Dept;nan</td>\n",
       "      <td>Blood</td>\n",
       "      <td>1023735.0</td>\n",
       "      <td>True</td>\n",
       "    </tr>\n",
       "    <tr>\n",
       "      <th>...</th>\n",
       "      <td>...</td>\n",
       "      <td>...</td>\n",
       "      <td>...</td>\n",
       "      <td>...</td>\n",
       "      <td>...</td>\n",
       "      <td>...</td>\n",
       "      <td>...</td>\n",
       "      <td>...</td>\n",
       "      <td>...</td>\n",
       "      <td>...</td>\n",
       "      <td>...</td>\n",
       "      <td>...</td>\n",
       "      <td>...</td>\n",
       "      <td>...</td>\n",
       "      <td>...</td>\n",
       "      <td>...</td>\n",
       "      <td>...</td>\n",
       "      <td>...</td>\n",
       "      <td>...</td>\n",
       "      <td>...</td>\n",
       "    </tr>\n",
       "    <tr>\n",
       "      <th>3112</th>\n",
       "      <td>ALF22L076</td>\n",
       "      <td>639020.0</td>\n",
       "      <td>3S6HL</td>\n",
       "      <td>84</td>\n",
       "      <td>Male</td>\n",
       "      <td>17219899.0</td>\n",
       "      <td>2022-12-15</td>\n",
       "      <td>2022-12-20</td>\n",
       "      <td>yes</td>\n",
       "      <td>Streptococcus vestibularis</td>\n",
       "      <td>Streptococcus salivarius group</td>\n",
       "      <td>107</td>\n",
       "      <td>1938627</td>\n",
       "      <td>NaN</td>\n",
       "      <td>2022-12-15</td>\n",
       "      <td>22-349-2150</td>\n",
       "      <td>Ward 4WB</td>\n",
       "      <td>Blood Peripheral</td>\n",
       "      <td>639020.0</td>\n",
       "      <td>True</td>\n",
       "    </tr>\n",
       "    <tr>\n",
       "      <th>3113</th>\n",
       "      <td>ALF22L089</td>\n",
       "      <td>655404.0</td>\n",
       "      <td>6EWBM</td>\n",
       "      <td>67</td>\n",
       "      <td>Female</td>\n",
       "      <td>NaN</td>\n",
       "      <td>NaN</td>\n",
       "      <td>NaN</td>\n",
       "      <td>NaN</td>\n",
       "      <td>Proteus columbae</td>\n",
       "      <td>Proteus vulgaris</td>\n",
       "      <td>152</td>\n",
       "      <td>3972219</td>\n",
       "      <td>NaN</td>\n",
       "      <td>2022-12-17</td>\n",
       "      <td>22-351-1465</td>\n",
       "      <td>Comm/Amb Clinic</td>\n",
       "      <td>Blood</td>\n",
       "      <td>655404.0</td>\n",
       "      <td>True</td>\n",
       "    </tr>\n",
       "    <tr>\n",
       "      <th>3114</th>\n",
       "      <td>ALF22L138</td>\n",
       "      <td>2572048.0</td>\n",
       "      <td>YM5PJ</td>\n",
       "      <td>61</td>\n",
       "      <td>Male</td>\n",
       "      <td>NaN</td>\n",
       "      <td>NaN</td>\n",
       "      <td>NaN</td>\n",
       "      <td>NaN</td>\n",
       "      <td>Enterobacter roggenkampii</td>\n",
       "      <td>Enterobacter cloacae complex</td>\n",
       "      <td>66</td>\n",
       "      <td>4876179</td>\n",
       "      <td>NaN</td>\n",
       "      <td>2022-12-27</td>\n",
       "      <td>22-361-0202</td>\n",
       "      <td>Ward 7 East</td>\n",
       "      <td>Hick White Lum</td>\n",
       "      <td>NaN</td>\n",
       "      <td>False</td>\n",
       "    </tr>\n",
       "    <tr>\n",
       "      <th>3115</th>\n",
       "      <td>ALF23A102</td>\n",
       "      <td>2054964.0</td>\n",
       "      <td>5DYAH</td>\n",
       "      <td>35</td>\n",
       "      <td>Female</td>\n",
       "      <td>17294287.0</td>\n",
       "      <td>2023-01-12</td>\n",
       "      <td>2023-02-01</td>\n",
       "      <td>yes</td>\n",
       "      <td>Streptococcus constellatus</td>\n",
       "      <td>Streptococcus anginosus group</td>\n",
       "      <td>54</td>\n",
       "      <td>1869828</td>\n",
       "      <td>NaN</td>\n",
       "      <td>2023-01-11</td>\n",
       "      <td>23-011-3305</td>\n",
       "      <td>ICU</td>\n",
       "      <td>Blood Venous</td>\n",
       "      <td>2054964.0</td>\n",
       "      <td>True</td>\n",
       "    </tr>\n",
       "    <tr>\n",
       "      <th>3116</th>\n",
       "      <td>ALF23B102</td>\n",
       "      <td>2015952.0</td>\n",
       "      <td>57E2W</td>\n",
       "      <td>82</td>\n",
       "      <td>Female</td>\n",
       "      <td>17281239.0</td>\n",
       "      <td>2023-01-08</td>\n",
       "      <td>2023-02-16</td>\n",
       "      <td>no</td>\n",
       "      <td>Acinetobacter colistiniresistens</td>\n",
       "      <td>Acinetobacter species</td>\n",
       "      <td>233</td>\n",
       "      <td>3952992</td>\n",
       "      <td>NaN</td>\n",
       "      <td>2023-02-15</td>\n",
       "      <td>23-046-3310</td>\n",
       "      <td>ICU</td>\n",
       "      <td>PICC Line White</td>\n",
       "      <td>2015952.0</td>\n",
       "      <td>True</td>\n",
       "    </tr>\n",
       "  </tbody>\n",
       "</table>\n",
       "<p>3117 rows × 20 columns</p>\n",
       "</div>"
      ],
      "text/plain": [
       "      tube_code  PATIENT_ID  db_ID  pt_age pt_gender  EPISODE_ID  \\\n",
       "0      AH19J072    213972.0  3JNQS      64      Male  12931474.0   \n",
       "1      AH19J074    213972.0  3JNQS      64      Male  12931474.0   \n",
       "2      AH19B003    526238.0  567AE      85      Male    640261.0   \n",
       "3      AH20A024    788941.0  3YBDS      58    Female  13194824.0   \n",
       "4      AH20L041   1023735.0  2VJ78      42      Male  14210147.0   \n",
       "...         ...         ...    ...     ...       ...         ...   \n",
       "3112  ALF22L076    639020.0  3S6HL      84      Male  17219899.0   \n",
       "3113  ALF22L089    655404.0  6EWBM      67    Female         NaN   \n",
       "3114  ALF22L138   2572048.0  YM5PJ      61      Male         NaN   \n",
       "3115  ALF23A102   2054964.0  5DYAH      35    Female  17294287.0   \n",
       "3116  ALF23B102   2015952.0  57E2W      82    Female  17281239.0   \n",
       "\n",
       "     hospital_admission hospital_discharge hospital_in_last_year  \\\n",
       "0            2019-10-17         2019-11-29                   yes   \n",
       "1            2019-10-17         2019-11-29                   yes   \n",
       "2            2019-02-04         2019-02-07                    no   \n",
       "3            2020-01-16         2020-01-19                    no   \n",
       "4            2020-12-18         2021-01-05                   yes   \n",
       "...                 ...                ...                   ...   \n",
       "3112         2022-12-15         2022-12-20                   yes   \n",
       "3113                NaN                NaN                   NaN   \n",
       "3114                NaN                NaN                   NaN   \n",
       "3115         2023-01-12         2023-02-01                   yes   \n",
       "3116         2023-01-08         2023-02-16                    no   \n",
       "\n",
       "                        genome_species                species_reported  \\\n",
       "0                     Escherichia coli                Escherichia coli   \n",
       "1                Streptococcus sp. D19       Streptococcus mitis group   \n",
       "2                     Escherichia coli                Escherichia coli   \n",
       "3                     Escherichia coli                Escherichia coli   \n",
       "4                Staphylococcus aureus           Staphylococcus aureus   \n",
       "...                                ...                             ...   \n",
       "3112        Streptococcus vestibularis  Streptococcus salivarius group   \n",
       "3113                  Proteus columbae                Proteus vulgaris   \n",
       "3114         Enterobacter roggenkampii    Enterobacter cloacae complex   \n",
       "3115        Streptococcus constellatus   Streptococcus anginosus group   \n",
       "3116  Acinetobacter colistiniresistens           Acinetobacter species   \n",
       "\n",
       "      contig_number   length tube_code_duplicate_or_old date_of_collection  \\\n",
       "0                92  5131021                        NaN         2019-10-30   \n",
       "1                84  2022991                        NaN         2019-10-30   \n",
       "2                93  4942915                        NaN         2019-02-03   \n",
       "3               110  5149157                        NaN         2020-01-16   \n",
       "4                46  2735216                        NaN         2020-12-16   \n",
       "...             ...      ...                        ...                ...   \n",
       "3112            107  1938627                        NaN         2022-12-15   \n",
       "3113            152  3972219                        NaN         2022-12-17   \n",
       "3114             66  4876179                        NaN         2022-12-27   \n",
       "3115             54  1869828                        NaN         2023-01-11   \n",
       "3116            233  3952992                        NaN         2023-02-15   \n",
       "\n",
       "        ID_number location_additional_02 collected_from_original  person_id  \\\n",
       "0     19-303-0997             A-7EA;HAEM                   Blood        NaN   \n",
       "1     19-303-1174             A-7EA;HAEM        Blood Peripheral        NaN   \n",
       "2     19-034-1596              A-4WB;GMC                   Blood   526238.0   \n",
       "3     20-016-2112         S-ED;Emergency            Blood Venous   788941.0   \n",
       "4     20-351-2856     Emergency Dept;nan                   Blood  1023735.0   \n",
       "...           ...                    ...                     ...        ...   \n",
       "3112  22-349-2150               Ward 4WB        Blood Peripheral   639020.0   \n",
       "3113  22-351-1465        Comm/Amb Clinic                   Blood   655404.0   \n",
       "3114  22-361-0202            Ward 7 East          Hick White Lum        NaN   \n",
       "3115  23-011-3305                    ICU            Blood Venous  2054964.0   \n",
       "3116  23-046-3310                    ICU         PICC Line White  2015952.0   \n",
       "\n",
       "       Flag  \n",
       "0     False  \n",
       "1     False  \n",
       "2      True  \n",
       "3      True  \n",
       "4      True  \n",
       "...     ...  \n",
       "3112   True  \n",
       "3113   True  \n",
       "3114  False  \n",
       "3115   True  \n",
       "3116   True  \n",
       "\n",
       "[3117 rows x 20 columns]"
      ]
     },
     "execution_count": 3,
     "metadata": {},
     "output_type": "execute_result"
    }
   ],
   "source": [
    "dataDf = datamatrixDf[['person_id']].drop_duplicates()\n",
    "dataDf['Flag'] = True\n",
    "mergedDf = infoDf.merge(\n",
    "    dataDf,\n",
    "    how='left',\n",
    "    left_on=['PATIENT_ID'],\n",
    "    right_on=['person_id']\n",
    ")\n",
    "mergedDf.Flag = mergedDf.Flag.fillna(False)\n",
    "mergedDf"
   ]
  },
  {
   "cell_type": "code",
   "execution_count": 42,
   "metadata": {},
   "outputs": [
    {
     "data": {
      "text/html": [
       "<div>\n",
       "<style scoped>\n",
       "    .dataframe tbody tr th:only-of-type {\n",
       "        vertical-align: middle;\n",
       "    }\n",
       "\n",
       "    .dataframe tbody tr th {\n",
       "        vertical-align: top;\n",
       "    }\n",
       "\n",
       "    .dataframe thead th {\n",
       "        text-align: right;\n",
       "    }\n",
       "</style>\n",
       "<table border=\"1\" class=\"dataframe\">\n",
       "  <thead>\n",
       "    <tr style=\"text-align: right;\">\n",
       "      <th></th>\n",
       "      <th>genome_species</th>\n",
       "      <th>Total Count</th>\n",
       "      <th>Study Count</th>\n",
       "    </tr>\n",
       "  </thead>\n",
       "  <tbody>\n",
       "    <tr>\n",
       "      <th>0</th>\n",
       "      <td>Escherichia coli</td>\n",
       "      <td>850</td>\n",
       "      <td>800.0</td>\n",
       "    </tr>\n",
       "    <tr>\n",
       "      <th>1</th>\n",
       "      <td>Staphylococcus aureus</td>\n",
       "      <td>557</td>\n",
       "      <td>530.0</td>\n",
       "    </tr>\n",
       "    <tr>\n",
       "      <th>2</th>\n",
       "      <td>Enterococcus faecium</td>\n",
       "      <td>220</td>\n",
       "      <td>213.0</td>\n",
       "    </tr>\n",
       "    <tr>\n",
       "      <th>3</th>\n",
       "      <td>Klebsiella pneumoniae</td>\n",
       "      <td>199</td>\n",
       "      <td>185.0</td>\n",
       "    </tr>\n",
       "    <tr>\n",
       "      <th>4</th>\n",
       "      <td>Enterococcus faecalis</td>\n",
       "      <td>151</td>\n",
       "      <td>139.0</td>\n",
       "    </tr>\n",
       "    <tr>\n",
       "      <th>...</th>\n",
       "      <td>...</td>\n",
       "      <td>...</td>\n",
       "      <td>...</td>\n",
       "    </tr>\n",
       "    <tr>\n",
       "      <th>93</th>\n",
       "      <td>Acinetobacter seifertii</td>\n",
       "      <td>1</td>\n",
       "      <td>1.0</td>\n",
       "    </tr>\n",
       "    <tr>\n",
       "      <th>94</th>\n",
       "      <td>Acinetobacter oleivorans</td>\n",
       "      <td>1</td>\n",
       "      <td>1.0</td>\n",
       "    </tr>\n",
       "    <tr>\n",
       "      <th>95</th>\n",
       "      <td>Acinetobacter variabilis</td>\n",
       "      <td>1</td>\n",
       "      <td>1.0</td>\n",
       "    </tr>\n",
       "    <tr>\n",
       "      <th>96</th>\n",
       "      <td>Proteus columbae</td>\n",
       "      <td>1</td>\n",
       "      <td>1.0</td>\n",
       "    </tr>\n",
       "    <tr>\n",
       "      <th>97</th>\n",
       "      <td>Acinetobacter colistiniresistens</td>\n",
       "      <td>1</td>\n",
       "      <td>1.0</td>\n",
       "    </tr>\n",
       "  </tbody>\n",
       "</table>\n",
       "<p>98 rows × 3 columns</p>\n",
       "</div>"
      ],
      "text/plain": [
       "                      genome_species  Total Count  Study Count\n",
       "0                   Escherichia coli          850        800.0\n",
       "1              Staphylococcus aureus          557        530.0\n",
       "2               Enterococcus faecium          220        213.0\n",
       "3              Klebsiella pneumoniae          199        185.0\n",
       "4              Enterococcus faecalis          151        139.0\n",
       "..                               ...          ...          ...\n",
       "93           Acinetobacter seifertii            1          1.0\n",
       "94          Acinetobacter oleivorans            1          1.0\n",
       "95          Acinetobacter variabilis            1          1.0\n",
       "96                  Proteus columbae            1          1.0\n",
       "97  Acinetobacter colistiniresistens            1          1.0\n",
       "\n",
       "[98 rows x 3 columns]"
      ]
     },
     "execution_count": 42,
     "metadata": {},
     "output_type": "execute_result"
    }
   ],
   "source": [
    "countsDf = mergedDf.genome_species.value_counts().reset_index().rename(columns={'count': 'Total Count'}).merge(\n",
    "    mergedDf[mergedDf.Flag].genome_species.value_counts().reset_index().rename(columns={'count': 'Study Count'}),\n",
    "    how='left',\n",
    "    on=['genome_species']\n",
    ")\n",
    "countsDf"
   ]
  },
  {
   "cell_type": "markdown",
   "metadata": {},
   "source": [
    "## Gram negatives"
   ]
  },
  {
   "cell_type": "markdown",
   "metadata": {},
   "source": [
    "### Acinetobacter species"
   ]
  },
  {
   "cell_type": "code",
   "execution_count": 43,
   "metadata": {},
   "outputs": [
    {
     "data": {
      "text/html": [
       "<div>\n",
       "<style scoped>\n",
       "    .dataframe tbody tr th:only-of-type {\n",
       "        vertical-align: middle;\n",
       "    }\n",
       "\n",
       "    .dataframe tbody tr th {\n",
       "        vertical-align: top;\n",
       "    }\n",
       "\n",
       "    .dataframe thead th {\n",
       "        text-align: right;\n",
       "    }\n",
       "</style>\n",
       "<table border=\"1\" class=\"dataframe\">\n",
       "  <thead>\n",
       "    <tr style=\"text-align: right;\">\n",
       "      <th></th>\n",
       "      <th>genome_species</th>\n",
       "      <th>Total Count</th>\n",
       "      <th>Study Count</th>\n",
       "    </tr>\n",
       "  </thead>\n",
       "  <tbody>\n",
       "    <tr>\n",
       "      <th>33</th>\n",
       "      <td>Acinetobacter nosocomialis</td>\n",
       "      <td>9</td>\n",
       "      <td>9.0</td>\n",
       "    </tr>\n",
       "    <tr>\n",
       "      <th>35</th>\n",
       "      <td>Acinetobacter baumannii</td>\n",
       "      <td>8</td>\n",
       "      <td>7.0</td>\n",
       "    </tr>\n",
       "    <tr>\n",
       "      <th>37</th>\n",
       "      <td>Acinetobacter pittii</td>\n",
       "      <td>8</td>\n",
       "      <td>7.0</td>\n",
       "    </tr>\n",
       "    <tr>\n",
       "      <th>52</th>\n",
       "      <td>Acinetobacter lwoffii</td>\n",
       "      <td>4</td>\n",
       "      <td>4.0</td>\n",
       "    </tr>\n",
       "    <tr>\n",
       "      <th>55</th>\n",
       "      <td>Acinetobacter ursingii</td>\n",
       "      <td>4</td>\n",
       "      <td>4.0</td>\n",
       "    </tr>\n",
       "    <tr>\n",
       "      <th>62</th>\n",
       "      <td>Acinetobacter radioresistens</td>\n",
       "      <td>3</td>\n",
       "      <td>3.0</td>\n",
       "    </tr>\n",
       "    <tr>\n",
       "      <th>84</th>\n",
       "      <td>Acinetobacter courvalinii</td>\n",
       "      <td>1</td>\n",
       "      <td>1.0</td>\n",
       "    </tr>\n",
       "    <tr>\n",
       "      <th>93</th>\n",
       "      <td>Acinetobacter seifertii</td>\n",
       "      <td>1</td>\n",
       "      <td>1.0</td>\n",
       "    </tr>\n",
       "    <tr>\n",
       "      <th>94</th>\n",
       "      <td>Acinetobacter oleivorans</td>\n",
       "      <td>1</td>\n",
       "      <td>1.0</td>\n",
       "    </tr>\n",
       "    <tr>\n",
       "      <th>95</th>\n",
       "      <td>Acinetobacter variabilis</td>\n",
       "      <td>1</td>\n",
       "      <td>1.0</td>\n",
       "    </tr>\n",
       "    <tr>\n",
       "      <th>97</th>\n",
       "      <td>Acinetobacter colistiniresistens</td>\n",
       "      <td>1</td>\n",
       "      <td>1.0</td>\n",
       "    </tr>\n",
       "  </tbody>\n",
       "</table>\n",
       "</div>"
      ],
      "text/plain": [
       "                      genome_species  Total Count  Study Count\n",
       "33        Acinetobacter nosocomialis            9          9.0\n",
       "35           Acinetobacter baumannii            8          7.0\n",
       "37              Acinetobacter pittii            8          7.0\n",
       "52             Acinetobacter lwoffii            4          4.0\n",
       "55            Acinetobacter ursingii            4          4.0\n",
       "62      Acinetobacter radioresistens            3          3.0\n",
       "84         Acinetobacter courvalinii            1          1.0\n",
       "93           Acinetobacter seifertii            1          1.0\n",
       "94          Acinetobacter oleivorans            1          1.0\n",
       "95          Acinetobacter variabilis            1          1.0\n",
       "97  Acinetobacter colistiniresistens            1          1.0"
      ]
     },
     "execution_count": 43,
     "metadata": {},
     "output_type": "execute_result"
    }
   ],
   "source": [
    "countsDf[countsDf.genome_species.str.contains('Acinetobacter')]"
   ]
  },
  {
   "cell_type": "code",
   "execution_count": 47,
   "metadata": {},
   "outputs": [
    {
     "data": {
      "text/plain": [
       "Total Count    41.0\n",
       "Study Count    39.0\n",
       "dtype: float64"
      ]
     },
     "execution_count": 47,
     "metadata": {},
     "output_type": "execute_result"
    }
   ],
   "source": [
    "countsDf[countsDf.genome_species.str.contains('Acinetobacter')][['Total Count', 'Study Count']].sum()"
   ]
  },
  {
   "cell_type": "markdown",
   "metadata": {},
   "source": [
    "### Burkholderia cepacia complex"
   ]
  },
  {
   "cell_type": "code",
   "execution_count": 48,
   "metadata": {},
   "outputs": [
    {
     "data": {
      "text/html": [
       "<div>\n",
       "<style scoped>\n",
       "    .dataframe tbody tr th:only-of-type {\n",
       "        vertical-align: middle;\n",
       "    }\n",
       "\n",
       "    .dataframe tbody tr th {\n",
       "        vertical-align: top;\n",
       "    }\n",
       "\n",
       "    .dataframe thead th {\n",
       "        text-align: right;\n",
       "    }\n",
       "</style>\n",
       "<table border=\"1\" class=\"dataframe\">\n",
       "  <thead>\n",
       "    <tr style=\"text-align: right;\">\n",
       "      <th></th>\n",
       "      <th>genome_species</th>\n",
       "      <th>Total Count</th>\n",
       "      <th>Study Count</th>\n",
       "    </tr>\n",
       "  </thead>\n",
       "  <tbody>\n",
       "    <tr>\n",
       "      <th>71</th>\n",
       "      <td>Burkholderia stabilis</td>\n",
       "      <td>2</td>\n",
       "      <td>2.0</td>\n",
       "    </tr>\n",
       "    <tr>\n",
       "      <th>74</th>\n",
       "      <td>Burkholderia multivorans</td>\n",
       "      <td>1</td>\n",
       "      <td>1.0</td>\n",
       "    </tr>\n",
       "    <tr>\n",
       "      <th>85</th>\n",
       "      <td>Burkholderia cenocepacia</td>\n",
       "      <td>1</td>\n",
       "      <td>1.0</td>\n",
       "    </tr>\n",
       "    <tr>\n",
       "      <th>89</th>\n",
       "      <td>Burkholderia contaminans</td>\n",
       "      <td>1</td>\n",
       "      <td>1.0</td>\n",
       "    </tr>\n",
       "  </tbody>\n",
       "</table>\n",
       "</div>"
      ],
      "text/plain": [
       "              genome_species  Total Count  Study Count\n",
       "71     Burkholderia stabilis            2          2.0\n",
       "74  Burkholderia multivorans            1          1.0\n",
       "85  Burkholderia cenocepacia            1          1.0\n",
       "89  Burkholderia contaminans            1          1.0"
      ]
     },
     "execution_count": 48,
     "metadata": {},
     "output_type": "execute_result"
    }
   ],
   "source": [
    "countsDf[countsDf.genome_species.str.contains('Burkholderia')]"
   ]
  },
  {
   "cell_type": "code",
   "execution_count": 49,
   "metadata": {},
   "outputs": [
    {
     "data": {
      "text/plain": [
       "Total Count    5.0\n",
       "Study Count    5.0\n",
       "dtype: float64"
      ]
     },
     "execution_count": 49,
     "metadata": {},
     "output_type": "execute_result"
    }
   ],
   "source": [
    "countsDf[countsDf.genome_species.str.contains('Burkholderia')][['Total Count', 'Study Count']].sum()"
   ]
  },
  {
   "cell_type": "markdown",
   "metadata": {},
   "source": [
    "### Pseudomonas aeruginosa"
   ]
  },
  {
   "cell_type": "code",
   "execution_count": 52,
   "metadata": {},
   "outputs": [
    {
     "data": {
      "text/plain": [
       "Total Count    149.0\n",
       "Study Count    145.0\n",
       "dtype: float64"
      ]
     },
     "execution_count": 52,
     "metadata": {},
     "output_type": "execute_result"
    }
   ],
   "source": [
    "countsDf[countsDf.genome_species.str.contains('Pseudomonas aeruginosa')][['Total Count', 'Study Count']].sum()"
   ]
  },
  {
   "cell_type": "markdown",
   "metadata": {},
   "source": [
    "### Stenotrophomonas maltophilia"
   ]
  },
  {
   "cell_type": "code",
   "execution_count": 51,
   "metadata": {},
   "outputs": [
    {
     "data": {
      "text/plain": [
       "Total Count    27.0\n",
       "Study Count    27.0\n",
       "dtype: float64"
      ]
     },
     "execution_count": 51,
     "metadata": {},
     "output_type": "execute_result"
    }
   ],
   "source": [
    "countsDf[countsDf.genome_species.str.contains('Stenotrophomonas maltophilia')][['Total Count', 'Study Count']].sum()"
   ]
  },
  {
   "cell_type": "markdown",
   "metadata": {},
   "source": [
    "### Citrobacter freundii complex"
   ]
  },
  {
   "cell_type": "code",
   "execution_count": 53,
   "metadata": {},
   "outputs": [
    {
     "data": {
      "text/plain": [
       "Total Count    4.0\n",
       "Study Count    4.0\n",
       "dtype: float64"
      ]
     },
     "execution_count": 53,
     "metadata": {},
     "output_type": "execute_result"
    }
   ],
   "source": [
    "countsDf[countsDf.genome_species.str.contains('Citrobacter freundii')][['Total Count', 'Study Count']].sum()"
   ]
  },
  {
   "cell_type": "markdown",
   "metadata": {},
   "source": [
    "### Citobacter koseri"
   ]
  },
  {
   "cell_type": "code",
   "execution_count": 54,
   "metadata": {},
   "outputs": [
    {
     "data": {
      "text/plain": [
       "Total Count    14.0\n",
       "Study Count    11.0\n",
       "dtype: float64"
      ]
     },
     "execution_count": 54,
     "metadata": {},
     "output_type": "execute_result"
    }
   ],
   "source": [
    "countsDf[countsDf.genome_species.str.contains('Citrobacter koseri')][['Total Count', 'Study Count']].sum()"
   ]
  },
  {
   "cell_type": "markdown",
   "metadata": {},
   "source": [
    "### Enterobacter cloacae complex"
   ]
  },
  {
   "cell_type": "code",
   "execution_count": 55,
   "metadata": {},
   "outputs": [
    {
     "data": {
      "text/plain": [
       "Total Count    8.0\n",
       "Study Count    8.0\n",
       "dtype: float64"
      ]
     },
     "execution_count": 55,
     "metadata": {},
     "output_type": "execute_result"
    }
   ],
   "source": [
    "countsDf[countsDf.genome_species.str.contains('Enterobacter cloacae')][['Total Count', 'Study Count']].sum()"
   ]
  },
  {
   "cell_type": "markdown",
   "metadata": {},
   "source": [
    "### Escherichia coli"
   ]
  },
  {
   "cell_type": "code",
   "execution_count": 56,
   "metadata": {},
   "outputs": [
    {
     "data": {
      "text/plain": [
       "Total Count    850.0\n",
       "Study Count    800.0\n",
       "dtype: float64"
      ]
     },
     "execution_count": 56,
     "metadata": {},
     "output_type": "execute_result"
    }
   ],
   "source": [
    "countsDf[countsDf.genome_species.str.contains('Escherichia coli')][['Total Count', 'Study Count']].sum()"
   ]
  },
  {
   "cell_type": "markdown",
   "metadata": {},
   "source": [
    "### Klebsiella aerogenes"
   ]
  },
  {
   "cell_type": "code",
   "execution_count": 57,
   "metadata": {},
   "outputs": [
    {
     "data": {
      "text/plain": [
       "Total Count    32.0\n",
       "Study Count    31.0\n",
       "dtype: float64"
      ]
     },
     "execution_count": 57,
     "metadata": {},
     "output_type": "execute_result"
    }
   ],
   "source": [
    "countsDf[countsDf.genome_species.str.contains('Klebsiella aerogenes')][['Total Count', 'Study Count']].sum()"
   ]
  },
  {
   "cell_type": "markdown",
   "metadata": {},
   "source": [
    "### Klebsiella oxytoca"
   ]
  },
  {
   "cell_type": "code",
   "execution_count": 58,
   "metadata": {},
   "outputs": [
    {
     "data": {
      "text/plain": [
       "Total Count    23.0\n",
       "Study Count    20.0\n",
       "dtype: float64"
      ]
     },
     "execution_count": 58,
     "metadata": {},
     "output_type": "execute_result"
    }
   ],
   "source": [
    "countsDf[countsDf.genome_species.str.contains('Klebsiella oxytoca')][['Total Count', 'Study Count']].sum()"
   ]
  },
  {
   "cell_type": "markdown",
   "metadata": {},
   "source": [
    "### Kiebsiella pneumoniae"
   ]
  },
  {
   "cell_type": "code",
   "execution_count": 59,
   "metadata": {},
   "outputs": [
    {
     "data": {
      "text/plain": [
       "Total Count    199.0\n",
       "Study Count    185.0\n",
       "dtype: float64"
      ]
     },
     "execution_count": 59,
     "metadata": {},
     "output_type": "execute_result"
    }
   ],
   "source": [
    "countsDf[countsDf.genome_species.str.contains('Klebsiella pneumoniae')][['Total Count', 'Study Count']].sum()"
   ]
  },
  {
   "cell_type": "markdown",
   "metadata": {},
   "source": [
    "### Proteus mirabilis"
   ]
  },
  {
   "cell_type": "code",
   "execution_count": 60,
   "metadata": {},
   "outputs": [
    {
     "data": {
      "text/plain": [
       "Total Count    58.0\n",
       "Study Count    52.0\n",
       "dtype: float64"
      ]
     },
     "execution_count": 60,
     "metadata": {},
     "output_type": "execute_result"
    }
   ],
   "source": [
    "countsDf[countsDf.genome_species.str.contains('Proteus mirabilis')][['Total Count', 'Study Count']].sum()"
   ]
  },
  {
   "cell_type": "markdown",
   "metadata": {},
   "source": [
    "### Raoultella ornithinolytica"
   ]
  },
  {
   "cell_type": "code",
   "execution_count": 61,
   "metadata": {},
   "outputs": [
    {
     "data": {
      "text/plain": [
       "Total Count    6.0\n",
       "Study Count    5.0\n",
       "dtype: float64"
      ]
     },
     "execution_count": 61,
     "metadata": {},
     "output_type": "execute_result"
    }
   ],
   "source": [
    "countsDf[countsDf.genome_species.str.contains('Raoultella ornithinolytica')][['Total Count', 'Study Count']].sum()"
   ]
  },
  {
   "cell_type": "markdown",
   "metadata": {},
   "source": [
    "### Raoultella planticola"
   ]
  },
  {
   "cell_type": "code",
   "execution_count": 62,
   "metadata": {},
   "outputs": [
    {
     "data": {
      "text/plain": [
       "Total Count    4.0\n",
       "Study Count    4.0\n",
       "dtype: float64"
      ]
     },
     "execution_count": 62,
     "metadata": {},
     "output_type": "execute_result"
    }
   ],
   "source": [
    "countsDf[countsDf.genome_species.str.contains('Raoultella planticola')][['Total Count', 'Study Count']].sum()"
   ]
  },
  {
   "cell_type": "markdown",
   "metadata": {},
   "source": [
    "### Serratia marcescens"
   ]
  },
  {
   "cell_type": "code",
   "execution_count": 63,
   "metadata": {},
   "outputs": [
    {
     "data": {
      "text/plain": [
       "Total Count    40.0\n",
       "Study Count    39.0\n",
       "dtype: float64"
      ]
     },
     "execution_count": 63,
     "metadata": {},
     "output_type": "execute_result"
    }
   ],
   "source": [
    "countsDf[countsDf.genome_species.str.contains('Serratia marcescens')][['Total Count', 'Study Count']].sum()"
   ]
  },
  {
   "cell_type": "markdown",
   "metadata": {},
   "source": [
    "## Gram positives"
   ]
  },
  {
   "cell_type": "markdown",
   "metadata": {},
   "source": [
    "### Staphylococcus aureus"
   ]
  },
  {
   "cell_type": "code",
   "execution_count": 65,
   "metadata": {},
   "outputs": [
    {
     "data": {
      "text/plain": [
       "Total Count    557.0\n",
       "Study Count    530.0\n",
       "dtype: float64"
      ]
     },
     "execution_count": 65,
     "metadata": {},
     "output_type": "execute_result"
    }
   ],
   "source": [
    "countsDf[countsDf.genome_species.str.contains('Staphylococcus aureus')][['Total Count', 'Study Count']].sum()"
   ]
  },
  {
   "cell_type": "markdown",
   "metadata": {},
   "source": [
    "### Enterococcus faecalis"
   ]
  },
  {
   "cell_type": "code",
   "execution_count": 66,
   "metadata": {},
   "outputs": [
    {
     "data": {
      "text/plain": [
       "Total Count    151.0\n",
       "Study Count    139.0\n",
       "dtype: float64"
      ]
     },
     "execution_count": 66,
     "metadata": {},
     "output_type": "execute_result"
    }
   ],
   "source": [
    "countsDf[countsDf.genome_species.str.contains('Enterococcus faecalis')][['Total Count', 'Study Count']].sum()"
   ]
  },
  {
   "cell_type": "markdown",
   "metadata": {},
   "source": [
    "### Enterococcus faecium"
   ]
  },
  {
   "cell_type": "code",
   "execution_count": 67,
   "metadata": {},
   "outputs": [
    {
     "data": {
      "text/plain": [
       "Total Count    220.0\n",
       "Study Count    213.0\n",
       "dtype: float64"
      ]
     },
     "execution_count": 67,
     "metadata": {},
     "output_type": "execute_result"
    }
   ],
   "source": [
    "countsDf[countsDf.genome_species.str.contains('Enterococcus faecium')][['Total Count', 'Study Count']].sum()"
   ]
  },
  {
   "cell_type": "markdown",
   "metadata": {},
   "source": [
    "### Enterococcus Other"
   ]
  },
  {
   "cell_type": "code",
   "execution_count": 69,
   "metadata": {},
   "outputs": [
    {
     "data": {
      "text/html": [
       "<div>\n",
       "<style scoped>\n",
       "    .dataframe tbody tr th:only-of-type {\n",
       "        vertical-align: middle;\n",
       "    }\n",
       "\n",
       "    .dataframe tbody tr th {\n",
       "        vertical-align: top;\n",
       "    }\n",
       "\n",
       "    .dataframe thead th {\n",
       "        text-align: right;\n",
       "    }\n",
       "</style>\n",
       "<table border=\"1\" class=\"dataframe\">\n",
       "  <thead>\n",
       "    <tr style=\"text-align: right;\">\n",
       "      <th></th>\n",
       "      <th>genome_species</th>\n",
       "      <th>Total Count</th>\n",
       "      <th>Study Count</th>\n",
       "    </tr>\n",
       "  </thead>\n",
       "  <tbody>\n",
       "    <tr>\n",
       "      <th>2</th>\n",
       "      <td>Enterococcus faecium</td>\n",
       "      <td>220</td>\n",
       "      <td>213.0</td>\n",
       "    </tr>\n",
       "    <tr>\n",
       "      <th>4</th>\n",
       "      <td>Enterococcus faecalis</td>\n",
       "      <td>151</td>\n",
       "      <td>139.0</td>\n",
       "    </tr>\n",
       "    <tr>\n",
       "      <th>44</th>\n",
       "      <td>Enterococcus gallinarum</td>\n",
       "      <td>5</td>\n",
       "      <td>4.0</td>\n",
       "    </tr>\n",
       "    <tr>\n",
       "      <th>58</th>\n",
       "      <td>Enterococcus casseliflavus</td>\n",
       "      <td>3</td>\n",
       "      <td>2.0</td>\n",
       "    </tr>\n",
       "    <tr>\n",
       "      <th>68</th>\n",
       "      <td>Enterococcus raffinosus</td>\n",
       "      <td>2</td>\n",
       "      <td>NaN</td>\n",
       "    </tr>\n",
       "    <tr>\n",
       "      <th>78</th>\n",
       "      <td>Enterococcus avium</td>\n",
       "      <td>1</td>\n",
       "      <td>1.0</td>\n",
       "    </tr>\n",
       "    <tr>\n",
       "      <th>87</th>\n",
       "      <td>Enterococcus durans</td>\n",
       "      <td>1</td>\n",
       "      <td>1.0</td>\n",
       "    </tr>\n",
       "  </tbody>\n",
       "</table>\n",
       "</div>"
      ],
      "text/plain": [
       "                genome_species  Total Count  Study Count\n",
       "2         Enterococcus faecium          220        213.0\n",
       "4        Enterococcus faecalis          151        139.0\n",
       "44     Enterococcus gallinarum            5          4.0\n",
       "58  Enterococcus casseliflavus            3          2.0\n",
       "68     Enterococcus raffinosus            2          NaN\n",
       "78          Enterococcus avium            1          1.0\n",
       "87         Enterococcus durans            1          1.0"
      ]
     },
     "execution_count": 69,
     "metadata": {},
     "output_type": "execute_result"
    }
   ],
   "source": [
    "countsDf[countsDf.genome_species.str.contains('Enterococcus')]"
   ]
  },
  {
   "cell_type": "markdown",
   "metadata": {},
   "source": [
    "### Streptococcus pyogenes"
   ]
  },
  {
   "cell_type": "code",
   "execution_count": 70,
   "metadata": {},
   "outputs": [
    {
     "data": {
      "text/plain": [
       "Total Count    37.0\n",
       "Study Count    35.0\n",
       "dtype: float64"
      ]
     },
     "execution_count": 70,
     "metadata": {},
     "output_type": "execute_result"
    }
   ],
   "source": [
    "countsDf[countsDf.genome_species.str.contains('Streptococcus pyogenes')][['Total Count', 'Study Count']].sum()"
   ]
  },
  {
   "cell_type": "markdown",
   "metadata": {},
   "source": [
    "### Steptococcus agalactiae"
   ]
  },
  {
   "cell_type": "code",
   "execution_count": 71,
   "metadata": {},
   "outputs": [
    {
     "data": {
      "text/plain": [
       "Total Count    57.0\n",
       "Study Count    52.0\n",
       "dtype: float64"
      ]
     },
     "execution_count": 71,
     "metadata": {},
     "output_type": "execute_result"
    }
   ],
   "source": [
    "countsDf[countsDf.genome_species.str.contains('Streptococcus agalactiae')][['Total Count', 'Study Count']].sum()"
   ]
  },
  {
   "cell_type": "markdown",
   "metadata": {},
   "source": [
    "### Streptococcus dysgalactiae"
   ]
  },
  {
   "cell_type": "code",
   "execution_count": 72,
   "metadata": {},
   "outputs": [
    {
     "data": {
      "text/plain": [
       "Total Count    58.0\n",
       "Study Count    56.0\n",
       "dtype: float64"
      ]
     },
     "execution_count": 72,
     "metadata": {},
     "output_type": "execute_result"
    }
   ],
   "source": [
    "countsDf[countsDf.genome_species.str.contains('Streptococcus dysgalactiae')][['Total Count', 'Study Count']].sum()"
   ]
  },
  {
   "cell_type": "markdown",
   "metadata": {},
   "source": [
    "### streptococcus mitis group"
   ]
  },
  {
   "cell_type": "code",
   "execution_count": 73,
   "metadata": {},
   "outputs": [
    {
     "data": {
      "text/plain": [
       "Total Count    35.0\n",
       "Study Count    32.0\n",
       "dtype: float64"
      ]
     },
     "execution_count": 73,
     "metadata": {},
     "output_type": "execute_result"
    }
   ],
   "source": [
    "countsDf[countsDf.genome_species.str.contains('mitis')][['Total Count', 'Study Count']].sum()"
   ]
  },
  {
   "cell_type": "markdown",
   "metadata": {},
   "source": [
    "### Streptococcus salivarius group"
   ]
  },
  {
   "cell_type": "code",
   "execution_count": 74,
   "metadata": {},
   "outputs": [
    {
     "data": {
      "text/plain": [
       "Total Count    41.0\n",
       "Study Count    38.0\n",
       "dtype: float64"
      ]
     },
     "execution_count": 74,
     "metadata": {},
     "output_type": "execute_result"
    }
   ],
   "source": [
    "countsDf[countsDf.genome_species.str.contains('Streptococcus salivarius')][['Total Count', 'Study Count']].sum()"
   ]
  },
  {
   "cell_type": "markdown",
   "metadata": {},
   "source": [
    "### Streptococcus anginosus group"
   ]
  },
  {
   "cell_type": "code",
   "execution_count": 75,
   "metadata": {},
   "outputs": [
    {
     "data": {
      "text/plain": [
       "Total Count    28.0\n",
       "Study Count    28.0\n",
       "dtype: float64"
      ]
     },
     "execution_count": 75,
     "metadata": {},
     "output_type": "execute_result"
    }
   ],
   "source": [
    "countsDf[countsDf.genome_species.str.contains('Streptococcus anginosus')][['Total Count', 'Study Count']].sum()"
   ]
  },
  {
   "cell_type": "markdown",
   "metadata": {},
   "source": [
    "### Streptococcus bovis group"
   ]
  },
  {
   "cell_type": "code",
   "execution_count": 76,
   "metadata": {},
   "outputs": [
    {
     "data": {
      "text/plain": [
       "Total Count    0.0\n",
       "Study Count    0.0\n",
       "dtype: float64"
      ]
     },
     "execution_count": 76,
     "metadata": {},
     "output_type": "execute_result"
    }
   ],
   "source": [
    "countsDf[countsDf.genome_species.str.contains('Streptococcus bovis')][['Total Count', 'Study Count']].sum()"
   ]
  },
  {
   "cell_type": "markdown",
   "metadata": {},
   "source": [
    "### Streptococcus mutans group"
   ]
  },
  {
   "cell_type": "code",
   "execution_count": 77,
   "metadata": {},
   "outputs": [
    {
     "data": {
      "text/plain": [
       "Total Count    3.0\n",
       "Study Count    3.0\n",
       "dtype: float64"
      ]
     },
     "execution_count": 77,
     "metadata": {},
     "output_type": "execute_result"
    }
   ],
   "source": [
    "countsDf[countsDf.genome_species.str.contains('Streptococcus mutans')][['Total Count', 'Study Count']].sum()"
   ]
  },
  {
   "cell_type": "markdown",
   "metadata": {},
   "source": [
    "### Streptococcus sanguinis group"
   ]
  },
  {
   "cell_type": "code",
   "execution_count": 78,
   "metadata": {},
   "outputs": [
    {
     "data": {
      "text/plain": [
       "Total Count    22.0\n",
       "Study Count    22.0\n",
       "dtype: float64"
      ]
     },
     "execution_count": 78,
     "metadata": {},
     "output_type": "execute_result"
    }
   ],
   "source": [
    "countsDf[countsDf.genome_species.str.contains('Streptococcus sanguinis')][['Total Count', 'Study Count']].sum()"
   ]
  },
  {
   "cell_type": "markdown",
   "metadata": {},
   "source": [
    "### Streptococcus pneumoniae"
   ]
  },
  {
   "cell_type": "code",
   "execution_count": 79,
   "metadata": {},
   "outputs": [
    {
     "data": {
      "text/plain": [
       "Total Count    40.0\n",
       "Study Count    36.0\n",
       "dtype: float64"
      ]
     },
     "execution_count": 79,
     "metadata": {},
     "output_type": "execute_result"
    }
   ],
   "source": [
    "countsDf[countsDf.genome_species.str.contains('Streptococcus pneumoniae')][['Total Count', 'Study Count']].sum()"
   ]
  }
 ],
 "metadata": {
  "kernelspec": {
   "display_name": ".venv",
   "language": "python",
   "name": "python3"
  },
  "language_info": {
   "codemirror_mode": {
    "name": "ipython",
    "version": 3
   },
   "file_extension": ".py",
   "mimetype": "text/x-python",
   "name": "python",
   "nbconvert_exporter": "python",
   "pygments_lexer": "ipython3",
   "version": "3.10.12"
  }
 },
 "nbformat": 4,
 "nbformat_minor": 2
}
