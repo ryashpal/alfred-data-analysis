{
 "cells": [
  {
   "cell_type": "markdown",
   "metadata": {},
   "source": [
    "# Run clustal omega"
   ]
  },
  {
   "cell_type": "markdown",
   "metadata": {},
   "source": [
    "Run the following command:\n",
    "\n",
    "```\n",
    "    clustalo -i annotations/s_aureus/gene_sequences/ess_system/sequence.fna -o annotations/s_aureus/gene_sequences/ess_system/aligned.fna --distmat-out annotations/s_aureus/gene_sequences/ess_system/distmat.txt --guidetree-out annotations/s_aureus/gene_sequences/ess_system/tree.nwk --full --force\n",
    "```"
   ]
  }
 ],
 "metadata": {
  "language_info": {
   "name": "python"
  }
 },
 "nbformat": 4,
 "nbformat_minor": 2
}
