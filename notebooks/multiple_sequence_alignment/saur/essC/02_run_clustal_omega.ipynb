{
 "cells": [
  {
   "cell_type": "markdown",
   "metadata": {},
   "source": [
    "# Run clustal omega"
   ]
  },
  {
   "cell_type": "markdown",
   "metadata": {},
   "source": [
    "Run the following command:\n",
    "\n",
    "```\n",
    "    clustalo -i <Genomic data path>/essC.fna -o <Genomic data path>/essC_aligned.fna --distmat-out <Genomic data path>/essC_distmat.txt --guidetree-out <Genomic data path>/essC_tree.nwk --full --force\n",
    "```"
   ]
  }
 ],
 "metadata": {
  "language_info": {
   "name": "python"
  }
 },
 "nbformat": 4,
 "nbformat_minor": 2
}
