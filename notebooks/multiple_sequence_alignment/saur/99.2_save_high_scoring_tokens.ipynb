{
 "cells": [
  {
   "cell_type": "markdown",
   "metadata": {},
   "source": [
    "# Save high-scoring tokens for SAUR cohort"
   ]
  },
  {
   "cell_type": "code",
   "execution_count": 1,
   "metadata": {},
   "outputs": [],
   "source": [
    "import pandas as pd\n",
    "\n",
    "\n",
    "pd.set_option(\"display.max_columns\", None) # show all cols\n",
    "pd.set_option('display.max_colwidth', None) # show full width of showing cols\n",
    "pd.set_option(\"display.expand_frame_repr\", False) # print cols side by side as it's supposed to be"
   ]
  },
  {
   "cell_type": "markdown",
   "metadata": {},
   "source": [
    "## Read token information from bed files"
   ]
  },
  {
   "cell_type": "code",
   "execution_count": 2,
   "metadata": {},
   "outputs": [
    {
     "data": {
      "text/html": [
       "<div>\n",
       "<style scoped>\n",
       "    .dataframe tbody tr th:only-of-type {\n",
       "        vertical-align: middle;\n",
       "    }\n",
       "\n",
       "    .dataframe tbody tr th {\n",
       "        vertical-align: top;\n",
       "    }\n",
       "\n",
       "    .dataframe thead th {\n",
       "        text-align: right;\n",
       "    }\n",
       "</style>\n",
       "<table border=\"1\" class=\"dataframe\">\n",
       "  <thead>\n",
       "    <tr style=\"text-align: right;\">\n",
       "      <th></th>\n",
       "      <th>contig_id</th>\n",
       "      <th>start_position</th>\n",
       "      <th>end_position</th>\n",
       "      <th>tokens</th>\n",
       "      <th>score</th>\n",
       "      <th>tube_id</th>\n",
       "    </tr>\n",
       "  </thead>\n",
       "  <tbody>\n",
       "    <tr>\n",
       "      <th>0</th>\n",
       "      <td>1</td>\n",
       "      <td>0</td>\n",
       "      <td>6</td>\n",
       "      <td>TTTTCTT</td>\n",
       "      <td>0.000064</td>\n",
       "      <td>ALF22G140</td>\n",
       "    </tr>\n",
       "    <tr>\n",
       "      <th>1</th>\n",
       "      <td>1</td>\n",
       "      <td>7</td>\n",
       "      <td>9</td>\n",
       "      <td>ACC</td>\n",
       "      <td>-0.000395</td>\n",
       "      <td>ALF22G140</td>\n",
       "    </tr>\n",
       "    <tr>\n",
       "      <th>2</th>\n",
       "      <td>1</td>\n",
       "      <td>10</td>\n",
       "      <td>13</td>\n",
       "      <td>GACA</td>\n",
       "      <td>0.001573</td>\n",
       "      <td>ALF22G140</td>\n",
       "    </tr>\n",
       "    <tr>\n",
       "      <th>3</th>\n",
       "      <td>1</td>\n",
       "      <td>14</td>\n",
       "      <td>18</td>\n",
       "      <td>AGAAT</td>\n",
       "      <td>-0.000986</td>\n",
       "      <td>ALF22G140</td>\n",
       "    </tr>\n",
       "    <tr>\n",
       "      <th>4</th>\n",
       "      <td>1</td>\n",
       "      <td>19</td>\n",
       "      <td>25</td>\n",
       "      <td>TAATTAT</td>\n",
       "      <td>0.000795</td>\n",
       "      <td>ALF22G140</td>\n",
       "    </tr>\n",
       "    <tr>\n",
       "      <th>...</th>\n",
       "      <td>...</td>\n",
       "      <td>...</td>\n",
       "      <td>...</td>\n",
       "      <td>...</td>\n",
       "      <td>...</td>\n",
       "      <td>...</td>\n",
       "    </tr>\n",
       "    <tr>\n",
       "      <th>176721937</th>\n",
       "      <td>5</td>\n",
       "      <td>181665</td>\n",
       "      <td>181667</td>\n",
       "      <td>CGG</td>\n",
       "      <td>-0.002273</td>\n",
       "      <td>AH21C044</td>\n",
       "    </tr>\n",
       "    <tr>\n",
       "      <th>176721938</th>\n",
       "      <td>5</td>\n",
       "      <td>181668</td>\n",
       "      <td>181673</td>\n",
       "      <td>CTCATC</td>\n",
       "      <td>-0.001735</td>\n",
       "      <td>AH21C044</td>\n",
       "    </tr>\n",
       "    <tr>\n",
       "      <th>176721939</th>\n",
       "      <td>5</td>\n",
       "      <td>181674</td>\n",
       "      <td>181676</td>\n",
       "      <td>GCA</td>\n",
       "      <td>-0.003468</td>\n",
       "      <td>AH21C044</td>\n",
       "    </tr>\n",
       "    <tr>\n",
       "      <th>176721940</th>\n",
       "      <td>5</td>\n",
       "      <td>181677</td>\n",
       "      <td>181680</td>\n",
       "      <td>TCCA</td>\n",
       "      <td>-0.000228</td>\n",
       "      <td>AH21C044</td>\n",
       "    </tr>\n",
       "    <tr>\n",
       "      <th>176721941</th>\n",
       "      <td>5</td>\n",
       "      <td>181681</td>\n",
       "      <td>181685</td>\n",
       "      <td>CTTTT</td>\n",
       "      <td>-0.003030</td>\n",
       "      <td>AH21C044</td>\n",
       "    </tr>\n",
       "  </tbody>\n",
       "</table>\n",
       "<p>176721942 rows × 6 columns</p>\n",
       "</div>"
      ],
      "text/plain": [
       "           contig_id  start_position  end_position   tokens     score    tube_id\n",
       "0                  1               0             6  TTTTCTT  0.000064  ALF22G140\n",
       "1                  1               7             9      ACC -0.000395  ALF22G140\n",
       "2                  1              10            13     GACA  0.001573  ALF22G140\n",
       "3                  1              14            18    AGAAT -0.000986  ALF22G140\n",
       "4                  1              19            25  TAATTAT  0.000795  ALF22G140\n",
       "...              ...             ...           ...      ...       ...        ...\n",
       "176721937          5          181665        181667      CGG -0.002273   AH21C044\n",
       "176721938          5          181668        181673   CTCATC -0.001735   AH21C044\n",
       "176721939          5          181674        181676      GCA -0.003468   AH21C044\n",
       "176721940          5          181677        181680     TCCA -0.000228   AH21C044\n",
       "176721941          5          181681        181685    CTTTT -0.003030   AH21C044\n",
       "\n",
       "[176721942 rows x 6 columns]"
      ]
     },
     "execution_count": 2,
     "metadata": {},
     "output_type": "execute_result"
    }
   ],
   "source": [
    "import os\n",
    "import pandas as pd\n",
    "from pathlib import Path\n",
    "\n",
    "\n",
    "bedDir = Path(os.environ['GENOMICS_DATA_BASE'], 'genome_nlp_tokens', 'bed_files', 'SAUR')\n",
    "\n",
    "bedDfList = []\n",
    "for bedFile in os.listdir(bedDir):\n",
    "    tubeid = bedFile.split('.')[0].split('_')[0]\n",
    "    tokensDf = pd.read_csv(Path(bedDir, bedFile), sep='\\t', names=['contig_id', 'start_position', 'end_position', 'tokens', 'score'])\n",
    "    tokensDf['tube_id'] = tubeid\n",
    "    bedDfList.append(tokensDf)\n",
    "\n",
    "bedDf = pd.concat(bedDfList, ignore_index=True)\n",
    "bedDf"
   ]
  },
  {
   "cell_type": "code",
   "execution_count": 3,
   "metadata": {},
   "outputs": [
    {
     "data": {
      "text/plain": [
       "<Axes: >"
      ]
     },
     "execution_count": 3,
     "metadata": {},
     "output_type": "execute_result"
    },
    {
     "data": {
      "image/png": "[encoded data removed]",
      "text/plain": [
       "<Figure size 640x480 with 1 Axes>"
      ]
     },
     "metadata": {},
     "output_type": "display_data"
    }
   ],
   "source": [
    "bedDf[(bedDf.score > -0.1) & (bedDf.score < 0.15)].score.hist(bins=100)"
   ]
  },
  {
   "cell_type": "code",
   "execution_count": 4,
   "metadata": {},
   "outputs": [
    {
     "data": {
      "text/html": [
       "<div>\n",
       "<style scoped>\n",
       "    .dataframe tbody tr th:only-of-type {\n",
       "        vertical-align: middle;\n",
       "    }\n",
       "\n",
       "    .dataframe tbody tr th {\n",
       "        vertical-align: top;\n",
       "    }\n",
       "\n",
       "    .dataframe thead th {\n",
       "        text-align: right;\n",
       "    }\n",
       "</style>\n",
       "<table border=\"1\" class=\"dataframe\">\n",
       "  <thead>\n",
       "    <tr style=\"text-align: right;\">\n",
       "      <th></th>\n",
       "      <th>contig_id</th>\n",
       "      <th>start_position</th>\n",
       "      <th>end_position</th>\n",
       "      <th>tokens</th>\n",
       "      <th>score</th>\n",
       "      <th>tube_id</th>\n",
       "      <th>token_length</th>\n",
       "    </tr>\n",
       "  </thead>\n",
       "  <tbody>\n",
       "    <tr>\n",
       "      <th>0</th>\n",
       "      <td>1</td>\n",
       "      <td>0</td>\n",
       "      <td>6</td>\n",
       "      <td>TTTTCTT</td>\n",
       "      <td>0.000064</td>\n",
       "      <td>ALF22G140</td>\n",
       "      <td>7</td>\n",
       "    </tr>\n",
       "    <tr>\n",
       "      <th>1</th>\n",
       "      <td>1</td>\n",
       "      <td>7</td>\n",
       "      <td>9</td>\n",
       "      <td>ACC</td>\n",
       "      <td>-0.000395</td>\n",
       "      <td>ALF22G140</td>\n",
       "      <td>3</td>\n",
       "    </tr>\n",
       "    <tr>\n",
       "      <th>2</th>\n",
       "      <td>1</td>\n",
       "      <td>10</td>\n",
       "      <td>13</td>\n",
       "      <td>GACA</td>\n",
       "      <td>0.001573</td>\n",
       "      <td>ALF22G140</td>\n",
       "      <td>4</td>\n",
       "    </tr>\n",
       "    <tr>\n",
       "      <th>3</th>\n",
       "      <td>1</td>\n",
       "      <td>14</td>\n",
       "      <td>18</td>\n",
       "      <td>AGAAT</td>\n",
       "      <td>-0.000986</td>\n",
       "      <td>ALF22G140</td>\n",
       "      <td>5</td>\n",
       "    </tr>\n",
       "    <tr>\n",
       "      <th>4</th>\n",
       "      <td>1</td>\n",
       "      <td>19</td>\n",
       "      <td>25</td>\n",
       "      <td>TAATTAT</td>\n",
       "      <td>0.000795</td>\n",
       "      <td>ALF22G140</td>\n",
       "      <td>7</td>\n",
       "    </tr>\n",
       "    <tr>\n",
       "      <th>...</th>\n",
       "      <td>...</td>\n",
       "      <td>...</td>\n",
       "      <td>...</td>\n",
       "      <td>...</td>\n",
       "      <td>...</td>\n",
       "      <td>...</td>\n",
       "      <td>...</td>\n",
       "    </tr>\n",
       "    <tr>\n",
       "      <th>176721937</th>\n",
       "      <td>5</td>\n",
       "      <td>181665</td>\n",
       "      <td>181667</td>\n",
       "      <td>CGG</td>\n",
       "      <td>-0.002273</td>\n",
       "      <td>AH21C044</td>\n",
       "      <td>3</td>\n",
       "    </tr>\n",
       "    <tr>\n",
       "      <th>176721938</th>\n",
       "      <td>5</td>\n",
       "      <td>181668</td>\n",
       "      <td>181673</td>\n",
       "      <td>CTCATC</td>\n",
       "      <td>-0.001735</td>\n",
       "      <td>AH21C044</td>\n",
       "      <td>6</td>\n",
       "    </tr>\n",
       "    <tr>\n",
       "      <th>176721939</th>\n",
       "      <td>5</td>\n",
       "      <td>181674</td>\n",
       "      <td>181676</td>\n",
       "      <td>GCA</td>\n",
       "      <td>-0.003468</td>\n",
       "      <td>AH21C044</td>\n",
       "      <td>3</td>\n",
       "    </tr>\n",
       "    <tr>\n",
       "      <th>176721940</th>\n",
       "      <td>5</td>\n",
       "      <td>181677</td>\n",
       "      <td>181680</td>\n",
       "      <td>TCCA</td>\n",
       "      <td>-0.000228</td>\n",
       "      <td>AH21C044</td>\n",
       "      <td>4</td>\n",
       "    </tr>\n",
       "    <tr>\n",
       "      <th>176721941</th>\n",
       "      <td>5</td>\n",
       "      <td>181681</td>\n",
       "      <td>181685</td>\n",
       "      <td>CTTTT</td>\n",
       "      <td>-0.003030</td>\n",
       "      <td>AH21C044</td>\n",
       "      <td>5</td>\n",
       "    </tr>\n",
       "  </tbody>\n",
       "</table>\n",
       "<p>176721942 rows × 7 columns</p>\n",
       "</div>"
      ],
      "text/plain": [
       "           contig_id  start_position  end_position   tokens     score    tube_id  token_length\n",
       "0                  1               0             6  TTTTCTT  0.000064  ALF22G140             7\n",
       "1                  1               7             9      ACC -0.000395  ALF22G140             3\n",
       "2                  1              10            13     GACA  0.001573  ALF22G140             4\n",
       "3                  1              14            18    AGAAT -0.000986  ALF22G140             5\n",
       "4                  1              19            25  TAATTAT  0.000795  ALF22G140             7\n",
       "...              ...             ...           ...      ...       ...        ...           ...\n",
       "176721937          5          181665        181667      CGG -0.002273   AH21C044             3\n",
       "176721938          5          181668        181673   CTCATC -0.001735   AH21C044             6\n",
       "176721939          5          181674        181676      GCA -0.003468   AH21C044             3\n",
       "176721940          5          181677        181680     TCCA -0.000228   AH21C044             4\n",
       "176721941          5          181681        181685    CTTTT -0.003030   AH21C044             5\n",
       "\n",
       "[176721942 rows x 7 columns]"
      ]
     },
     "execution_count": 4,
     "metadata": {},
     "output_type": "execute_result"
    }
   ],
   "source": [
    "bedDf['token_length'] = bedDf.tokens.apply(lambda x: len(x))\n",
    "bedDf"
   ]
  },
  {
   "cell_type": "code",
   "execution_count": 5,
   "metadata": {},
   "outputs": [
    {
     "data": {
      "text/plain": [
       "3894"
      ]
     },
     "execution_count": 5,
     "metadata": {},
     "output_type": "execute_result"
    }
   ],
   "source": [
    "len(bedDf.tokens.unique())"
   ]
  },
  {
   "cell_type": "code",
   "execution_count": 6,
   "metadata": {},
   "outputs": [
    {
     "data": {
      "text/plain": [
       "np.float64(0.012133979502852287)"
      ]
     },
     "execution_count": 6,
     "metadata": {},
     "output_type": "execute_result"
    }
   ],
   "source": [
    "highscoreCutoff = bedDf.score.mean() + 3 * bedDf.score.std()\n",
    "highscoreCutoff"
   ]
  },
  {
   "cell_type": "code",
   "execution_count": 7,
   "metadata": {},
   "outputs": [
    {
     "data": {
      "text/html": [
       "<div>\n",
       "<style scoped>\n",
       "    .dataframe tbody tr th:only-of-type {\n",
       "        vertical-align: middle;\n",
       "    }\n",
       "\n",
       "    .dataframe tbody tr th {\n",
       "        vertical-align: top;\n",
       "    }\n",
       "\n",
       "    .dataframe thead th {\n",
       "        text-align: right;\n",
       "    }\n",
       "</style>\n",
       "<table border=\"1\" class=\"dataframe\">\n",
       "  <thead>\n",
       "    <tr style=\"text-align: right;\">\n",
       "      <th></th>\n",
       "      <th>contig_id</th>\n",
       "      <th>start_position</th>\n",
       "      <th>end_position</th>\n",
       "      <th>tokens</th>\n",
       "      <th>score</th>\n",
       "      <th>tube_id</th>\n",
       "      <th>token_length</th>\n",
       "    </tr>\n",
       "  </thead>\n",
       "  <tbody>\n",
       "    <tr>\n",
       "      <th>13703</th>\n",
       "      <td>1</td>\n",
       "      <td>75447</td>\n",
       "      <td>75454</td>\n",
       "      <td>TATACTTT</td>\n",
       "      <td>0.013623</td>\n",
       "      <td>ALF22G140</td>\n",
       "      <td>8</td>\n",
       "    </tr>\n",
       "    <tr>\n",
       "      <th>13725</th>\n",
       "      <td>1</td>\n",
       "      <td>75567</td>\n",
       "      <td>75572</td>\n",
       "      <td>CCTGAG</td>\n",
       "      <td>0.015546</td>\n",
       "      <td>ALF22G140</td>\n",
       "      <td>6</td>\n",
       "    </tr>\n",
       "    <tr>\n",
       "      <th>13753</th>\n",
       "      <td>1</td>\n",
       "      <td>75724</td>\n",
       "      <td>75731</td>\n",
       "      <td>CTGCACCC</td>\n",
       "      <td>0.018303</td>\n",
       "      <td>ALF22G140</td>\n",
       "      <td>8</td>\n",
       "    </tr>\n",
       "    <tr>\n",
       "      <th>13800</th>\n",
       "      <td>1</td>\n",
       "      <td>75977</td>\n",
       "      <td>75982</td>\n",
       "      <td>AGGGAA</td>\n",
       "      <td>0.020379</td>\n",
       "      <td>ALF22G140</td>\n",
       "      <td>6</td>\n",
       "    </tr>\n",
       "    <tr>\n",
       "      <th>13834</th>\n",
       "      <td>1</td>\n",
       "      <td>76167</td>\n",
       "      <td>76174</td>\n",
       "      <td>TCAATAAA</td>\n",
       "      <td>0.024790</td>\n",
       "      <td>ALF22G140</td>\n",
       "      <td>8</td>\n",
       "    </tr>\n",
       "    <tr>\n",
       "      <th>...</th>\n",
       "      <td>...</td>\n",
       "      <td>...</td>\n",
       "      <td>...</td>\n",
       "      <td>...</td>\n",
       "      <td>...</td>\n",
       "      <td>...</td>\n",
       "      <td>...</td>\n",
       "    </tr>\n",
       "    <tr>\n",
       "      <th>176698405</th>\n",
       "      <td>5</td>\n",
       "      <td>50494</td>\n",
       "      <td>50499</td>\n",
       "      <td>CCTTTT</td>\n",
       "      <td>0.014881</td>\n",
       "      <td>AH21C044</td>\n",
       "      <td>6</td>\n",
       "    </tr>\n",
       "    <tr>\n",
       "      <th>176698428</th>\n",
       "      <td>5</td>\n",
       "      <td>50610</td>\n",
       "      <td>50616</td>\n",
       "      <td>ATAGTAT</td>\n",
       "      <td>0.015281</td>\n",
       "      <td>AH21C044</td>\n",
       "      <td>7</td>\n",
       "    </tr>\n",
       "    <tr>\n",
       "      <th>176698433</th>\n",
       "      <td>5</td>\n",
       "      <td>50635</td>\n",
       "      <td>50641</td>\n",
       "      <td>AATGTTT</td>\n",
       "      <td>0.016897</td>\n",
       "      <td>AH21C044</td>\n",
       "      <td>7</td>\n",
       "    </tr>\n",
       "    <tr>\n",
       "      <th>176698513</th>\n",
       "      <td>5</td>\n",
       "      <td>51074</td>\n",
       "      <td>51079</td>\n",
       "      <td>GGCGCG</td>\n",
       "      <td>0.015019</td>\n",
       "      <td>AH21C044</td>\n",
       "      <td>6</td>\n",
       "    </tr>\n",
       "    <tr>\n",
       "      <th>176698639</th>\n",
       "      <td>5</td>\n",
       "      <td>51802</td>\n",
       "      <td>51807</td>\n",
       "      <td>AAATAT</td>\n",
       "      <td>0.013009</td>\n",
       "      <td>AH21C044</td>\n",
       "      <td>6</td>\n",
       "    </tr>\n",
       "  </tbody>\n",
       "</table>\n",
       "<p>174753 rows × 7 columns</p>\n",
       "</div>"
      ],
      "text/plain": [
       "           contig_id  start_position  end_position    tokens     score    tube_id  token_length\n",
       "13703              1           75447         75454  TATACTTT  0.013623  ALF22G140             8\n",
       "13725              1           75567         75572    CCTGAG  0.015546  ALF22G140             6\n",
       "13753              1           75724         75731  CTGCACCC  0.018303  ALF22G140             8\n",
       "13800              1           75977         75982    AGGGAA  0.020379  ALF22G140             6\n",
       "13834              1           76167         76174  TCAATAAA  0.024790  ALF22G140             8\n",
       "...              ...             ...           ...       ...       ...        ...           ...\n",
       "176698405          5           50494         50499    CCTTTT  0.014881   AH21C044             6\n",
       "176698428          5           50610         50616   ATAGTAT  0.015281   AH21C044             7\n",
       "176698433          5           50635         50641   AATGTTT  0.016897   AH21C044             7\n",
       "176698513          5           51074         51079    GGCGCG  0.015019   AH21C044             6\n",
       "176698639          5           51802         51807    AAATAT  0.013009   AH21C044             6\n",
       "\n",
       "[174753 rows x 7 columns]"
      ]
     },
     "execution_count": 7,
     "metadata": {},
     "output_type": "execute_result"
    }
   ],
   "source": [
    "highscoreDf = bedDf[(bedDf.score > highscoreCutoff) & (bedDf.token_length > 5)]\n",
    "highscoreDf"
   ]
  },
  {
   "cell_type": "code",
   "execution_count": 8,
   "metadata": {},
   "outputs": [
    {
     "data": {
      "text/plain": [
       "1374"
      ]
     },
     "execution_count": 8,
     "metadata": {},
     "output_type": "execute_result"
    }
   ],
   "source": [
    "len(highscoreDf.tokens.unique())"
   ]
  },
  {
   "cell_type": "code",
   "execution_count": 9,
   "metadata": {},
   "outputs": [
    {
     "data": {
      "text/plain": [
       "(174753, 7)"
      ]
     },
     "execution_count": 9,
     "metadata": {},
     "output_type": "execute_result"
    }
   ],
   "source": [
    "highscoreDf.shape"
   ]
  },
  {
   "cell_type": "code",
   "execution_count": 10,
   "metadata": {},
   "outputs": [
    {
     "data": {
      "text/plain": [
       "<Axes: >"
      ]
     },
     "execution_count": 10,
     "metadata": {},
     "output_type": "execute_result"
    },
    {
     "data": {
      "image/png": "[encoded data removed]",
      "text/plain": [
       "<Figure size 640x480 with 1 Axes>"
      ]
     },
     "metadata": {},
     "output_type": "display_data"
    }
   ],
   "source": [
    "highscoreDf[(highscoreDf.score < 0.3)].score.hist(bins=100)"
   ]
  },
  {
   "cell_type": "code",
   "execution_count": 11,
   "metadata": {},
   "outputs": [
    {
     "data": {
      "text/plain": [
       "token_length\n",
       "6     104579\n",
       "7      51246\n",
       "8      16706\n",
       "9       1348\n",
       "10       798\n",
       "13        73\n",
       "11         3\n",
       "Name: count, dtype: int64"
      ]
     },
     "execution_count": 11,
     "metadata": {},
     "output_type": "execute_result"
    }
   ],
   "source": [
    "highscoreDf.token_length.value_counts()"
   ]
  },
  {
   "cell_type": "code",
   "execution_count": 12,
   "metadata": {},
   "outputs": [
    {
     "data": {
      "text/plain": [
       "<Axes: xlabel='token_length', ylabel='Count'>"
      ]
     },
     "execution_count": 12,
     "metadata": {},
     "output_type": "execute_result"
    },
    {
     "data": {
      "image/png": "[encoded data removed]",
      "text/plain": [
       "<Figure size 640x480 with 1 Axes>"
      ]
     },
     "metadata": {},
     "output_type": "display_data"
    }
   ],
   "source": [
    "import seaborn as sns\n",
    "\n",
    "sns.histplot(highscoreDf.token_length, binwidth=1)"
   ]
  },
  {
   "cell_type": "markdown",
   "metadata": {},
   "source": [
    "## Create a dataframe containing tokens"
   ]
  },
  {
   "cell_type": "code",
   "execution_count": 13,
   "metadata": {},
   "outputs": [
    {
     "data": {
      "text/html": [
       "<div>\n",
       "<style scoped>\n",
       "    .dataframe tbody tr th:only-of-type {\n",
       "        vertical-align: middle;\n",
       "    }\n",
       "\n",
       "    .dataframe tbody tr th {\n",
       "        vertical-align: top;\n",
       "    }\n",
       "\n",
       "    .dataframe thead th {\n",
       "        text-align: right;\n",
       "    }\n",
       "</style>\n",
       "<table border=\"1\" class=\"dataframe\">\n",
       "  <thead>\n",
       "    <tr style=\"text-align: right;\">\n",
       "      <th></th>\n",
       "      <th>0</th>\n",
       "    </tr>\n",
       "  </thead>\n",
       "  <tbody>\n",
       "    <tr>\n",
       "      <th>0</th>\n",
       "      <td>TATACTTT</td>\n",
       "    </tr>\n",
       "    <tr>\n",
       "      <th>1</th>\n",
       "      <td>CCTGAG</td>\n",
       "    </tr>\n",
       "    <tr>\n",
       "      <th>2</th>\n",
       "      <td>CTGCACCC</td>\n",
       "    </tr>\n",
       "    <tr>\n",
       "      <th>3</th>\n",
       "      <td>AGGGAA</td>\n",
       "    </tr>\n",
       "    <tr>\n",
       "      <th>4</th>\n",
       "      <td>TCAATAAA</td>\n",
       "    </tr>\n",
       "    <tr>\n",
       "      <th>...</th>\n",
       "      <td>...</td>\n",
       "    </tr>\n",
       "    <tr>\n",
       "      <th>1369</th>\n",
       "      <td>GCCAAG</td>\n",
       "    </tr>\n",
       "    <tr>\n",
       "      <th>1370</th>\n",
       "      <td>TTTCTTTTTT</td>\n",
       "    </tr>\n",
       "    <tr>\n",
       "      <th>1371</th>\n",
       "      <td>TGGGAAT</td>\n",
       "    </tr>\n",
       "    <tr>\n",
       "      <th>1372</th>\n",
       "      <td>TAGAGT</td>\n",
       "    </tr>\n",
       "    <tr>\n",
       "      <th>1373</th>\n",
       "      <td>ACTACT</td>\n",
       "    </tr>\n",
       "  </tbody>\n",
       "</table>\n",
       "<p>1374 rows × 1 columns</p>\n",
       "</div>"
      ],
      "text/plain": [
       "               0\n",
       "0       TATACTTT\n",
       "1         CCTGAG\n",
       "2       CTGCACCC\n",
       "3         AGGGAA\n",
       "4       TCAATAAA\n",
       "...          ...\n",
       "1369      GCCAAG\n",
       "1370  TTTCTTTTTT\n",
       "1371     TGGGAAT\n",
       "1372      TAGAGT\n",
       "1373      ACTACT\n",
       "\n",
       "[1374 rows x 1 columns]"
      ]
     },
     "execution_count": 13,
     "metadata": {},
     "output_type": "execute_result"
    }
   ],
   "source": [
    "import pandas as pd\n",
    "\n",
    "\n",
    "df = pd.DataFrame(highscoreDf.tokens.unique())\n",
    "df"
   ]
  },
  {
   "cell_type": "markdown",
   "metadata": {},
   "source": [
    "## Save the dataframe to a file"
   ]
  },
  {
   "cell_type": "code",
   "execution_count": 14,
   "metadata": {},
   "outputs": [],
   "source": [
    "import os\n",
    "from pathlib import Path\n",
    "\n",
    "\n",
    "df.to_csv(Path(os.environ['EHR_DATA_BASE'], 'data', 'full_cohort', 'saur_high_score_tokens.csv'), index=False, header=None)"
   ]
  }
 ],
 "metadata": {
  "kernelspec": {
   "display_name": ".venv",
   "language": "python",
   "name": "python3"
  },
  "language_info": {
   "codemirror_mode": {
    "name": "ipython",
    "version": 3
   },
   "file_extension": ".py",
   "mimetype": "text/x-python",
   "name": "python",
   "nbconvert_exporter": "python",
   "pygments_lexer": "ipython3",
   "version": "3.10.12"
  }
 },
 "nbformat": 4,
 "nbformat_minor": 2
}
