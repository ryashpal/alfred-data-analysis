{
 "cells": [
  {
   "cell_type": "markdown",
   "metadata": {},
   "source": [
    "# Run clustal omega"
   ]
  },
  {
   "cell_type": "markdown",
   "metadata": {},
   "source": [
    "Run the following command:\n",
    "\n",
    "```\n",
    "    clustalo -i acrF.fna -o acrF_aligned.fna --distmat-out acrF_distmat.txt --guidetree-out acrF_tree.nwk --full --force\n",
    "```"
   ]
  }
 ],
 "metadata": {
  "language_info": {
   "name": "python"
  }
 },
 "nbformat": 4,
 "nbformat_minor": 2
}
