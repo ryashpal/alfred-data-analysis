{
 "cells": [
  {
   "cell_type": "markdown",
   "metadata": {},
   "source": [
    "# Run clustal omega"
   ]
  },
  {
   "cell_type": "markdown",
   "metadata": {},
   "source": [
    "Run the following command:\n",
    "\n",
    "```\n",
    "    clustalo -i sequence.fna -o aligned.fna --distmat-out distmat.txt --guidetree-out tree.nwk --full --force\n",
    "```"
   ]
  }
 ],
 "metadata": {
  "language_info": {
   "name": "python"
  }
 },
 "nbformat": 4,
 "nbformat_minor": 2
}
