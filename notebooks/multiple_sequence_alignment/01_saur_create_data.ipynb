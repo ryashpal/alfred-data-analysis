{
 "cells": [
  {
   "cell_type": "markdown",
   "metadata": {},
   "source": [
    "# Create data to perform Multiple Sequnce Alignment for Staphylococcus aureus cohort"
   ]
  },
  {
   "cell_type": "markdown",
   "metadata": {},
   "source": [
    "## Function to obtain gene locations"
   ]
  },
  {
   "cell_type": "code",
   "execution_count": null,
   "metadata": {},
   "outputs": [],
   "source": [
    "def getGeneLocations(gff3Lines, fasta_start_index, geneName):\n",
    "\n",
    "    import pandas as pd\n",
    "    from io import StringIO\n",
    "\n",
    "    gff3Info = StringIO(\"\".join(gff3Lines[: fasta_start_index]))\n",
    "\n",
    "    df = pd.read_csv(gff3Info, sep='\\t', comment='#', header=None, names=['seq_id', 'source', 'type', 'start', 'end', 'score', 'strand', 'phase', 'attributes'])\n",
    "    df['gene'] = df.attributes.str.split(';').apply(lambda x: [item.split('=')[1] for item in x if item.split('=')[0] == 'gene']).apply(lambda x: x[0] if x else None)\n",
    "\n",
    "    geneDf = df[df.gene == geneName]\n",
    "\n",
    "    if not geneDf.empty:\n",
    "        row = geneDf.iloc[0]\n",
    "        return row.seq_id, row.start, row.end\n",
    "    else:\n",
    "        return None, None, None"
   ]
  },
  {
   "cell_type": "markdown",
   "metadata": {},
   "source": [
    "## Function to obtain sequence of a gene"
   ]
  },
  {
   "cell_type": "code",
   "execution_count": 55,
   "metadata": {},
   "outputs": [],
   "source": [
    "def getSequenceData(gff3Lines, fasta_start_index, seqId, startLocation, endLocation):\n",
    "\n",
    "    from io import StringIO\n",
    "    from Bio import SeqIO\n",
    "\n",
    "    fasta_data = StringIO(\"\".join(gff3Lines[fasta_start_index:]))\n",
    "    seq_dict = SeqIO.to_dict(SeqIO.parse(fasta_data, \"fasta\"))\n",
    "\n",
    "    return seq_dict[seqId][startLocation - 1:endLocation]"
   ]
  },
  {
   "cell_type": "markdown",
   "metadata": {},
   "source": [
    "## Read `essC` gene sequences"
   ]
  },
  {
   "cell_type": "code",
   "execution_count": 76,
   "metadata": {},
   "outputs": [],
   "source": [
    "import os\n",
    "from pathlib import Path\n",
    "\n",
    "from Bio.SeqRecord import SeqRecord\n",
    "\n",
    "\n",
    "fastaData = {}\n",
    "gff3Path = Path(os.environ['GENOMICS_DATA_BASE'], 'annotations', 's_aureus', 'gff3_original')\n",
    "\n",
    "for gff3FileName in os.listdir(gff3Path):\n",
    "\n",
    "    gff3File = Path(gff3Path, gff3FileName)\n",
    "\n",
    "    gff3Lines = []\n",
    "    fasta_start_index = None\n",
    "    with open(gff3File, 'r') as in_handle:\n",
    "        gff3Lines = in_handle.readlines()\n",
    "\n",
    "    for i, line in enumerate(gff3Lines):\n",
    "        if line.strip() == \"##FASTA\":\n",
    "            fasta_start_index = i + 1\n",
    "            break\n",
    "\n",
    "    seq_id, start, end = getGeneLocations(gff3Lines=gff3Lines, fasta_start_index=fasta_start_index, geneName='essC')\n",
    "    if seq_id and start and end:\n",
    "        record = getSequenceData(gff3Lines=gff3Lines, fasta_start_index=fasta_start_index, seqId=str(seq_id), startLocation=start, endLocation=end)\n",
    "        updatedRecord = SeqRecord(record.seq, id=gff3FileName.split('.')[0], name=gff3FileName.split('.')[0], description=gff3FileName.split('.')[0])\n",
    "        fastaData[gff3FileName.split('.')[0]] = updatedRecord"
   ]
  },
  {
   "cell_type": "markdown",
   "metadata": {},
   "source": [
    "## Write fasta file for `essC` gene"
   ]
  },
  {
   "cell_type": "code",
   "execution_count": 79,
   "metadata": {},
   "outputs": [
    {
     "data": {
      "text/plain": [
       "497"
      ]
     },
     "execution_count": 79,
     "metadata": {},
     "output_type": "execute_result"
    }
   ],
   "source": [
    "import os\n",
    "from pathlib import Path\n",
    "\n",
    "from Bio import SeqIO\n",
    "\n",
    "\n",
    "SeqIO.write(fastaData.values(), Path(os.environ['GENOMICS_DATA_BASE'], 'annotations', 's_aureus', 'gene_sequences', 'essC.fna'), 'fasta')"
   ]
  }
 ],
 "metadata": {
  "kernelspec": {
   "display_name": ".venv",
   "language": "python",
   "name": "python3"
  },
  "language_info": {
   "codemirror_mode": {
    "name": "ipython",
    "version": 3
   },
   "file_extension": ".py",
   "mimetype": "text/x-python",
   "name": "python",
   "nbconvert_exporter": "python",
   "pygments_lexer": "ipython3",
   "version": "3.10.12"
  }
 },
 "nbformat": 4,
 "nbformat_minor": 2
}
