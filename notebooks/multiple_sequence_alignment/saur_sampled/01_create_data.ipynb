{
 "cells": [
  {
   "cell_type": "markdown",
   "metadata": {},
   "source": [
    "# Create data to perform Multiple Sequnce Alignment for Staphylococcus aureus cohort (Sampled)"
   ]
  },
  {
   "cell_type": "markdown",
   "metadata": {},
   "source": [
    "## Function to obtain gene locations"
   ]
  },
  {
   "cell_type": "code",
   "execution_count": 1,
   "metadata": {},
   "outputs": [],
   "source": [
    "def getGeneLocations(gff3Lines, fasta_start_index, geneName):\n",
    "\n",
    "    import pandas as pd\n",
    "    from io import StringIO\n",
    "\n",
    "    gff3Info = StringIO(\"\".join(gff3Lines[: fasta_start_index]))\n",
    "\n",
    "    df = pd.read_csv(gff3Info, sep='\\t', comment='#', header=None, names=['seq_id', 'source', 'type', 'start', 'end', 'score', 'strand', 'phase', 'attributes'])\n",
    "    df['gene'] = df.attributes.str.split(';').apply(lambda x: [item.split('=')[1] for item in x if item.split('=')[0] == 'gene']).apply(lambda x: x[0] if x else None)\n",
    "\n",
    "    geneDf = df[df.gene == geneName]\n",
    "\n",
    "    if not geneDf.empty:\n",
    "        row = geneDf.iloc[0]\n",
    "        return row.seq_id, row.start, row.end\n",
    "    else:\n",
    "        return None, None, None\n"
   ]
  },
  {
   "cell_type": "markdown",
   "metadata": {},
   "source": [
    "## Function to obtain sequence of a gene"
   ]
  },
  {
   "cell_type": "code",
   "execution_count": 2,
   "metadata": {},
   "outputs": [],
   "source": [
    "def getSequenceData(gff3Lines, fasta_start_index, seqId, startLocation, endLocation):\n",
    "\n",
    "    from io import StringIO\n",
    "    from Bio import SeqIO\n",
    "\n",
    "    fasta_data = StringIO(\"\".join(gff3Lines[fasta_start_index:]))\n",
    "    seq_dict = SeqIO.to_dict(SeqIO.parse(fasta_data, \"fasta\"))\n",
    "\n",
    "    return seq_dict[seqId][startLocation - 1:endLocation]"
   ]
  },
  {
   "cell_type": "markdown",
   "metadata": {},
   "source": [
    "## Read all tube codes"
   ]
  },
  {
   "cell_type": "code",
   "execution_count": 28,
   "metadata": {},
   "outputs": [
    {
     "data": {
      "text/plain": [
       "557"
      ]
     },
     "execution_count": 28,
     "metadata": {},
     "output_type": "execute_result"
    }
   ],
   "source": [
    "import os\n",
    "from pathlib import Path\n",
    "\n",
    "from Bio.SeqRecord import SeqRecord\n",
    "\n",
    "\n",
    "tubeCodes = []\n",
    "gff3Path = Path(os.environ['GENOMICS_DATA_BASE'], 'annotations', 's_aureus', 'gff3_original_v1')\n",
    "\n",
    "for gff3FileName in os.listdir(gff3Path):\n",
    "\n",
    "    gff3File = Path(gff3Path, gff3FileName)\n",
    "\n",
    "    tubeCode = gff3FileName.split('.')[0]\n",
    "\n",
    "    tubeCodes.append(tubeCode)\n",
    "\n",
    "len(tubeCodes)"
   ]
  },
  {
   "cell_type": "markdown",
   "metadata": {},
   "source": [
    "## Read mortality data"
   ]
  },
  {
   "cell_type": "code",
   "execution_count": 25,
   "metadata": {},
   "outputs": [
    {
     "data": {
      "text/html": [
       "<div>\n",
       "<style scoped>\n",
       "    .dataframe tbody tr th:only-of-type {\n",
       "        vertical-align: middle;\n",
       "    }\n",
       "\n",
       "    .dataframe tbody tr th {\n",
       "        vertical-align: top;\n",
       "    }\n",
       "\n",
       "    .dataframe thead th {\n",
       "        text-align: right;\n",
       "    }\n",
       "</style>\n",
       "<table border=\"1\" class=\"dataframe\">\n",
       "  <thead>\n",
       "    <tr style=\"text-align: right;\">\n",
       "      <th></th>\n",
       "      <th>PATIENT_ID</th>\n",
       "      <th>tube_code</th>\n",
       "      <th>death_7_day</th>\n",
       "      <th>death_14_day</th>\n",
       "      <th>death_30_day</th>\n",
       "    </tr>\n",
       "  </thead>\n",
       "  <tbody>\n",
       "    <tr>\n",
       "      <th>0</th>\n",
       "      <td>18849.0</td>\n",
       "      <td>AH19I003</td>\n",
       "      <td>0</td>\n",
       "      <td>0</td>\n",
       "      <td>0</td>\n",
       "    </tr>\n",
       "    <tr>\n",
       "      <th>1</th>\n",
       "      <td>41308.0</td>\n",
       "      <td>AH21E085</td>\n",
       "      <td>0</td>\n",
       "      <td>0</td>\n",
       "      <td>0</td>\n",
       "    </tr>\n",
       "    <tr>\n",
       "      <th>2</th>\n",
       "      <td>49412.0</td>\n",
       "      <td>ALF22B136</td>\n",
       "      <td>0</td>\n",
       "      <td>0</td>\n",
       "      <td>0</td>\n",
       "    </tr>\n",
       "    <tr>\n",
       "      <th>3</th>\n",
       "      <td>50056.0</td>\n",
       "      <td>AH20B011</td>\n",
       "      <td>0</td>\n",
       "      <td>0</td>\n",
       "      <td>0</td>\n",
       "    </tr>\n",
       "    <tr>\n",
       "      <th>4</th>\n",
       "      <td>51211.0</td>\n",
       "      <td>ALF23D002</td>\n",
       "      <td>0</td>\n",
       "      <td>0</td>\n",
       "      <td>0</td>\n",
       "    </tr>\n",
       "    <tr>\n",
       "      <th>...</th>\n",
       "      <td>...</td>\n",
       "      <td>...</td>\n",
       "      <td>...</td>\n",
       "      <td>...</td>\n",
       "      <td>...</td>\n",
       "    </tr>\n",
       "    <tr>\n",
       "      <th>3079</th>\n",
       "      <td>2680034.0</td>\n",
       "      <td>ALF23C129</td>\n",
       "      <td>1</td>\n",
       "      <td>1</td>\n",
       "      <td>1</td>\n",
       "    </tr>\n",
       "    <tr>\n",
       "      <th>3080</th>\n",
       "      <td>2680486.0</td>\n",
       "      <td>ALF23C135</td>\n",
       "      <td>0</td>\n",
       "      <td>0</td>\n",
       "      <td>0</td>\n",
       "    </tr>\n",
       "    <tr>\n",
       "      <th>3081</th>\n",
       "      <td>2681377.0</td>\n",
       "      <td>ALF23C174</td>\n",
       "      <td>0</td>\n",
       "      <td>0</td>\n",
       "      <td>0</td>\n",
       "    </tr>\n",
       "    <tr>\n",
       "      <th>3082</th>\n",
       "      <td>2682433.0</td>\n",
       "      <td>ALF23C184</td>\n",
       "      <td>0</td>\n",
       "      <td>0</td>\n",
       "      <td>0</td>\n",
       "    </tr>\n",
       "    <tr>\n",
       "      <th>3083</th>\n",
       "      <td>2684042.0</td>\n",
       "      <td>ALF23D001</td>\n",
       "      <td>0</td>\n",
       "      <td>0</td>\n",
       "      <td>0</td>\n",
       "    </tr>\n",
       "  </tbody>\n",
       "</table>\n",
       "<p>3084 rows × 5 columns</p>\n",
       "</div>"
      ],
      "text/plain": [
       "      PATIENT_ID  tube_code  death_7_day  death_14_day  death_30_day\n",
       "0        18849.0   AH19I003            0             0             0\n",
       "1        41308.0   AH21E085            0             0             0\n",
       "2        49412.0  ALF22B136            0             0             0\n",
       "3        50056.0   AH20B011            0             0             0\n",
       "4        51211.0  ALF23D002            0             0             0\n",
       "...          ...        ...          ...           ...           ...\n",
       "3079   2680034.0  ALF23C129            1             1             1\n",
       "3080   2680486.0  ALF23C135            0             0             0\n",
       "3081   2681377.0  ALF23C174            0             0             0\n",
       "3082   2682433.0  ALF23C184            0             0             0\n",
       "3083   2684042.0  ALF23D001            0             0             0\n",
       "\n",
       "[3084 rows x 5 columns]"
      ]
     },
     "execution_count": 25,
     "metadata": {},
     "output_type": "execute_result"
    }
   ],
   "source": [
    "import os\n",
    "from pathlib import Path\n",
    "import pandas as pd\n",
    "\n",
    "\n",
    "mortalityDf = pd.read_csv(Path(os.environ['EHR_DATA_BASE'], 'data', 'full_cohort', 'tube_id_mortality_labels.csv'))\n",
    "mortalityDf"
   ]
  },
  {
   "cell_type": "code",
   "execution_count": 29,
   "metadata": {},
   "outputs": [
    {
     "data": {
      "text/html": [
       "<div>\n",
       "<style scoped>\n",
       "    .dataframe tbody tr th:only-of-type {\n",
       "        vertical-align: middle;\n",
       "    }\n",
       "\n",
       "    .dataframe tbody tr th {\n",
       "        vertical-align: top;\n",
       "    }\n",
       "\n",
       "    .dataframe thead th {\n",
       "        text-align: right;\n",
       "    }\n",
       "</style>\n",
       "<table border=\"1\" class=\"dataframe\">\n",
       "  <thead>\n",
       "    <tr style=\"text-align: right;\">\n",
       "      <th></th>\n",
       "      <th>PATIENT_ID</th>\n",
       "      <th>tube_code</th>\n",
       "      <th>death_7_day</th>\n",
       "      <th>death_14_day</th>\n",
       "      <th>death_30_day</th>\n",
       "    </tr>\n",
       "  </thead>\n",
       "  <tbody>\n",
       "    <tr>\n",
       "      <th>1</th>\n",
       "      <td>41308.0</td>\n",
       "      <td>AH21E085</td>\n",
       "      <td>0</td>\n",
       "      <td>0</td>\n",
       "      <td>0</td>\n",
       "    </tr>\n",
       "    <tr>\n",
       "      <th>9</th>\n",
       "      <td>56749.0</td>\n",
       "      <td>AH21G070</td>\n",
       "      <td>0</td>\n",
       "      <td>0</td>\n",
       "      <td>0</td>\n",
       "    </tr>\n",
       "    <tr>\n",
       "      <th>13</th>\n",
       "      <td>64921.0</td>\n",
       "      <td>AH20I016</td>\n",
       "      <td>0</td>\n",
       "      <td>0</td>\n",
       "      <td>0</td>\n",
       "    </tr>\n",
       "    <tr>\n",
       "      <th>15</th>\n",
       "      <td>77432.0</td>\n",
       "      <td>AH21A081</td>\n",
       "      <td>0</td>\n",
       "      <td>0</td>\n",
       "      <td>0</td>\n",
       "    </tr>\n",
       "    <tr>\n",
       "      <th>16</th>\n",
       "      <td>79270.0</td>\n",
       "      <td>ALF22L085</td>\n",
       "      <td>0</td>\n",
       "      <td>0</td>\n",
       "      <td>0</td>\n",
       "    </tr>\n",
       "    <tr>\n",
       "      <th>...</th>\n",
       "      <td>...</td>\n",
       "      <td>...</td>\n",
       "      <td>...</td>\n",
       "      <td>...</td>\n",
       "      <td>...</td>\n",
       "    </tr>\n",
       "    <tr>\n",
       "      <th>3065</th>\n",
       "      <td>2669870.0</td>\n",
       "      <td>ALF23A119</td>\n",
       "      <td>0</td>\n",
       "      <td>0</td>\n",
       "      <td>0</td>\n",
       "    </tr>\n",
       "    <tr>\n",
       "      <th>3072</th>\n",
       "      <td>2676010.0</td>\n",
       "      <td>ALF23C009</td>\n",
       "      <td>0</td>\n",
       "      <td>0</td>\n",
       "      <td>0</td>\n",
       "    </tr>\n",
       "    <tr>\n",
       "      <th>3073</th>\n",
       "      <td>2676371.0</td>\n",
       "      <td>ALF23C055</td>\n",
       "      <td>0</td>\n",
       "      <td>0</td>\n",
       "      <td>0</td>\n",
       "    </tr>\n",
       "    <tr>\n",
       "      <th>3078</th>\n",
       "      <td>2679272.0</td>\n",
       "      <td>ALF23C124</td>\n",
       "      <td>0</td>\n",
       "      <td>0</td>\n",
       "      <td>0</td>\n",
       "    </tr>\n",
       "    <tr>\n",
       "      <th>3081</th>\n",
       "      <td>2681377.0</td>\n",
       "      <td>ALF23C174</td>\n",
       "      <td>0</td>\n",
       "      <td>0</td>\n",
       "      <td>0</td>\n",
       "    </tr>\n",
       "  </tbody>\n",
       "</table>\n",
       "<p>552 rows × 5 columns</p>\n",
       "</div>"
      ],
      "text/plain": [
       "      PATIENT_ID  tube_code  death_7_day  death_14_day  death_30_day\n",
       "1        41308.0   AH21E085            0             0             0\n",
       "9        56749.0   AH21G070            0             0             0\n",
       "13       64921.0   AH20I016            0             0             0\n",
       "15       77432.0   AH21A081            0             0             0\n",
       "16       79270.0  ALF22L085            0             0             0\n",
       "...          ...        ...          ...           ...           ...\n",
       "3065   2669870.0  ALF23A119            0             0             0\n",
       "3072   2676010.0  ALF23C009            0             0             0\n",
       "3073   2676371.0  ALF23C055            0             0             0\n",
       "3078   2679272.0  ALF23C124            0             0             0\n",
       "3081   2681377.0  ALF23C174            0             0             0\n",
       "\n",
       "[552 rows x 5 columns]"
      ]
     },
     "execution_count": 29,
     "metadata": {},
     "output_type": "execute_result"
    }
   ],
   "source": [
    "filteredMortalityDf = mortalityDf[mortalityDf.tube_code.isin(tubeCodes)]\n",
    "filteredMortalityDf"
   ]
  },
  {
   "cell_type": "markdown",
   "metadata": {},
   "source": [
    "## Create data subset"
   ]
  },
  {
   "cell_type": "code",
   "execution_count": 30,
   "metadata": {},
   "outputs": [
    {
     "data": {
      "text/html": [
       "<div>\n",
       "<style scoped>\n",
       "    .dataframe tbody tr th:only-of-type {\n",
       "        vertical-align: middle;\n",
       "    }\n",
       "\n",
       "    .dataframe tbody tr th {\n",
       "        vertical-align: top;\n",
       "    }\n",
       "\n",
       "    .dataframe thead th {\n",
       "        text-align: right;\n",
       "    }\n",
       "</style>\n",
       "<table border=\"1\" class=\"dataframe\">\n",
       "  <thead>\n",
       "    <tr style=\"text-align: right;\">\n",
       "      <th></th>\n",
       "      <th>tube_code</th>\n",
       "      <th>death_30_day</th>\n",
       "    </tr>\n",
       "  </thead>\n",
       "  <tbody>\n",
       "    <tr>\n",
       "      <th>0</th>\n",
       "      <td>AH21B002</td>\n",
       "      <td>1</td>\n",
       "    </tr>\n",
       "    <tr>\n",
       "      <th>1</th>\n",
       "      <td>ALF22L090</td>\n",
       "      <td>1</td>\n",
       "    </tr>\n",
       "    <tr>\n",
       "      <th>2</th>\n",
       "      <td>AH21L073</td>\n",
       "      <td>1</td>\n",
       "    </tr>\n",
       "    <tr>\n",
       "      <th>3</th>\n",
       "      <td>AH21C022</td>\n",
       "      <td>1</td>\n",
       "    </tr>\n",
       "    <tr>\n",
       "      <th>4</th>\n",
       "      <td>AH18J081</td>\n",
       "      <td>1</td>\n",
       "    </tr>\n",
       "    <tr>\n",
       "      <th>...</th>\n",
       "      <td>...</td>\n",
       "      <td>...</td>\n",
       "    </tr>\n",
       "    <tr>\n",
       "      <th>119</th>\n",
       "      <td>ALF22E035</td>\n",
       "      <td>0</td>\n",
       "    </tr>\n",
       "    <tr>\n",
       "      <th>120</th>\n",
       "      <td>AH19J068</td>\n",
       "      <td>0</td>\n",
       "    </tr>\n",
       "    <tr>\n",
       "      <th>121</th>\n",
       "      <td>AH19L053</td>\n",
       "      <td>0</td>\n",
       "    </tr>\n",
       "    <tr>\n",
       "      <th>122</th>\n",
       "      <td>ALF23A119</td>\n",
       "      <td>0</td>\n",
       "    </tr>\n",
       "    <tr>\n",
       "      <th>123</th>\n",
       "      <td>AH21A036</td>\n",
       "      <td>0</td>\n",
       "    </tr>\n",
       "  </tbody>\n",
       "</table>\n",
       "<p>124 rows × 2 columns</p>\n",
       "</div>"
      ],
      "text/plain": [
       "     tube_code  death_30_day\n",
       "0     AH21B002             1\n",
       "1    ALF22L090             1\n",
       "2     AH21L073             1\n",
       "3     AH21C022             1\n",
       "4     AH18J081             1\n",
       "..         ...           ...\n",
       "119  ALF22E035             0\n",
       "120   AH19J068             0\n",
       "121   AH19L053             0\n",
       "122  ALF23A119             0\n",
       "123   AH21A036             0\n",
       "\n",
       "[124 rows x 2 columns]"
      ]
     },
     "execution_count": 30,
     "metadata": {},
     "output_type": "execute_result"
    }
   ],
   "source": [
    "positiveMortalityDf = filteredMortalityDf[(filteredMortalityDf.death_30_day == 1)][['tube_code', 'death_30_day']].drop_duplicates()\n",
    "negativeMortalityDf = filteredMortalityDf[(filteredMortalityDf.death_30_day == 0)][['tube_code', 'death_30_day']].sample(n=positiveMortalityDf.shape[0], random_state=42)\n",
    "sampledMortalityDf = pd.concat([positiveMortalityDf, negativeMortalityDf], ignore_index=True)\n",
    "sampledMortalityDf"
   ]
  },
  {
   "cell_type": "code",
   "execution_count": 39,
   "metadata": {},
   "outputs": [
    {
     "data": {
      "text/plain": [
       "death_30_day\n",
       "1    62\n",
       "0    62\n",
       "Name: count, dtype: int64"
      ]
     },
     "execution_count": 39,
     "metadata": {},
     "output_type": "execute_result"
    }
   ],
   "source": [
    "sampledMortalityDf.death_30_day.value_counts()"
   ]
  },
  {
   "cell_type": "markdown",
   "metadata": {},
   "source": [
    "## Read essC gene sequences"
   ]
  },
  {
   "cell_type": "code",
   "execution_count": 41,
   "metadata": {},
   "outputs": [
    {
     "name": "stdout",
     "output_type": "stream",
     "text": [
      "tubeCode failed: AH19C070\n"
     ]
    }
   ],
   "source": [
    "import os\n",
    "from pathlib import Path\n",
    "\n",
    "from Bio.SeqRecord import SeqRecord\n",
    "\n",
    "\n",
    "fastaData = {}\n",
    "gff3Path = Path(os.environ['GENOMICS_DATA_BASE'], 'annotations', 's_aureus', 'gff3_original_v1')\n",
    "\n",
    "for i, row in sampledMortalityDf.iterrows():\n",
    "\n",
    "    tubeCode = row['tube_code']\n",
    "    gff3FileName = tubeCode + '.gff3'\n",
    "    gff3File = Path(gff3Path, gff3FileName)\n",
    "\n",
    "    gff3Lines = []\n",
    "    fasta_start_index = None\n",
    "    with open(gff3File, 'r') as in_handle:\n",
    "        gff3Lines = in_handle.readlines()\n",
    "\n",
    "    for i, line in enumerate(gff3Lines):\n",
    "        if line.strip() == \"##FASTA\":\n",
    "            fasta_start_index = i + 1\n",
    "            break\n",
    "\n",
    "    seq_id, start, end = getGeneLocations(gff3Lines=gff3Lines, fasta_start_index=fasta_start_index, geneName='essC')\n",
    "    if seq_id and start and end:\n",
    "        record = getSequenceData(gff3Lines=gff3Lines, fasta_start_index=fasta_start_index, seqId=str(seq_id), startLocation=start, endLocation=end)\n",
    "        updatedRecord = SeqRecord(record.seq, id=gff3FileName.split('.')[0], name=gff3FileName.split('.')[0], description=gff3FileName.split('.')[0])\n",
    "        fastaData[gff3FileName.split('.')[0]] = updatedRecord\n",
    "    else:\n",
    "        print('tubeCode failed:', tubeCode)"
   ]
  },
  {
   "cell_type": "markdown",
   "metadata": {},
   "source": [
    "## Write fasta file"
   ]
  },
  {
   "cell_type": "code",
   "execution_count": 38,
   "metadata": {},
   "outputs": [
    {
     "data": {
      "text/plain": [
       "123"
      ]
     },
     "execution_count": 38,
     "metadata": {},
     "output_type": "execute_result"
    }
   ],
   "source": [
    "import os\n",
    "from pathlib import Path\n",
    "\n",
    "from Bio import SeqIO\n",
    "\n",
    "\n",
    "SeqIO.write(fastaData.values(), Path(os.environ['GENOMICS_DATA_BASE'], 'annotations', 's_aureus', 'gene_sequences', 'essC', 'sample', 'sequences.fna'), 'fasta')"
   ]
  }
 ],
 "metadata": {
  "kernelspec": {
   "display_name": ".venv",
   "language": "python",
   "name": "python3"
  },
  "language_info": {
   "codemirror_mode": {
    "name": "ipython",
    "version": 3
   },
   "file_extension": ".py",
   "mimetype": "text/x-python",
   "name": "python",
   "nbconvert_exporter": "python",
   "pygments_lexer": "ipython3",
   "version": "3.10.12"
  }
 },
 "nbformat": 4,
 "nbformat_minor": 2
}
