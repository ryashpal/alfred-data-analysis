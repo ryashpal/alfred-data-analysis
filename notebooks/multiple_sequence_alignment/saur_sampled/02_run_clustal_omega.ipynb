{
 "cells": [
  {
   "cell_type": "markdown",
   "metadata": {},
   "source": [
    "# Run clustal omega"
   ]
  },
  {
   "cell_type": "markdown",
   "metadata": {
    "vscode": {
     "languageId": "shellscript"
    }
   },
   "source": [
    "Run the following command:\n",
    "\n",
    "```\n",
    "    clustalo -i annotations/s_aureus/gene_sequences/essC/sample/sequences.fna -o annotations/s_aureus/gene_sequences/essC/sample/aligned.fna --distmat-ou\n",
    "t annotations/s_aureus/gene_sequences/essC/sample/distmat.txt --guidetree-out annotations/s_aureus/gene_sequences/essC/sample/tree.nwk --full --force\n",
    "```"
   ]
  }
 ],
 "metadata": {
  "language_info": {
   "name": "python"
  }
 },
 "nbformat": 4,
 "nbformat_minor": 2
}
