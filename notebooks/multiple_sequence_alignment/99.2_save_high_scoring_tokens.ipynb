{
 "cells": [
  {
   "cell_type": "markdown",
   "metadata": {},
   "source": [
    "# Save high-scoring tokens for SAUR cohort"
   ]
  },
  {
   "cell_type": "code",
   "execution_count": 1,
   "metadata": {},
   "outputs": [],
   "source": [
    "import pandas as pd\n",
    "\n",
    "\n",
    "pd.set_option(\"display.max_columns\", None) # show all cols\n",
    "pd.set_option('display.max_colwidth', None) # show full width of showing cols\n",
    "pd.set_option(\"display.expand_frame_repr\", False) # print cols side by side as it's supposed to be"
   ]
  },
  {
   "cell_type": "markdown",
   "metadata": {},
   "source": [
    "## Read token information from bed files"
   ]
  },
  {
   "cell_type": "code",
   "execution_count": 2,
   "metadata": {},
   "outputs": [
    {
     "data": {
      "text/html": [
       "<div>\n",
       "<style scoped>\n",
       "    .dataframe tbody tr th:only-of-type {\n",
       "        vertical-align: middle;\n",
       "    }\n",
       "\n",
       "    .dataframe tbody tr th {\n",
       "        vertical-align: top;\n",
       "    }\n",
       "\n",
       "    .dataframe thead th {\n",
       "        text-align: right;\n",
       "    }\n",
       "</style>\n",
       "<table border=\"1\" class=\"dataframe\">\n",
       "  <thead>\n",
       "    <tr style=\"text-align: right;\">\n",
       "      <th></th>\n",
       "      <th>contig_id</th>\n",
       "      <th>start_position</th>\n",
       "      <th>end_position</th>\n",
       "      <th>tokens</th>\n",
       "      <th>score</th>\n",
       "      <th>tube_id</th>\n",
       "    </tr>\n",
       "  </thead>\n",
       "  <tbody>\n",
       "    <tr>\n",
       "      <th>0</th>\n",
       "      <td>1</td>\n",
       "      <td>1</td>\n",
       "      <td>3</td>\n",
       "      <td>GAA</td>\n",
       "      <td>0.024555</td>\n",
       "      <td>AH21B049</td>\n",
       "    </tr>\n",
       "    <tr>\n",
       "      <th>1</th>\n",
       "      <td>1</td>\n",
       "      <td>4</td>\n",
       "      <td>12</td>\n",
       "      <td>AAACCCCGG</td>\n",
       "      <td>0.019281</td>\n",
       "      <td>AH21B049</td>\n",
       "    </tr>\n",
       "    <tr>\n",
       "      <th>2</th>\n",
       "      <td>1</td>\n",
       "      <td>13</td>\n",
       "      <td>17</td>\n",
       "      <td>TCAAT</td>\n",
       "      <td>0.042749</td>\n",
       "      <td>AH21B049</td>\n",
       "    </tr>\n",
       "    <tr>\n",
       "      <th>3</th>\n",
       "      <td>1</td>\n",
       "      <td>18</td>\n",
       "      <td>22</td>\n",
       "      <td>AAGGC</td>\n",
       "      <td>0.058446</td>\n",
       "      <td>AH21B049</td>\n",
       "    </tr>\n",
       "    <tr>\n",
       "      <th>4</th>\n",
       "      <td>1</td>\n",
       "      <td>23</td>\n",
       "      <td>27</td>\n",
       "      <td>CGGGG</td>\n",
       "      <td>-0.002272</td>\n",
       "      <td>AH21B049</td>\n",
       "    </tr>\n",
       "    <tr>\n",
       "      <th>...</th>\n",
       "      <td>...</td>\n",
       "      <td>...</td>\n",
       "      <td>...</td>\n",
       "      <td>...</td>\n",
       "      <td>...</td>\n",
       "      <td>...</td>\n",
       "    </tr>\n",
       "    <tr>\n",
       "      <th>247349726</th>\n",
       "      <td>5</td>\n",
       "      <td>259913</td>\n",
       "      <td>259920</td>\n",
       "      <td>GCTACCCG</td>\n",
       "      <td>0.012245</td>\n",
       "      <td>ALF22C077</td>\n",
       "    </tr>\n",
       "    <tr>\n",
       "      <th>247349727</th>\n",
       "      <td>5</td>\n",
       "      <td>259921</td>\n",
       "      <td>259928</td>\n",
       "      <td>TTGGTGTG</td>\n",
       "      <td>0.000125</td>\n",
       "      <td>ALF22C077</td>\n",
       "    </tr>\n",
       "    <tr>\n",
       "      <th>247349728</th>\n",
       "      <td>5</td>\n",
       "      <td>259929</td>\n",
       "      <td>259938</td>\n",
       "      <td>CCTGTTCCGT</td>\n",
       "      <td>-0.000540</td>\n",
       "      <td>ALF22C077</td>\n",
       "    </tr>\n",
       "    <tr>\n",
       "      <th>247349729</th>\n",
       "      <td>5</td>\n",
       "      <td>259939</td>\n",
       "      <td>259942</td>\n",
       "      <td>GGCC</td>\n",
       "      <td>0.024973</td>\n",
       "      <td>ALF22C077</td>\n",
       "    </tr>\n",
       "    <tr>\n",
       "      <th>247349730</th>\n",
       "      <td>5</td>\n",
       "      <td>259943</td>\n",
       "      <td>259946</td>\n",
       "      <td>CACC</td>\n",
       "      <td>0.002783</td>\n",
       "      <td>ALF22C077</td>\n",
       "    </tr>\n",
       "  </tbody>\n",
       "</table>\n",
       "<p>247349731 rows × 6 columns</p>\n",
       "</div>"
      ],
      "text/plain": [
       "           contig_id  start_position  end_position      tokens     score    tube_id\n",
       "0                  1               1             3         GAA  0.024555   AH21B049\n",
       "1                  1               4            12   AAACCCCGG  0.019281   AH21B049\n",
       "2                  1              13            17       TCAAT  0.042749   AH21B049\n",
       "3                  1              18            22       AAGGC  0.058446   AH21B049\n",
       "4                  1              23            27       CGGGG -0.002272   AH21B049\n",
       "...              ...             ...           ...         ...       ...        ...\n",
       "247349726          5          259913        259920    GCTACCCG  0.012245  ALF22C077\n",
       "247349727          5          259921        259928    TTGGTGTG  0.000125  ALF22C077\n",
       "247349728          5          259929        259938  CCTGTTCCGT -0.000540  ALF22C077\n",
       "247349729          5          259939        259942        GGCC  0.024973  ALF22C077\n",
       "247349730          5          259943        259946        CACC  0.002783  ALF22C077\n",
       "\n",
       "[247349731 rows x 6 columns]"
      ]
     },
     "execution_count": 2,
     "metadata": {},
     "output_type": "execute_result"
    }
   ],
   "source": [
    "import os\n",
    "import pandas as pd\n",
    "from pathlib import Path\n",
    "\n",
    "\n",
    "bedDir = Path(os.environ['GENOMICS_DATA_BASE'], 'genome_nlp_tokens', 'bed_files', 'ECOLI')\n",
    "\n",
    "bedDfList = []\n",
    "for bedFile in os.listdir(bedDir):\n",
    "    tubeid = bedFile.split('.')[0].split('_')[0]\n",
    "    tokensDf = pd.read_csv(Path(bedDir, bedFile), sep='\\t', names=['contig_id', 'start_position', 'end_position', 'tokens', 'score'])\n",
    "    tokensDf['tube_id'] = tubeid\n",
    "    bedDfList.append(tokensDf)\n",
    "\n",
    "bedDf = pd.concat(bedDfList, ignore_index=True)\n",
    "bedDf"
   ]
  },
  {
   "cell_type": "code",
   "execution_count": 3,
   "metadata": {},
   "outputs": [
    {
     "data": {
      "text/plain": [
       "<Axes: >"
      ]
     },
     "execution_count": 3,
     "metadata": {},
     "output_type": "execute_result"
    },
    {
     "data": {
      "image/png": "[encoded data removed]",
      "text/plain": [
       "<Figure size 640x480 with 1 Axes>"
      ]
     },
     "metadata": {},
     "output_type": "display_data"
    }
   ],
   "source": [
    "bedDf[(bedDf.score > -0.1) & (bedDf.score < 0.15)].score.hist(bins=100)"
   ]
  },
  {
   "cell_type": "code",
   "execution_count": 4,
   "metadata": {},
   "outputs": [
    {
     "data": {
      "text/html": [
       "<div>\n",
       "<style scoped>\n",
       "    .dataframe tbody tr th:only-of-type {\n",
       "        vertical-align: middle;\n",
       "    }\n",
       "\n",
       "    .dataframe tbody tr th {\n",
       "        vertical-align: top;\n",
       "    }\n",
       "\n",
       "    .dataframe thead th {\n",
       "        text-align: right;\n",
       "    }\n",
       "</style>\n",
       "<table border=\"1\" class=\"dataframe\">\n",
       "  <thead>\n",
       "    <tr style=\"text-align: right;\">\n",
       "      <th></th>\n",
       "      <th>contig_id</th>\n",
       "      <th>start_position</th>\n",
       "      <th>end_position</th>\n",
       "      <th>tokens</th>\n",
       "      <th>score</th>\n",
       "      <th>tube_id</th>\n",
       "      <th>token_length</th>\n",
       "    </tr>\n",
       "  </thead>\n",
       "  <tbody>\n",
       "    <tr>\n",
       "      <th>0</th>\n",
       "      <td>1</td>\n",
       "      <td>1</td>\n",
       "      <td>3</td>\n",
       "      <td>GAA</td>\n",
       "      <td>0.024555</td>\n",
       "      <td>AH21B049</td>\n",
       "      <td>3</td>\n",
       "    </tr>\n",
       "    <tr>\n",
       "      <th>1</th>\n",
       "      <td>1</td>\n",
       "      <td>4</td>\n",
       "      <td>12</td>\n",
       "      <td>AAACCCCGG</td>\n",
       "      <td>0.019281</td>\n",
       "      <td>AH21B049</td>\n",
       "      <td>9</td>\n",
       "    </tr>\n",
       "    <tr>\n",
       "      <th>2</th>\n",
       "      <td>1</td>\n",
       "      <td>13</td>\n",
       "      <td>17</td>\n",
       "      <td>TCAAT</td>\n",
       "      <td>0.042749</td>\n",
       "      <td>AH21B049</td>\n",
       "      <td>5</td>\n",
       "    </tr>\n",
       "    <tr>\n",
       "      <th>3</th>\n",
       "      <td>1</td>\n",
       "      <td>18</td>\n",
       "      <td>22</td>\n",
       "      <td>AAGGC</td>\n",
       "      <td>0.058446</td>\n",
       "      <td>AH21B049</td>\n",
       "      <td>5</td>\n",
       "    </tr>\n",
       "    <tr>\n",
       "      <th>4</th>\n",
       "      <td>1</td>\n",
       "      <td>23</td>\n",
       "      <td>27</td>\n",
       "      <td>CGGGG</td>\n",
       "      <td>-0.002272</td>\n",
       "      <td>AH21B049</td>\n",
       "      <td>5</td>\n",
       "    </tr>\n",
       "    <tr>\n",
       "      <th>...</th>\n",
       "      <td>...</td>\n",
       "      <td>...</td>\n",
       "      <td>...</td>\n",
       "      <td>...</td>\n",
       "      <td>...</td>\n",
       "      <td>...</td>\n",
       "      <td>...</td>\n",
       "    </tr>\n",
       "    <tr>\n",
       "      <th>247349726</th>\n",
       "      <td>5</td>\n",
       "      <td>259913</td>\n",
       "      <td>259920</td>\n",
       "      <td>GCTACCCG</td>\n",
       "      <td>0.012245</td>\n",
       "      <td>ALF22C077</td>\n",
       "      <td>8</td>\n",
       "    </tr>\n",
       "    <tr>\n",
       "      <th>247349727</th>\n",
       "      <td>5</td>\n",
       "      <td>259921</td>\n",
       "      <td>259928</td>\n",
       "      <td>TTGGTGTG</td>\n",
       "      <td>0.000125</td>\n",
       "      <td>ALF22C077</td>\n",
       "      <td>8</td>\n",
       "    </tr>\n",
       "    <tr>\n",
       "      <th>247349728</th>\n",
       "      <td>5</td>\n",
       "      <td>259929</td>\n",
       "      <td>259938</td>\n",
       "      <td>CCTGTTCCGT</td>\n",
       "      <td>-0.000540</td>\n",
       "      <td>ALF22C077</td>\n",
       "      <td>10</td>\n",
       "    </tr>\n",
       "    <tr>\n",
       "      <th>247349729</th>\n",
       "      <td>5</td>\n",
       "      <td>259939</td>\n",
       "      <td>259942</td>\n",
       "      <td>GGCC</td>\n",
       "      <td>0.024973</td>\n",
       "      <td>ALF22C077</td>\n",
       "      <td>4</td>\n",
       "    </tr>\n",
       "    <tr>\n",
       "      <th>247349730</th>\n",
       "      <td>5</td>\n",
       "      <td>259943</td>\n",
       "      <td>259946</td>\n",
       "      <td>CACC</td>\n",
       "      <td>0.002783</td>\n",
       "      <td>ALF22C077</td>\n",
       "      <td>4</td>\n",
       "    </tr>\n",
       "  </tbody>\n",
       "</table>\n",
       "<p>247349731 rows × 7 columns</p>\n",
       "</div>"
      ],
      "text/plain": [
       "           contig_id  start_position  end_position      tokens     score    tube_id  token_length\n",
       "0                  1               1             3         GAA  0.024555   AH21B049             3\n",
       "1                  1               4            12   AAACCCCGG  0.019281   AH21B049             9\n",
       "2                  1              13            17       TCAAT  0.042749   AH21B049             5\n",
       "3                  1              18            22       AAGGC  0.058446   AH21B049             5\n",
       "4                  1              23            27       CGGGG -0.002272   AH21B049             5\n",
       "...              ...             ...           ...         ...       ...        ...           ...\n",
       "247349726          5          259913        259920    GCTACCCG  0.012245  ALF22C077             8\n",
       "247349727          5          259921        259928    TTGGTGTG  0.000125  ALF22C077             8\n",
       "247349728          5          259929        259938  CCTGTTCCGT -0.000540  ALF22C077            10\n",
       "247349729          5          259939        259942        GGCC  0.024973  ALF22C077             4\n",
       "247349730          5          259943        259946        CACC  0.002783  ALF22C077             4\n",
       "\n",
       "[247349731 rows x 7 columns]"
      ]
     },
     "execution_count": 4,
     "metadata": {},
     "output_type": "execute_result"
    }
   ],
   "source": [
    "bedDf['token_length'] = bedDf.tokens.apply(lambda x: len(x))\n",
    "bedDf"
   ]
  },
  {
   "cell_type": "code",
   "execution_count": 5,
   "metadata": {},
   "outputs": [
    {
     "data": {
      "text/plain": [
       "31990"
      ]
     },
     "execution_count": 5,
     "metadata": {},
     "output_type": "execute_result"
    }
   ],
   "source": [
    "len(bedDf.tokens.unique())"
   ]
  },
  {
   "cell_type": "code",
   "execution_count": 7,
   "metadata": {},
   "outputs": [
    {
     "data": {
      "text/plain": [
       "np.float64(0.10044996853550375)"
      ]
     },
     "execution_count": 7,
     "metadata": {},
     "output_type": "execute_result"
    }
   ],
   "source": [
    "highscoreCutoff = bedDf.score.mean() + 3 * bedDf.score.std()\n",
    "highscoreCutoff"
   ]
  },
  {
   "cell_type": "code",
   "execution_count": 9,
   "metadata": {},
   "outputs": [
    {
     "data": {
      "text/html": [
       "<div>\n",
       "<style scoped>\n",
       "    .dataframe tbody tr th:only-of-type {\n",
       "        vertical-align: middle;\n",
       "    }\n",
       "\n",
       "    .dataframe tbody tr th {\n",
       "        vertical-align: top;\n",
       "    }\n",
       "\n",
       "    .dataframe thead th {\n",
       "        text-align: right;\n",
       "    }\n",
       "</style>\n",
       "<table border=\"1\" class=\"dataframe\">\n",
       "  <thead>\n",
       "    <tr style=\"text-align: right;\">\n",
       "      <th></th>\n",
       "      <th>contig_id</th>\n",
       "      <th>start_position</th>\n",
       "      <th>end_position</th>\n",
       "      <th>tokens</th>\n",
       "      <th>score</th>\n",
       "      <th>tube_id</th>\n",
       "      <th>token_length</th>\n",
       "    </tr>\n",
       "  </thead>\n",
       "  <tbody>\n",
       "    <tr>\n",
       "      <th>790</th>\n",
       "      <td>1</td>\n",
       "      <td>5456</td>\n",
       "      <td>5461</td>\n",
       "      <td>TTCCGG</td>\n",
       "      <td>0.109817</td>\n",
       "      <td>AH21B049</td>\n",
       "      <td>6</td>\n",
       "    </tr>\n",
       "    <tr>\n",
       "      <th>1141</th>\n",
       "      <td>1</td>\n",
       "      <td>7901</td>\n",
       "      <td>7906</td>\n",
       "      <td>GGTTTT</td>\n",
       "      <td>0.126671</td>\n",
       "      <td>AH21B049</td>\n",
       "      <td>6</td>\n",
       "    </tr>\n",
       "    <tr>\n",
       "      <th>1544</th>\n",
       "      <td>1</td>\n",
       "      <td>10694</td>\n",
       "      <td>10701</td>\n",
       "      <td>CCCGACGG</td>\n",
       "      <td>0.119595</td>\n",
       "      <td>AH21B049</td>\n",
       "      <td>8</td>\n",
       "    </tr>\n",
       "    <tr>\n",
       "      <th>2280</th>\n",
       "      <td>1</td>\n",
       "      <td>15816</td>\n",
       "      <td>15822</td>\n",
       "      <td>CGCCGCC</td>\n",
       "      <td>0.154397</td>\n",
       "      <td>AH21B049</td>\n",
       "      <td>7</td>\n",
       "    </tr>\n",
       "    <tr>\n",
       "      <th>2384</th>\n",
       "      <td>1</td>\n",
       "      <td>16539</td>\n",
       "      <td>16545</td>\n",
       "      <td>CGCCGCC</td>\n",
       "      <td>0.101574</td>\n",
       "      <td>AH21B049</td>\n",
       "      <td>7</td>\n",
       "    </tr>\n",
       "    <tr>\n",
       "      <th>...</th>\n",
       "      <td>...</td>\n",
       "      <td>...</td>\n",
       "      <td>...</td>\n",
       "      <td>...</td>\n",
       "      <td>...</td>\n",
       "      <td>...</td>\n",
       "      <td>...</td>\n",
       "    </tr>\n",
       "    <tr>\n",
       "      <th>247347891</th>\n",
       "      <td>5</td>\n",
       "      <td>247308</td>\n",
       "      <td>247313</td>\n",
       "      <td>CTCACC</td>\n",
       "      <td>0.103520</td>\n",
       "      <td>ALF22C077</td>\n",
       "      <td>6</td>\n",
       "    </tr>\n",
       "    <tr>\n",
       "      <th>247347911</th>\n",
       "      <td>5</td>\n",
       "      <td>247447</td>\n",
       "      <td>247452</td>\n",
       "      <td>CTGTTC</td>\n",
       "      <td>0.117534</td>\n",
       "      <td>ALF22C077</td>\n",
       "      <td>6</td>\n",
       "    </tr>\n",
       "    <tr>\n",
       "      <th>247348343</th>\n",
       "      <td>5</td>\n",
       "      <td>250450</td>\n",
       "      <td>250457</td>\n",
       "      <td>CCCTTTTT</td>\n",
       "      <td>0.104689</td>\n",
       "      <td>ALF22C077</td>\n",
       "      <td>8</td>\n",
       "    </tr>\n",
       "    <tr>\n",
       "      <th>247349058</th>\n",
       "      <td>5</td>\n",
       "      <td>255352</td>\n",
       "      <td>255357</td>\n",
       "      <td>GAAAAA</td>\n",
       "      <td>0.100641</td>\n",
       "      <td>ALF22C077</td>\n",
       "      <td>6</td>\n",
       "    </tr>\n",
       "    <tr>\n",
       "      <th>247349081</th>\n",
       "      <td>5</td>\n",
       "      <td>255503</td>\n",
       "      <td>255508</td>\n",
       "      <td>ACGCTG</td>\n",
       "      <td>0.112193</td>\n",
       "      <td>ALF22C077</td>\n",
       "      <td>6</td>\n",
       "    </tr>\n",
       "  </tbody>\n",
       "</table>\n",
       "<p>2322717 rows × 7 columns</p>\n",
       "</div>"
      ],
      "text/plain": [
       "           contig_id  start_position  end_position    tokens     score    tube_id  token_length\n",
       "790                1            5456          5461    TTCCGG  0.109817   AH21B049             6\n",
       "1141               1            7901          7906    GGTTTT  0.126671   AH21B049             6\n",
       "1544               1           10694         10701  CCCGACGG  0.119595   AH21B049             8\n",
       "2280               1           15816         15822   CGCCGCC  0.154397   AH21B049             7\n",
       "2384               1           16539         16545   CGCCGCC  0.101574   AH21B049             7\n",
       "...              ...             ...           ...       ...       ...        ...           ...\n",
       "247347891          5          247308        247313    CTCACC  0.103520  ALF22C077             6\n",
       "247347911          5          247447        247452    CTGTTC  0.117534  ALF22C077             6\n",
       "247348343          5          250450        250457  CCCTTTTT  0.104689  ALF22C077             8\n",
       "247349058          5          255352        255357    GAAAAA  0.100641  ALF22C077             6\n",
       "247349081          5          255503        255508    ACGCTG  0.112193  ALF22C077             6\n",
       "\n",
       "[2322717 rows x 7 columns]"
      ]
     },
     "execution_count": 9,
     "metadata": {},
     "output_type": "execute_result"
    }
   ],
   "source": [
    "highscoreDf = bedDf[(bedDf.score > highscoreCutoff) & (bedDf.token_length > 5)]\n",
    "highscoreDf"
   ]
  },
  {
   "cell_type": "code",
   "execution_count": 10,
   "metadata": {},
   "outputs": [
    {
     "data": {
      "text/plain": [
       "12915"
      ]
     },
     "execution_count": 10,
     "metadata": {},
     "output_type": "execute_result"
    }
   ],
   "source": [
    "len(highscoreDf.tokens.unique())"
   ]
  },
  {
   "cell_type": "code",
   "execution_count": 11,
   "metadata": {},
   "outputs": [
    {
     "data": {
      "text/plain": [
       "(2322717, 7)"
      ]
     },
     "execution_count": 11,
     "metadata": {},
     "output_type": "execute_result"
    }
   ],
   "source": [
    "highscoreDf.shape"
   ]
  },
  {
   "cell_type": "code",
   "execution_count": 12,
   "metadata": {},
   "outputs": [
    {
     "data": {
      "text/plain": [
       "<Axes: >"
      ]
     },
     "execution_count": 12,
     "metadata": {},
     "output_type": "execute_result"
    },
    {
     "data": {
      "image/png": "[encoded data removed]",
      "text/plain": [
       "<Figure size 640x480 with 1 Axes>"
      ]
     },
     "metadata": {},
     "output_type": "display_data"
    }
   ],
   "source": [
    "highscoreDf[(highscoreDf.score < 0.3)].score.hist(bins=100)"
   ]
  },
  {
   "cell_type": "code",
   "execution_count": 13,
   "metadata": {},
   "outputs": [
    {
     "data": {
      "text/plain": [
       "token_length\n",
       "6     1005832\n",
       "7      585361\n",
       "8      339503\n",
       "9      263575\n",
       "10      92597\n",
       "11      30865\n",
       "12       2730\n",
       "16       1991\n",
       "15        152\n",
       "13        102\n",
       "14          9\n",
       "Name: count, dtype: int64"
      ]
     },
     "execution_count": 13,
     "metadata": {},
     "output_type": "execute_result"
    }
   ],
   "source": [
    "highscoreDf.token_length.value_counts()"
   ]
  },
  {
   "cell_type": "code",
   "execution_count": 14,
   "metadata": {},
   "outputs": [
    {
     "data": {
      "text/plain": [
       "<Axes: xlabel='token_length', ylabel='Count'>"
      ]
     },
     "execution_count": 14,
     "metadata": {},
     "output_type": "execute_result"
    },
    {
     "data": {
      "image/png": "[encoded data removed]",
      "text/plain": [
       "<Figure size 640x480 with 1 Axes>"
      ]
     },
     "metadata": {},
     "output_type": "display_data"
    }
   ],
   "source": [
    "import seaborn as sns\n",
    "\n",
    "sns.histplot(highscoreDf.token_length, binwidth=1)"
   ]
  },
  {
   "cell_type": "markdown",
   "metadata": {},
   "source": [
    "## Create a dataframe containing tokens"
   ]
  },
  {
   "cell_type": "code",
   "execution_count": 15,
   "metadata": {},
   "outputs": [
    {
     "data": {
      "text/html": [
       "<div>\n",
       "<style scoped>\n",
       "    .dataframe tbody tr th:only-of-type {\n",
       "        vertical-align: middle;\n",
       "    }\n",
       "\n",
       "    .dataframe tbody tr th {\n",
       "        vertical-align: top;\n",
       "    }\n",
       "\n",
       "    .dataframe thead th {\n",
       "        text-align: right;\n",
       "    }\n",
       "</style>\n",
       "<table border=\"1\" class=\"dataframe\">\n",
       "  <thead>\n",
       "    <tr style=\"text-align: right;\">\n",
       "      <th></th>\n",
       "      <th>0</th>\n",
       "    </tr>\n",
       "  </thead>\n",
       "  <tbody>\n",
       "    <tr>\n",
       "      <th>0</th>\n",
       "      <td>TTCCGG</td>\n",
       "    </tr>\n",
       "    <tr>\n",
       "      <th>1</th>\n",
       "      <td>GGTTTT</td>\n",
       "    </tr>\n",
       "    <tr>\n",
       "      <th>2</th>\n",
       "      <td>CCCGACGG</td>\n",
       "    </tr>\n",
       "    <tr>\n",
       "      <th>3</th>\n",
       "      <td>CGCCGCC</td>\n",
       "    </tr>\n",
       "    <tr>\n",
       "      <th>4</th>\n",
       "      <td>ACTGTG</td>\n",
       "    </tr>\n",
       "    <tr>\n",
       "      <th>...</th>\n",
       "      <td>...</td>\n",
       "    </tr>\n",
       "    <tr>\n",
       "      <th>12910</th>\n",
       "      <td>GCTACCCG</td>\n",
       "    </tr>\n",
       "    <tr>\n",
       "      <th>12911</th>\n",
       "      <td>AAAGTGGT</td>\n",
       "    </tr>\n",
       "    <tr>\n",
       "      <th>12912</th>\n",
       "      <td>AACAGTTAC</td>\n",
       "    </tr>\n",
       "    <tr>\n",
       "      <th>12913</th>\n",
       "      <td>GTTCAACCAT</td>\n",
       "    </tr>\n",
       "    <tr>\n",
       "      <th>12914</th>\n",
       "      <td>AAACGA</td>\n",
       "    </tr>\n",
       "  </tbody>\n",
       "</table>\n",
       "<p>12915 rows × 1 columns</p>\n",
       "</div>"
      ],
      "text/plain": [
       "                0\n",
       "0          TTCCGG\n",
       "1          GGTTTT\n",
       "2        CCCGACGG\n",
       "3         CGCCGCC\n",
       "4          ACTGTG\n",
       "...           ...\n",
       "12910    GCTACCCG\n",
       "12911    AAAGTGGT\n",
       "12912   AACAGTTAC\n",
       "12913  GTTCAACCAT\n",
       "12914      AAACGA\n",
       "\n",
       "[12915 rows x 1 columns]"
      ]
     },
     "execution_count": 15,
     "metadata": {},
     "output_type": "execute_result"
    }
   ],
   "source": [
    "import pandas as pd\n",
    "\n",
    "\n",
    "df = pd.DataFrame(highscoreDf.tokens.unique())\n",
    "df"
   ]
  },
  {
   "cell_type": "markdown",
   "metadata": {},
   "source": [
    "## Save the dataframe to a file"
   ]
  },
  {
   "cell_type": "code",
   "execution_count": 16,
   "metadata": {},
   "outputs": [],
   "source": [
    "import os\n",
    "from pathlib import Path\n",
    "\n",
    "\n",
    "df.to_csv(Path(os.environ['EHR_DATA_BASE'], 'data', 'full_cohort', 'high_score_tokens.csv'), index=False, header=None)"
   ]
  }
 ],
 "metadata": {
  "kernelspec": {
   "display_name": ".venv",
   "language": "python",
   "name": "python3"
  },
  "language_info": {
   "codemirror_mode": {
    "name": "ipython",
    "version": 3
   },
   "file_extension": ".py",
   "mimetype": "text/x-python",
   "name": "python",
   "nbconvert_exporter": "python",
   "pygments_lexer": "ipython3",
   "version": "3.10.12"
  }
 },
 "nbformat": 4,
 "nbformat_minor": 2
}
