{
 "cells": [
  {
   "cell_type": "markdown",
   "metadata": {},
   "source": [
    "# Visualise GWAS output"
   ]
  },
  {
   "cell_type": "code",
   "execution_count": null,
   "metadata": {
    "vscode": {
     "languageId": "r"
    }
   },
   "outputs": [
    {
     "name": "stderr",
     "output_type": "stream",
     "text": [
      "\u001b[1mRows: \u001b[22m\u001b[34m47\u001b[39m \u001b[1mColumns: \u001b[22m\u001b[34m6\u001b[39m\n",
      "\u001b[36m──\u001b[39m \u001b[1mColumn specification\u001b[22m \u001b[36m────────────────────────────────────────────────────────\u001b[39m\n",
      "\u001b[1mDelimiter:\u001b[22m \"\\t\"\n",
      "\u001b[31mchr\u001b[39m (1): SNP\n",
      "\u001b[32mdbl\u001b[39m (5): CHR, BP, minLOG10_p, log10_p, r2\n",
      "\n",
      "\u001b[36mℹ\u001b[39m Use `spec()` to retrieve the full column specification for this data.\n",
      "\u001b[36mℹ\u001b[39m Specify the column types or set `show_col_types = FALSE` to quiet this message.\n"
     ]
    },
    {
     "data": {
      "text/html": [
       "<table class=\"dataframe\">\n",
       "<caption>A tibble: 6 × 7</caption>\n",
       "<thead>\n",
       "\t<tr><th scope=col>CHR</th><th scope=col>SNP</th><th scope=col>BP</th><th scope=col>minLOG10_p</th><th scope=col>log10_p</th><th scope=col>r2</th><th scope=col>p</th></tr>\n",
       "\t<tr><th scope=col>&lt;dbl&gt;</th><th scope=col>&lt;chr&gt;</th><th scope=col>&lt;dbl&gt;</th><th scope=col>&lt;dbl&gt;</th><th scope=col>&lt;dbl&gt;</th><th scope=col>&lt;dbl&gt;</th><th scope=col>&lt;dbl&gt;</th></tr>\n",
       "</thead>\n",
       "<tbody>\n",
       "\t<tr><td>1</td><td>1_2041</td><td>2041</td><td>0</td><td>0</td><td>0</td><td>1</td></tr>\n",
       "\t<tr><td>1</td><td>1_2042</td><td>2042</td><td>0</td><td>0</td><td>0</td><td>1</td></tr>\n",
       "\t<tr><td>1</td><td>1_2043</td><td>2043</td><td>0</td><td>0</td><td>0</td><td>1</td></tr>\n",
       "\t<tr><td>1</td><td>1_2065</td><td>2065</td><td>0</td><td>0</td><td>0</td><td>1</td></tr>\n",
       "\t<tr><td>1</td><td>1_2066</td><td>2066</td><td>0</td><td>0</td><td>0</td><td>1</td></tr>\n",
       "\t<tr><td>1</td><td>1_2068</td><td>2068</td><td>0</td><td>0</td><td>0</td><td>1</td></tr>\n",
       "</tbody>\n",
       "</table>\n"
      ],
      "text/latex": [
       "A tibble: 6 × 7\n",
       "\\begin{tabular}{lllllll}\n",
       " CHR & SNP & BP & minLOG10\\_p & log10\\_p & r2 & p\\\\\n",
       " <dbl> & <chr> & <dbl> & <dbl> & <dbl> & <dbl> & <dbl>\\\\\n",
       "\\hline\n",
       "\t 1 & 1\\_2041 & 2041 & 0 & 0 & 0 & 1\\\\\n",
       "\t 1 & 1\\_2042 & 2042 & 0 & 0 & 0 & 1\\\\\n",
       "\t 1 & 1\\_2043 & 2043 & 0 & 0 & 0 & 1\\\\\n",
       "\t 1 & 1\\_2065 & 2065 & 0 & 0 & 0 & 1\\\\\n",
       "\t 1 & 1\\_2066 & 2066 & 0 & 0 & 0 & 1\\\\\n",
       "\t 1 & 1\\_2068 & 2068 & 0 & 0 & 0 & 1\\\\\n",
       "\\end{tabular}\n"
      ],
      "text/markdown": [
       "\n",
       "A tibble: 6 × 7\n",
       "\n",
       "| CHR &lt;dbl&gt; | SNP &lt;chr&gt; | BP &lt;dbl&gt; | minLOG10_p &lt;dbl&gt; | log10_p &lt;dbl&gt; | r2 &lt;dbl&gt; | p &lt;dbl&gt; |\n",
       "|---|---|---|---|---|---|---|\n",
       "| 1 | 1_2041 | 2041 | 0 | 0 | 0 | 1 |\n",
       "| 1 | 1_2042 | 2042 | 0 | 0 | 0 | 1 |\n",
       "| 1 | 1_2043 | 2043 | 0 | 0 | 0 | 1 |\n",
       "| 1 | 1_2065 | 2065 | 0 | 0 | 0 | 1 |\n",
       "| 1 | 1_2066 | 2066 | 0 | 0 | 0 | 1 |\n",
       "| 1 | 1_2068 | 2068 | 0 | 0 | 0 | 1 |\n",
       "\n"
      ],
      "text/plain": [
       "  CHR SNP    BP   minLOG10_p log10_p r2 p\n",
       "1 1   1_2041 2041 0          0       0  1\n",
       "2 1   1_2042 2042 0          0       0  1\n",
       "3 1   1_2043 2043 0          0       0  1\n",
       "4 1   1_2065 2065 0          0       0  1\n",
       "5 1   1_2066 2066 0          0       0  1\n",
       "6 1   1_2068 2068 0          0       0  1"
      ]
     },
     "metadata": {},
     "output_type": "display_data"
    }
   ],
   "source": [
    "library(readr)\n",
    "\n",
    "\n",
    "# Construct the file path using environment variable\n",
    "genomics_data_base <- Sys.getenv(\"GENOMICS_DATA_BASE\")\n",
    "file_path <- file.path(genomics_data_base, \"annotations\", \"e_coli\", \"gene_sequences\", \"fepa_gene\", \"mortality_snps.plot\")\n",
    "\n",
    "# Read the file, skipping comment lines\n",
    "plot.df <- read_tsv(\n",
    "  file_path,\n",
    "  comment = \"#\",\n",
    "  col_names = c(\"CHR\", \"SNP\", \"BP\", \"minLOG10_p\", \"log10_p\", \"r2\")\n",
    ")\n",
    "\n",
    "plot.df$p <- 10^(-plot.df$log10_p)\n",
    "plot.df$SNP <- paste(plot.df$CHR, plot.df$BP, sep = \"_\")\n",
    "\n",
    "head(plot.df)"
   ]
  },
  {
   "cell_type": "code",
   "execution_count": 2,
   "metadata": {
    "vscode": {
     "languageId": "r"
    }
   },
   "outputs": [
    {
     "data": {
      "text/html": [
       "2.9731278535997"
      ],
      "text/latex": [
       "2.9731278535997"
      ],
      "text/markdown": [
       "2.9731278535997"
      ],
      "text/plain": [
       "[1] 2.973128"
      ]
     },
     "metadata": {},
     "output_type": "display_data"
    }
   ],
   "source": [
    "# Bonferroni correction\n",
    "\n",
    "p.value.cutoff = -log10(0.05/nrow(plot.df))\n",
    "p.value.cutoff"
   ]
  },
  {
   "cell_type": "code",
   "execution_count": 3,
   "metadata": {
    "vscode": {
     "languageId": "r"
    }
   },
   "outputs": [],
   "source": [
    "# Assuming you have a vector of p-values called 'p_values'\n",
    "# and a desired significance level 'alpha'\n",
    "p_values <- plot.df$p\n",
    "alpha <- 0.05\n",
    "\n",
    "# Use the p.adjust function with method=[\"bonferroni\", \"holm\", \"hochberg\", \"hommel\", \"BH\", \"BY\"]\n",
    "adjusted_p_values <- p.adjust(p_values, method = \"BY\")\n",
    "\n",
    "# Compare adjusted p-values with alpha\n",
    "significant <- adjusted_p_values < alpha\n",
    "\n",
    "signif.snps <- plot.df$SNP[significant]\n",
    "\n",
    "# length(signif.snps)\n",
    "# print(length(signif.snps))\n",
    "# print(adjusted_p_values)"
   ]
  },
  {
   "cell_type": "code",
   "execution_count": 4,
   "metadata": {
    "vscode": {
     "languageId": "r"
    }
   },
   "outputs": [
    {
     "name": "stderr",
     "output_type": "stream",
     "text": [
      "\n",
      "\n",
      "For example usage please run: vignette('qqman')\n",
      "\n",
      "\n",
      "\n",
      "Citation appreciated but not required:\n",
      "\n",
      "Turner, (2018). qqman: an R package for visualizing GWAS results using Q-Q and manhattan plots. Journal of Open Source Software, 3(25), 731, https://doi.org/10.21105/joss.00731.\n",
      "\n"
     ]
    },
    {
     "name": "stderr",
     "output_type": "stream",
     "text": [
      "\n",
      "\n"
     ]
    },
    {
     "ename": "ERROR",
     "evalue": "Error in manhattan(plot.df, chr = \"CHR\", bp = \"BP\", snp = \"SNP\", p = \"log10_p\", : non-numeric argument to binary operator\n",
     "output_type": "error",
     "traceback": [
      "Error in manhattan(plot.df, chr = \"CHR\", bp = \"BP\", snp = \"SNP\", p = \"log10_p\", : non-numeric argument to binary operator\nTraceback:\n"
     ]
    },
    {
     "data": {
      "image/png": "[encoded data removed]",
      "text/plain": [
       "plot without title"
      ]
     },
     "metadata": {
      "image/png": {
       "height": 375,
       "width": 1125
      }
     },
     "output_type": "display_data"
    }
   ],
   "source": [
    "library(qqman)\n",
    "\n",
    "\n",
    "# signif.snps <- plot.df$SNP[plot.df$log10_p > 1.301]\n",
    "\n",
    "options(repr.plot.width = 15, repr.plot.height = 5, repr.plot.res = 150)\n",
    "par(bg = \"white\")\n",
    "manhattan(\n",
    "    plot.df,\n",
    "    chr=\"CHR\",\n",
    "    bp=\"BP\",\n",
    "    snp=\"SNP\",\n",
    "    p=\"log10_p\",\n",
    "    logp=FALSE,\n",
    "    highlight = signif.snps\n",
    "    ) +\n",
    "    abline(h = p.value.cutoff, col = \"red\", lty = 2)"
   ]
  },
  {
   "cell_type": "code",
   "execution_count": 5,
   "metadata": {
    "vscode": {
     "languageId": "r"
    }
   },
   "outputs": [
    {
     "data": {
      "image/png": "[encoded data removed]",
      "text/plain": [
       "plot without title"
      ]
     },
     "metadata": {
      "image/png": {
       "height": 375,
       "width": 375
      }
     },
     "output_type": "display_data"
    }
   ],
   "source": [
    "library(qqman)\n",
    "\n",
    "\n",
    "options(repr.plot.width = 5, repr.plot.height = 5, repr.plot.res = 150)\n",
    "par(bg = \"white\")\n",
    "qq(plot.df$log10_p)"
   ]
  }
 ],
 "metadata": {
  "kernelspec": {
   "display_name": "R",
   "language": "R",
   "name": "ir"
  },
  "language_info": {
   "codemirror_mode": "r",
   "file_extension": ".r",
   "mimetype": "text/x-r-source",
   "name": "R",
   "pygments_lexer": "r",
   "version": "4.5.0"
  }
 },
 "nbformat": 4,
 "nbformat_minor": 2
}
