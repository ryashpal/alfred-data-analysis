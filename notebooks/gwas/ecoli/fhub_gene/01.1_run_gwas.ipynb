{
 "cells": [
  {
   "cell_type": "markdown",
   "metadata": {},
   "source": [
    "# Running instructions"
   ]
  },
  {
   "cell_type": "markdown",
   "metadata": {},
   "source": [
    "## Change working directory"
   ]
  },
  {
   "cell_type": "code",
   "execution_count": null,
   "metadata": {
    "vscode": {
     "languageId": "r"
    }
   },
   "outputs": [],
   "source": [
    "cd ~/workspace/genome_data/annotations/e_coli/gene_sequences/fhub_gene\n",
    "source ~/workspace/alfred-data-analysis/.venv_gwas/bin/activate"
   ]
  },
  {
   "cell_type": "markdown",
   "metadata": {},
   "source": [
    "## Obtain variants from the multiple sequence alignment files"
   ]
  },
  {
   "cell_type": "code",
   "execution_count": null,
   "metadata": {
    "vscode": {
     "languageId": "r"
    }
   },
   "outputs": [],
   "source": [
    "snp-sites -v -o variants.vcf aligned.fna"
   ]
  },
  {
   "cell_type": "markdown",
   "metadata": {},
   "source": [
    "## Patristic distances"
   ]
  },
  {
   "cell_type": "markdown",
   "metadata": {},
   "source": [
    "### Extract distance from phylogeny"
   ]
  },
  {
   "cell_type": "code",
   "execution_count": null,
   "metadata": {
    "vscode": {
     "languageId": "r"
    }
   },
   "outputs": [],
   "source": [
    "python ~/workspace/pyseer/scripts/phylogeny_distance.py tree.nwk  > phylogeny_dists.tsv"
   ]
  },
  {
   "cell_type": "markdown",
   "metadata": {},
   "source": [
    "### Perform GWAS"
   ]
  },
  {
   "cell_type": "code",
   "execution_count": null,
   "metadata": {
    "vscode": {
     "languageId": "r"
    }
   },
   "outputs": [],
   "source": [
    "pyseer --phenotypes /home/vmadmin/workspace/ehr_data/data/full_cohort/tube_id_mortality.pheno --vcf variants.vcf --distances phylogeny_dists.tsv --lineage --max-dimensions 6 --min-af 0.06 --max-af 0.94 > mortality_SNPs.txt"
   ]
  },
  {
   "cell_type": "markdown",
   "metadata": {},
   "source": [
    "### Format output"
   ]
  },
  {
   "cell_type": "code",
   "execution_count": null,
   "metadata": {
    "vscode": {
     "languageId": "r"
    }
   },
   "outputs": [],
   "source": [
    "cat <(echo \"#CHR SNP BP minLOG10(P) log10(p) r^2\") <(paste <(sed '1d' mortality_SNPs.txt | cut -d \"_\" -f 2) <(sed '1d' mortality_SNPs.txt | cut -f 4) | awk '{p = -log($2)/log(10); print \"1\",\".\",$1,p,p,\"0\"}' ) | tr ' ' '\\t' > mortality_snps.plot"
   ]
  },
  {
   "cell_type": "markdown",
   "metadata": {},
   "source": [
    "## Distance from root"
   ]
  },
  {
   "cell_type": "markdown",
   "metadata": {},
   "source": [
    "### Extract distance from phylogeny"
   ]
  },
  {
   "cell_type": "code",
   "execution_count": null,
   "metadata": {
    "vscode": {
     "languageId": "r"
    }
   },
   "outputs": [],
   "source": [
    "python ~/workspace/pyseer/scripts/phylogeny_distance.py --lmm tree.nwk  > phylogeny_K.tsv"
   ]
  },
  {
   "cell_type": "markdown",
   "metadata": {},
   "source": [
    "### Perform GWAS"
   ]
  },
  {
   "cell_type": "code",
   "execution_count": null,
   "metadata": {
    "vscode": {
     "languageId": "r"
    }
   },
   "outputs": [],
   "source": [
    "python ~/workspace/pyseer/pyseer-runner.py --lmm --phenotypes ~/workspace/ehr_data/data/full_cohort/tube_id_mortality.pheno --vcf variants.vcf --similarity phylogeny_K.tsv --phenotype-column death_30_day --output-patterns mortality_SNP_patterns.txt > mortality_SNPs_lmm.txt"
   ]
  },
  {
   "cell_type": "markdown",
   "metadata": {},
   "source": [
    "### Analyse output"
   ]
  },
  {
   "cell_type": "markdown",
   "metadata": {},
   "source": [
    "#### Count the number of patterns to control for multiple testing"
   ]
  },
  {
   "cell_type": "code",
   "execution_count": null,
   "metadata": {
    "vscode": {
     "languageId": "r"
    }
   },
   "outputs": [],
   "source": [
    "python ~/workspace/pyseer/scripts/count_patterns.py mortality_SNP_patterns.txt"
   ]
  },
  {
   "cell_type": "markdown",
   "metadata": {},
   "source": [
    "Output:\n",
    "\n",
    "Patterns:\t98\n",
    "\n",
    "Threshold:\t5.10E-04"
   ]
  },
  {
   "cell_type": "code",
   "execution_count": 6,
   "metadata": {
    "vscode": {
     "languageId": "r"
    }
   },
   "outputs": [
    {
     "data": {
      "text/html": [
       "<table class=\"dataframe\">\n",
       "<caption>A data.frame: 6 × 8</caption>\n",
       "<thead>\n",
       "\t<tr><th></th><th scope=col>variant</th><th scope=col>af</th><th scope=col>filter-pvalue</th><th scope=col>lrt-pvalue</th><th scope=col>beta</th><th scope=col>beta-std-err</th><th scope=col>variant_h2</th><th scope=col>notes</th></tr>\n",
       "\t<tr><th></th><th scope=col>&lt;chr&gt;</th><th scope=col>&lt;dbl&gt;</th><th scope=col>&lt;dbl&gt;</th><th scope=col>&lt;dbl&gt;</th><th scope=col>&lt;dbl&gt;</th><th scope=col>&lt;dbl&gt;</th><th scope=col>&lt;dbl&gt;</th><th scope=col>&lt;chr&gt;</th></tr>\n",
       "</thead>\n",
       "<tbody>\n",
       "\t<tr><th scope=row>1</th><td>1_592_T_C</td><td>0.8410</td><td>9.62e-01</td><td>5.65e-01</td><td>-0.02380</td><td>0.0413</td><td>0.01990</td><td></td></tr>\n",
       "\t<tr><th scope=row>2</th><td>1_595_C_A</td><td>0.0107</td><td>2.27e-02</td><td>2.81e-02</td><td> 0.23200</td><td>0.1050</td><td>0.07570</td><td></td></tr>\n",
       "\t<tr><th scope=row>3</th><td>1_603_C_T</td><td>0.0261</td><td>4.81e-05</td><td>8.16e-05</td><td> 0.28300</td><td>0.0715</td><td>0.13500</td><td></td></tr>\n",
       "\t<tr><th scope=row>4</th><td>1_610_C_T</td><td>0.0249</td><td>9.02e-01</td><td>8.28e-01</td><td>-0.01660</td><td>0.0764</td><td>0.00751</td><td></td></tr>\n",
       "\t<tr><th scope=row>5</th><td>1_618_A_G</td><td>0.0273</td><td>9.38e-05</td><td>1.61e-04</td><td> 0.26500</td><td>0.0699</td><td>0.13000</td><td></td></tr>\n",
       "\t<tr><th scope=row>6</th><td>1_619_C_T</td><td>0.8050</td><td>7.87e-01</td><td>8.93e-01</td><td>-0.00574</td><td>0.0425</td><td>0.00466</td><td></td></tr>\n",
       "</tbody>\n",
       "</table>\n"
      ],
      "text/latex": [
       "A data.frame: 6 × 8\n",
       "\\begin{tabular}{r|llllllll}\n",
       "  & variant & af & filter-pvalue & lrt-pvalue & beta & beta-std-err & variant\\_h2 & notes\\\\\n",
       "  & <chr> & <dbl> & <dbl> & <dbl> & <dbl> & <dbl> & <dbl> & <chr>\\\\\n",
       "\\hline\n",
       "\t1 & 1\\_592\\_T\\_C & 0.8410 & 9.62e-01 & 5.65e-01 & -0.02380 & 0.0413 & 0.01990 & \\\\\n",
       "\t2 & 1\\_595\\_C\\_A & 0.0107 & 2.27e-02 & 2.81e-02 &  0.23200 & 0.1050 & 0.07570 & \\\\\n",
       "\t3 & 1\\_603\\_C\\_T & 0.0261 & 4.81e-05 & 8.16e-05 &  0.28300 & 0.0715 & 0.13500 & \\\\\n",
       "\t4 & 1\\_610\\_C\\_T & 0.0249 & 9.02e-01 & 8.28e-01 & -0.01660 & 0.0764 & 0.00751 & \\\\\n",
       "\t5 & 1\\_618\\_A\\_G & 0.0273 & 9.38e-05 & 1.61e-04 &  0.26500 & 0.0699 & 0.13000 & \\\\\n",
       "\t6 & 1\\_619\\_C\\_T & 0.8050 & 7.87e-01 & 8.93e-01 & -0.00574 & 0.0425 & 0.00466 & \\\\\n",
       "\\end{tabular}\n"
      ],
      "text/markdown": [
       "\n",
       "A data.frame: 6 × 8\n",
       "\n",
       "| <!--/--> | variant &lt;chr&gt; | af &lt;dbl&gt; | filter-pvalue &lt;dbl&gt; | lrt-pvalue &lt;dbl&gt; | beta &lt;dbl&gt; | beta-std-err &lt;dbl&gt; | variant_h2 &lt;dbl&gt; | notes &lt;chr&gt; |\n",
       "|---|---|---|---|---|---|---|---|---|\n",
       "| 1 | 1_592_T_C | 0.8410 | 9.62e-01 | 5.65e-01 | -0.02380 | 0.0413 | 0.01990 | <!----> |\n",
       "| 2 | 1_595_C_A | 0.0107 | 2.27e-02 | 2.81e-02 |  0.23200 | 0.1050 | 0.07570 | <!----> |\n",
       "| 3 | 1_603_C_T | 0.0261 | 4.81e-05 | 8.16e-05 |  0.28300 | 0.0715 | 0.13500 | <!----> |\n",
       "| 4 | 1_610_C_T | 0.0249 | 9.02e-01 | 8.28e-01 | -0.01660 | 0.0764 | 0.00751 | <!----> |\n",
       "| 5 | 1_618_A_G | 0.0273 | 9.38e-05 | 1.61e-04 |  0.26500 | 0.0699 | 0.13000 | <!----> |\n",
       "| 6 | 1_619_C_T | 0.8050 | 7.87e-01 | 8.93e-01 | -0.00574 | 0.0425 | 0.00466 | <!----> |\n",
       "\n"
      ],
      "text/plain": [
       "  variant   af     filter-pvalue lrt-pvalue beta     beta-std-err variant_h2\n",
       "1 1_592_T_C 0.8410 9.62e-01      5.65e-01   -0.02380 0.0413       0.01990   \n",
       "2 1_595_C_A 0.0107 2.27e-02      2.81e-02    0.23200 0.1050       0.07570   \n",
       "3 1_603_C_T 0.0261 4.81e-05      8.16e-05    0.28300 0.0715       0.13500   \n",
       "4 1_610_C_T 0.0249 9.02e-01      8.28e-01   -0.01660 0.0764       0.00751   \n",
       "5 1_618_A_G 0.0273 9.38e-05      1.61e-04    0.26500 0.0699       0.13000   \n",
       "6 1_619_C_T 0.8050 7.87e-01      8.93e-01   -0.00574 0.0425       0.00466   \n",
       "  notes\n",
       "1      \n",
       "2      \n",
       "3      \n",
       "4      \n",
       "5      \n",
       "6      "
      ]
     },
     "metadata": {},
     "output_type": "display_data"
    }
   ],
   "source": [
    "library(data.table)\n",
    "\n",
    "\n",
    "gono_gwas <- fread('~/workspace/genome_data/annotations/e_coli/gene_sequences/fhub_gene/mortality_SNPs_lmm.txt', data.table = FALSE)\n",
    "head(gono_gwas)"
   ]
  },
  {
   "cell_type": "code",
   "execution_count": 4,
   "metadata": {
    "vscode": {
     "languageId": "r"
    }
   },
   "outputs": [
    {
     "data": {
      "text/html": [
       "0.000510204081632653"
      ],
      "text/latex": [
       "0.000510204081632653"
      ],
      "text/markdown": [
       "0.000510204081632653"
      ],
      "text/plain": [
       "[1] 0.0005102041"
      ]
     },
     "metadata": {},
     "output_type": "display_data"
    }
   ],
   "source": [
    "gono_gwas <- gono_gwas[order(gono_gwas$`lrt-pvalue`),]\n",
    "gono_gwas <- gono_gwas[!grepl(\"bad-chisq\", gono_gwas$notes),]\n",
    "\n",
    "# threshold form running count_patterns in pyseer\n",
    "sig_threshold <- 0.05/(98)\n",
    "sig_threshold"
   ]
  },
  {
   "cell_type": "code",
   "execution_count": 5,
   "metadata": {
    "vscode": {
     "languageId": "r"
    }
   },
   "outputs": [
    {
     "data": {
      "text/html": [
       "8"
      ],
      "text/latex": [
       "8"
      ],
      "text/markdown": [
       "8"
      ],
      "text/plain": [
       "[1] 8"
      ]
     },
     "metadata": {},
     "output_type": "display_data"
    },
    {
     "data": {
      "text/html": [
       "<table class=\"dataframe\">\n",
       "<caption>A data.frame: 8 × 8</caption>\n",
       "<thead>\n",
       "\t<tr><th></th><th scope=col>variant</th><th scope=col>af</th><th scope=col>filter-pvalue</th><th scope=col>lrt-pvalue</th><th scope=col>beta</th><th scope=col>beta-std-err</th><th scope=col>variant_h2</th><th scope=col>notes</th></tr>\n",
       "\t<tr><th></th><th scope=col>&lt;chr&gt;</th><th scope=col>&lt;dbl&gt;</th><th scope=col>&lt;dbl&gt;</th><th scope=col>&lt;dbl&gt;</th><th scope=col>&lt;dbl&gt;</th><th scope=col>&lt;dbl&gt;</th><th scope=col>&lt;dbl&gt;</th><th scope=col>&lt;chr&gt;</th></tr>\n",
       "</thead>\n",
       "<tbody>\n",
       "\t<tr><th scope=row>27</th><td>1_844_C_T </td><td>0.0238</td><td>1.03e-05</td><td>1.66e-05</td><td>0.322</td><td>0.0743</td><td>0.148</td><td></td></tr>\n",
       "\t<tr><th scope=row>3</th><td>1_603_C_T </td><td>0.0261</td><td>4.81e-05</td><td>8.16e-05</td><td>0.283</td><td>0.0715</td><td>0.135</td><td></td></tr>\n",
       "\t<tr><th scope=row>5</th><td>1_618_A_G </td><td>0.0273</td><td>9.38e-05</td><td>1.61e-04</td><td>0.265</td><td>0.0699</td><td>0.130</td><td></td></tr>\n",
       "\t<tr><th scope=row>29</th><td>1_856_T_C </td><td>0.0665</td><td>1.90e-04</td><td>1.86e-04</td><td>0.176</td><td>0.0468</td><td>0.128</td><td></td></tr>\n",
       "\t<tr><th scope=row>30</th><td>1_858_A_G </td><td>0.0689</td><td>3.44e-04</td><td>3.38e-04</td><td>0.167</td><td>0.0463</td><td>0.123</td><td></td></tr>\n",
       "\t<tr><th scope=row>31</th><td>1_861_T_C </td><td>0.0689</td><td>3.44e-04</td><td>3.38e-04</td><td>0.167</td><td>0.0463</td><td>0.123</td><td></td></tr>\n",
       "\t<tr><th scope=row>32</th><td>1_864_G_C </td><td>0.0689</td><td>3.44e-04</td><td>3.38e-04</td><td>0.167</td><td>0.0463</td><td>0.123</td><td></td></tr>\n",
       "\t<tr><th scope=row>101</th><td>1_1902_A_G</td><td>0.0143</td><td>3.28e-04</td><td>5.10e-04</td><td>0.322</td><td>0.0922</td><td>0.120</td><td></td></tr>\n",
       "</tbody>\n",
       "</table>\n"
      ],
      "text/latex": [
       "A data.frame: 8 × 8\n",
       "\\begin{tabular}{r|llllllll}\n",
       "  & variant & af & filter-pvalue & lrt-pvalue & beta & beta-std-err & variant\\_h2 & notes\\\\\n",
       "  & <chr> & <dbl> & <dbl> & <dbl> & <dbl> & <dbl> & <dbl> & <chr>\\\\\n",
       "\\hline\n",
       "\t27 & 1\\_844\\_C\\_T  & 0.0238 & 1.03e-05 & 1.66e-05 & 0.322 & 0.0743 & 0.148 & \\\\\n",
       "\t3 & 1\\_603\\_C\\_T  & 0.0261 & 4.81e-05 & 8.16e-05 & 0.283 & 0.0715 & 0.135 & \\\\\n",
       "\t5 & 1\\_618\\_A\\_G  & 0.0273 & 9.38e-05 & 1.61e-04 & 0.265 & 0.0699 & 0.130 & \\\\\n",
       "\t29 & 1\\_856\\_T\\_C  & 0.0665 & 1.90e-04 & 1.86e-04 & 0.176 & 0.0468 & 0.128 & \\\\\n",
       "\t30 & 1\\_858\\_A\\_G  & 0.0689 & 3.44e-04 & 3.38e-04 & 0.167 & 0.0463 & 0.123 & \\\\\n",
       "\t31 & 1\\_861\\_T\\_C  & 0.0689 & 3.44e-04 & 3.38e-04 & 0.167 & 0.0463 & 0.123 & \\\\\n",
       "\t32 & 1\\_864\\_G\\_C  & 0.0689 & 3.44e-04 & 3.38e-04 & 0.167 & 0.0463 & 0.123 & \\\\\n",
       "\t101 & 1\\_1902\\_A\\_G & 0.0143 & 3.28e-04 & 5.10e-04 & 0.322 & 0.0922 & 0.120 & \\\\\n",
       "\\end{tabular}\n"
      ],
      "text/markdown": [
       "\n",
       "A data.frame: 8 × 8\n",
       "\n",
       "| <!--/--> | variant &lt;chr&gt; | af &lt;dbl&gt; | filter-pvalue &lt;dbl&gt; | lrt-pvalue &lt;dbl&gt; | beta &lt;dbl&gt; | beta-std-err &lt;dbl&gt; | variant_h2 &lt;dbl&gt; | notes &lt;chr&gt; |\n",
       "|---|---|---|---|---|---|---|---|---|\n",
       "| 27 | 1_844_C_T  | 0.0238 | 1.03e-05 | 1.66e-05 | 0.322 | 0.0743 | 0.148 | <!----> |\n",
       "| 3 | 1_603_C_T  | 0.0261 | 4.81e-05 | 8.16e-05 | 0.283 | 0.0715 | 0.135 | <!----> |\n",
       "| 5 | 1_618_A_G  | 0.0273 | 9.38e-05 | 1.61e-04 | 0.265 | 0.0699 | 0.130 | <!----> |\n",
       "| 29 | 1_856_T_C  | 0.0665 | 1.90e-04 | 1.86e-04 | 0.176 | 0.0468 | 0.128 | <!----> |\n",
       "| 30 | 1_858_A_G  | 0.0689 | 3.44e-04 | 3.38e-04 | 0.167 | 0.0463 | 0.123 | <!----> |\n",
       "| 31 | 1_861_T_C  | 0.0689 | 3.44e-04 | 3.38e-04 | 0.167 | 0.0463 | 0.123 | <!----> |\n",
       "| 32 | 1_864_G_C  | 0.0689 | 3.44e-04 | 3.38e-04 | 0.167 | 0.0463 | 0.123 | <!----> |\n",
       "| 101 | 1_1902_A_G | 0.0143 | 3.28e-04 | 5.10e-04 | 0.322 | 0.0922 | 0.120 | <!----> |\n",
       "\n"
      ],
      "text/plain": [
       "    variant    af     filter-pvalue lrt-pvalue beta  beta-std-err variant_h2\n",
       "27  1_844_C_T  0.0238 1.03e-05      1.66e-05   0.322 0.0743       0.148     \n",
       "3   1_603_C_T  0.0261 4.81e-05      8.16e-05   0.283 0.0715       0.135     \n",
       "5   1_618_A_G  0.0273 9.38e-05      1.61e-04   0.265 0.0699       0.130     \n",
       "29  1_856_T_C  0.0665 1.90e-04      1.86e-04   0.176 0.0468       0.128     \n",
       "30  1_858_A_G  0.0689 3.44e-04      3.38e-04   0.167 0.0463       0.123     \n",
       "31  1_861_T_C  0.0689 3.44e-04      3.38e-04   0.167 0.0463       0.123     \n",
       "32  1_864_G_C  0.0689 3.44e-04      3.38e-04   0.167 0.0463       0.123     \n",
       "101 1_1902_A_G 0.0143 3.28e-04      5.10e-04   0.322 0.0922       0.120     \n",
       "    notes\n",
       "27       \n",
       "3        \n",
       "5        \n",
       "29       \n",
       "30       \n",
       "31       \n",
       "32       \n",
       "101      "
      ]
     },
     "metadata": {},
     "output_type": "display_data"
    }
   ],
   "source": [
    "sum(gono_gwas$`lrt-pvalue`<sig_threshold)\n",
    "sig_hits <- gono_gwas[gono_gwas$`lrt-pvalue`<sig_threshold,]\n",
    "sig_hits"
   ]
  },
  {
   "cell_type": "markdown",
   "metadata": {},
   "source": [
    "## Pairwise distance matrix produced using mash"
   ]
  },
  {
   "cell_type": "markdown",
   "metadata": {},
   "source": [
    "### Create the mash sketches"
   ]
  },
  {
   "cell_type": "code",
   "execution_count": null,
   "metadata": {
    "vscode": {
     "languageId": "r"
    }
   },
   "outputs": [],
   "source": [
    "mash sketch -s 10000 -o mash_sketch /home/vmadmin/workspace/genome_data/fasta/ECOLI/*fasta"
   ]
  },
  {
   "cell_type": "markdown",
   "metadata": {},
   "source": [
    "### Calculate distances between all pairs of samples"
   ]
  },
  {
   "cell_type": "code",
   "execution_count": null,
   "metadata": {
    "vscode": {
     "languageId": "r"
    }
   },
   "outputs": [],
   "source": [
    "mash dist mash_sketch.msh mash_sketch.msh| square_mash > mash.tsv"
   ]
  },
  {
   "cell_type": "code",
   "execution_count": null,
   "metadata": {
    "vscode": {
     "languageId": "r"
    }
   },
   "outputs": [],
   "source": [
    "python ~/workspace/pyseer/scree_plot.py mash.tsv"
   ]
  },
  {
   "cell_type": "code",
   "execution_count": null,
   "metadata": {
    "vscode": {
     "languageId": "r"
    }
   },
   "outputs": [],
   "source": [
    "sed -i 's/_short//g' mash.tsv"
   ]
  },
  {
   "cell_type": "markdown",
   "metadata": {},
   "source": [
    "### Perform GWAS"
   ]
  },
  {
   "cell_type": "code",
   "execution_count": null,
   "metadata": {
    "vscode": {
     "languageId": "r"
    }
   },
   "outputs": [],
   "source": [
    "python ~/workspace/pyseer/pyseer-runner.py --phenotypes ~/workspace/ehr_data/data/full_cohort/tube_id_mortality.pheno --vcf variants.vcf --distances mash.tsv --phenotype-column death_30_day --output-patterns mortality_SNP_patterns_mash.txt --max-dimensions 6 --min-af 0.085 --max-af 0.915 > mortality_SNPs_mash.txt"
   ]
  }
 ],
 "metadata": {
  "kernelspec": {
   "display_name": "R",
   "language": "R",
   "name": "ir"
  },
  "language_info": {
   "codemirror_mode": "r",
   "file_extension": ".r",
   "mimetype": "text/x-r-source",
   "name": "R",
   "pygments_lexer": "r",
   "version": "4.5.0"
  }
 },
 "nbformat": 4,
 "nbformat_minor": 2
}
