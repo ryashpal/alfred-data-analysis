{
 "cells": [
  {
   "cell_type": "markdown",
   "metadata": {},
   "source": [
    "# Running instructions"
   ]
  },
  {
   "cell_type": "markdown",
   "metadata": {},
   "source": [
    "## Change working directory"
   ]
  },
  {
   "cell_type": "code",
   "execution_count": null,
   "metadata": {},
   "outputs": [],
   "source": [
    "cd ~/workspace/genome_data/annotations/e_coli/gene_sequences/fhub_gene_survived\n",
    "source ~/workspace/alfred-data-analysis/.venv_gwas/bin/activate"
   ]
  },
  {
   "cell_type": "markdown",
   "metadata": {},
   "source": [
    "## Obtain variants from the multiple sequence alignment files"
   ]
  },
  {
   "cell_type": "code",
   "execution_count": null,
   "metadata": {},
   "outputs": [],
   "source": [
    "snp-sites -v -o variants.vcf aligned.fna"
   ]
  },
  {
   "cell_type": "markdown",
   "metadata": {},
   "source": [
    "## Obtain consensus sequence from the multiple sequence alignment files"
   ]
  },
  {
   "cell_type": "code",
   "execution_count": null,
   "metadata": {},
   "outputs": [],
   "source": [
    "snp-sites -r -o consensus.fna aligned.fna"
   ]
  },
  {
   "cell_type": "code",
   "execution_count": 1,
   "metadata": {},
   "outputs": [
    {
     "name": "stderr",
     "output_type": "stream",
     "text": [
      "/home/vmadmin/workspace/alfred-data-analysis/.venv/lib/python3.10/site-packages/Bio/Align/AlignInfo.py:62: BiopythonDeprecationWarning: The `dumb_consensus` method is deprecated and will be removed in a future release of Biopython. As an alternative, you can convert the multiple sequence alignment object to a new-style Alignment object by via its `.alignment` property, and then create a Motif object. You can then use the `.consensus` or `.degenerate_consensus` property of the Motif object to get a consensus sequence. For more control over how the consensus sequence is calculated, you can call the `calculate_consensus` method on the `.counts` property of the Motif object. This is an example for a multiple sequence alignment `msa` of DNA nucleotides:\n",
      ">>> from Bio.Seq import Seq\n",
      ">>> from Bio.SeqRecord import SeqRecord\n",
      ">>> from Bio.Align import MultipleSeqAlignment\n",
      ">>> from Bio.Align.AlignInfo import SummaryInfo\n",
      ">>> msa = MultipleSeqAlignment([SeqRecord(Seq('ACGT')),\n",
      "...                             SeqRecord(Seq('ATGT')),\n",
      "...                             SeqRecord(Seq('ATGT'))])\n",
      ">>> summary = SummaryInfo(msa)\n",
      ">>> dumb_consensus = summary.dumb_consensus(ambiguous='N')\n",
      ">>> print(dumb_consensus)\n",
      "ANGT\n",
      ">>> alignment = msa.alignment\n",
      ">>> from Bio.motifs import Motif\n",
      ">>> motif = Motif('ACGT', alignment)\n",
      ">>> print(motif.consensus)\n",
      "ATGT\n",
      ">>> print(motif.degenerate_consensus)\n",
      "AYGT\n",
      ">>> counts = motif.counts\n",
      ">>> consensus = counts.calculate_consensus(identity=0.7)\n",
      ">>> print(consensus)\n",
      "ANGT\n",
      "\n",
      "If your multiple sequence alignment object was obtained using Bio.AlignIO, then you can obtain a new-style Alignment object directly by using Bio.Align.read instead of Bio.AlignIO.read, or Bio.Align.parse instead of Bio.AlignIO.parse.\n",
      "  warnings.warn(\n"
     ]
    }
   ],
   "source": [
    "import os\n",
    "from pathlib import Path\n",
    "\n",
    "from Bio import AlignIO\n",
    "from Bio.Align import AlignInfo\n",
    "\n",
    "\n",
    "dataDir = Path(os.environ['GENOMICS_DATA_BASE'], 'annotations', 'e_coli', 'gene_sequences', 'fhub_gene_survived')\n",
    "\n",
    "alignment = AlignIO.read(Path(dataDir, \"aligned.fna\"), \"fasta\")\n",
    "\n",
    "summary_align = AlignInfo.SummaryInfo(alignment)\n",
    "\n",
    "consensus = summary_align.dumb_consensus(threshold=0.45, ambiguous='N')"
   ]
  },
  {
   "cell_type": "code",
   "execution_count": 2,
   "metadata": {},
   "outputs": [
    {
     "name": "stdout",
     "output_type": "stream",
     "text": [
      "0\n"
     ]
    }
   ],
   "source": [
    "print(consensus.count('N'))"
   ]
  },
  {
   "cell_type": "code",
   "execution_count": 3,
   "metadata": {},
   "outputs": [
    {
     "name": "stdout",
     "output_type": "stream",
     "text": [
      "GTGAGTAAACGAATTGCGCTTTTTCCGGTGTTATTGCTGGCGCTGCTGGTGGTTGCTGCTGCGGCGTTGACCTGGATGAACTTCTCGCAGGCGCTGCCGCGCAGCCAGTGGGCGCAGGCCGCCTGGTCGCCGGATATTGACGTCATCGAGCAGATGATTTTTCACTACAGCTTGTTGCCGCGTCTGGCGATTTCGCTGCTGGTGGGCGCGGGCCTGGGGCTGGTGGGCGTGCTGTTTCAGCAAGTGCTGCGTAACCCGCTGGCGGAACCGACGACGTTGGGTGTTGCAACAGGCGCGCAACTGGGGATTACCGTCACCACGCTCTGGGCGATCCCCGGCGCGATGGCGAGCCAGTTTGCTGCGCTGGCAGGGGCTTGTGTTGTTGGCTTAATCGTCTTTGGCGTCGCGTGGGGGAAACGGCTTTCGCCGGTAACGCTGATCCTCGCGGGGCTGGTAGTGAGCCTTTATTGCGGCGCAATCAATCAGTTACTGGTTATCTTCCATCATGACCAACTGCAAAGCATGTTCCTGTGGAGCACCGGAACGCTGACGCAAACCGACTGGGGCGGCGTTGAGCGTTTATGGCCGCAGCTGCTGGGCGGCGTGATGCTGACGTTATTGCTACTTCGCCCGTTAACTCTGATGGGGCTTGATGATGGCGTGGCGCGCAATCTCGGGCTGGCCTTGTCGCTCGCTCGTCTGGCGGCGTTGTCGCTGGCGATTGTCATCAGTGCGCTGCTGGTGAACGCGGTGGGGATTATCGGCTTTATCGGTTTGTTCGCGCCACTGCTGGCGAAAATGCTGGGGGCGCGGCGTTTGTTGCCACGGTTGATGCTGGCATCGCTGATTGGTGCGTTAATTCTGTGGCTTTCTGATCAAATCATCCTCTGGCTGACTCGCGTGTGGATGGAAGTGTCCACCGGTTCGGTCACTGCGTTGATCGGTGCGCCGCTGCTACTGTGGCTGCTGCCGCGTTTACGCAGCATTAGCGCGCCGGATATGAAGGTCAACGATCGTGTCGCGACTGAACGCCAACACGTGCTGGCGTTTGCCCTCGCGGGCGGCGTGCTGCTGTTGATGGCTGTGGTGGTGGCGCTGTCGTTTGGTCGTGATGCGCACGGCTGGACGTGGGCGAGCGGGGCGTTGCTCGAGGATTTGATGCCCTGGCGCTGGCCGCGAATTATGGCTGCGCTGTTTGCGGGCGTCATGCTGGCGGTGGCGGGCTGTATTATTCAGCGGCTGACCGGAAACCCGATGGCAAGCCCGGAAGTGCTGGGGATTAGCTCCGGCGCGGCGTTTGGCGTGGTGTTAATGCTGTTTCTGGTGCCGGGTAATGCCTTTGGCTGGCTGTTACCCGCAGGCAGTCTCGGGGCGGCGGTGACGCTGTTGATCATTATGATCGCCGCCGGACGCGGTGGATTTTCCCCACACCGCATGTTACTGGCGGGGATGGCGTTAAGTACCGCGTTCACCATGCTTTTGATGATGTTGCAGGCAAGTGGTGACCCGCGAATGGCGCAAGTTCTGACCTGGATTTCCGGTTCGACCTACAACGCGACCGATGCGCAGGTCTGGCGTACCGGAATTGTGATGGTGATTTTGCTGGCGATTACCCCGCTGTGCCGCCGCTGGCTGACCATTTTACCGCTGGGTGGTGATACCGCACGAGCCGTGGGGATGGCGCTGACGCCGACGCGAATTGCGCTGCTGCTGTTAGCGGCTTGCCTGACGGCGACCGCGACAATGACCATTGGACCGTTGAGTTTTGTTGGTTTAATGGCACCGCATATTGCGCGGATGATGGGCTTTCGACGGACGATGCCACACATCGTAATTTCGGCGCTGGTGGGTGGTTTACTGCTGGTGTTCGCTGACTGGTGTGGGCGGATGGTGCTGTTTCCATTCCAGATCCCCGCGGGGCTGCTGTCGACCTTTATCGGCGCGCCATATTTTATCTATTTGTTGAGAAAGCAGAGCCGTTAA\n"
     ]
    }
   ],
   "source": [
    "print(consensus)"
   ]
  },
  {
   "cell_type": "code",
   "execution_count": 4,
   "metadata": {},
   "outputs": [
    {
     "name": "stdout",
     "output_type": "stream",
     "text": [
      "1983\n"
     ]
    }
   ],
   "source": [
    "print(len(consensus))"
   ]
  },
  {
   "cell_type": "markdown",
   "metadata": {},
   "source": [
    "### Translate the nucleotide sequence to amino acid sequence"
   ]
  },
  {
   "cell_type": "code",
   "execution_count": 5,
   "metadata": {},
   "outputs": [
    {
     "data": {
      "text/plain": [
       "Seq('VSKRIALFPVLLLALLVVAAAALTWMNFSQALPRSQWAQAAWSPDIDVIEQMIF...SR*')"
      ]
     },
     "execution_count": 5,
     "metadata": {},
     "output_type": "execute_result"
    }
   ],
   "source": [
    "from Bio.Seq import Seq\n",
    "\n",
    "\n",
    "dna_seq = Seq(consensus)\n",
    "protein_seq = dna_seq.translate()\n",
    "protein_seq"
   ]
  },
  {
   "cell_type": "code",
   "execution_count": 6,
   "metadata": {},
   "outputs": [
    {
     "data": {
      "text/plain": [
       "'VSKRIALFPVLLLALLVVAAAALTWMNFSQALPRSQWAQAAWSPDIDVIEQMIFHYSLLPRLAISLLVGAGLGLVGVLFQQVLRNPLAEPTTLGVATGAQLGITVTTLWAIPGAMASQFAALAGACVVGLIVFGVAWGKRLSPVTLILAGLVVSLYCGAINQLLVIFHHDQLQSMFLWSTGTLTQTDWGGVERLWPQLLGGVMLTLLLLRPLTLMGLDDGVARNLGLALSLARLAALSLAIVISALLVNAVGIIGFIGLFAPLLAKMLGARRLLPRLMLASLIGALILWLSDQIILWLTRVWMEVSTGSVTALIGAPLLLWLLPRLRSISAPDMKVNDRVATERQHVLAFALAGGVLLLMAVVVALSFGRDAHGWTWASGALLEDLMPWRWPRIMAALFAGVMLAVAGCIIQRLTGNPMASPEVLGISSGAAFGVVLMLFLVPGNAFGWLLPAGSLGAAVTLLIIMIAAGRGGFSPHRMLLAGMALSTAFTMLLMMLQASGDPRMAQVLTWISGSTYNATDAQVWRTGIVMVILLAITPLCRRWLTILPLGGDTARAVGMALTPTRIALLLLAACLTATATMTIGPLSFVGLMAPHIARMMGFRRTMPHIVISALVGGLLLVFADWCGRMVLFPFQIPAGLLSTFIGAPYFIYLLRKQSR*'"
      ]
     },
     "execution_count": 6,
     "metadata": {},
     "output_type": "execute_result"
    }
   ],
   "source": [
    "str(protein_seq)"
   ]
  }
 ],
 "metadata": {
  "kernelspec": {
   "display_name": ".venv",
   "language": "python",
   "name": "python3"
  },
  "language_info": {
   "codemirror_mode": {
    "name": "ipython",
    "version": 3
   },
   "file_extension": ".py",
   "mimetype": "text/x-python",
   "name": "python",
   "nbconvert_exporter": "python",
   "pygments_lexer": "ipython3",
   "version": "3.10.12"
  }
 },
 "nbformat": 4,
 "nbformat_minor": 2
}
