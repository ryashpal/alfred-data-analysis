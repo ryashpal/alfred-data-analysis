{
 "cells": [
  {
   "cell_type": "markdown",
   "metadata": {},
   "source": [
    "# Visualise GWAS output"
   ]
  },
  {
   "cell_type": "markdown",
   "metadata": {},
   "source": [
    "## Patristic distances"
   ]
  },
  {
   "cell_type": "code",
   "execution_count": 1,
   "metadata": {
    "vscode": {
     "languageId": "r"
    }
   },
   "outputs": [
    {
     "name": "stderr",
     "output_type": "stream",
     "text": [
      "\u001b[1mRows: \u001b[22m\u001b[34m8440\u001b[39m \u001b[1mColumns: \u001b[22m\u001b[34m6\u001b[39m\n",
      "\u001b[36m──\u001b[39m \u001b[1mColumn specification\u001b[22m \u001b[36m────────────────────────────────────────────────────────\u001b[39m\n",
      "\u001b[1mDelimiter:\u001b[22m \"\\t\"\n",
      "\u001b[31mchr\u001b[39m (2): SNP, BP\n",
      "\u001b[32mdbl\u001b[39m (4): CHR, minLOG10_p, log10_p, r2\n",
      "\n",
      "\u001b[36mℹ\u001b[39m Use `spec()` to retrieve the full column specification for this data.\n",
      "\u001b[36mℹ\u001b[39m Specify the column types or set `show_col_types = FALSE` to quiet this message.\n"
     ]
    },
    {
     "data": {
      "text/html": [
       "<table class=\"dataframe\">\n",
       "<caption>A tibble: 6 × 7</caption>\n",
       "<thead>\n",
       "\t<tr><th scope=col>CHR</th><th scope=col>SNP</th><th scope=col>BP</th><th scope=col>minLOG10_p</th><th scope=col>log10_p</th><th scope=col>r2</th><th scope=col>p</th></tr>\n",
       "\t<tr><th scope=col>&lt;dbl&gt;</th><th scope=col>&lt;chr&gt;</th><th scope=col>&lt;chr&gt;</th><th scope=col>&lt;dbl&gt;</th><th scope=col>&lt;dbl&gt;</th><th scope=col>&lt;dbl&gt;</th><th scope=col>&lt;dbl&gt;</th></tr>\n",
       "</thead>\n",
       "<tbody>\n",
       "\t<tr><td>1</td><td>1_8712       </td><td>8712       </td><td>0.00480371</td><td>0.00480371</td><td>0</td><td>0.989</td></tr>\n",
       "\t<tr><td>1</td><td>1_dgoR       </td><td>dgoR       </td><td>0.00480371</td><td>0.00480371</td><td>0</td><td>0.989</td></tr>\n",
       "\t<tr><td>1</td><td>1_yehL~~~moxR</td><td>yehL~~~moxR</td><td>0.00480371</td><td>0.00480371</td><td>0</td><td>0.989</td></tr>\n",
       "\t<tr><td>1</td><td>1_ygfK       </td><td>ygfK       </td><td>0.00480371</td><td>0.00480371</td><td>0</td><td>0.989</td></tr>\n",
       "\t<tr><td>1</td><td>1_ybcH       </td><td>ybcH       </td><td>0.00480371</td><td>0.00480371</td><td>0</td><td>0.989</td></tr>\n",
       "\t<tr><td>1</td><td>1_ydbL       </td><td>ydbL       </td><td>0.00480371</td><td>0.00480371</td><td>0</td><td>0.989</td></tr>\n",
       "</tbody>\n",
       "</table>\n"
      ],
      "text/latex": [
       "A tibble: 6 × 7\n",
       "\\begin{tabular}{lllllll}\n",
       " CHR & SNP & BP & minLOG10\\_p & log10\\_p & r2 & p\\\\\n",
       " <dbl> & <chr> & <chr> & <dbl> & <dbl> & <dbl> & <dbl>\\\\\n",
       "\\hline\n",
       "\t 1 & 1\\_8712        & 8712        & 0.00480371 & 0.00480371 & 0 & 0.989\\\\\n",
       "\t 1 & 1\\_dgoR        & dgoR        & 0.00480371 & 0.00480371 & 0 & 0.989\\\\\n",
       "\t 1 & 1\\_yehL\\textasciitilde{}\\textasciitilde{}\\textasciitilde{}moxR & yehL\\textasciitilde{}\\textasciitilde{}\\textasciitilde{}moxR & 0.00480371 & 0.00480371 & 0 & 0.989\\\\\n",
       "\t 1 & 1\\_ygfK        & ygfK        & 0.00480371 & 0.00480371 & 0 & 0.989\\\\\n",
       "\t 1 & 1\\_ybcH        & ybcH        & 0.00480371 & 0.00480371 & 0 & 0.989\\\\\n",
       "\t 1 & 1\\_ydbL        & ydbL        & 0.00480371 & 0.00480371 & 0 & 0.989\\\\\n",
       "\\end{tabular}\n"
      ],
      "text/markdown": [
       "\n",
       "A tibble: 6 × 7\n",
       "\n",
       "| CHR &lt;dbl&gt; | SNP &lt;chr&gt; | BP &lt;chr&gt; | minLOG10_p &lt;dbl&gt; | log10_p &lt;dbl&gt; | r2 &lt;dbl&gt; | p &lt;dbl&gt; |\n",
       "|---|---|---|---|---|---|---|\n",
       "| 1 | 1_8712        | 8712        | 0.00480371 | 0.00480371 | 0 | 0.989 |\n",
       "| 1 | 1_dgoR        | dgoR        | 0.00480371 | 0.00480371 | 0 | 0.989 |\n",
       "| 1 | 1_yehL~~~moxR | yehL~~~moxR | 0.00480371 | 0.00480371 | 0 | 0.989 |\n",
       "| 1 | 1_ygfK        | ygfK        | 0.00480371 | 0.00480371 | 0 | 0.989 |\n",
       "| 1 | 1_ybcH        | ybcH        | 0.00480371 | 0.00480371 | 0 | 0.989 |\n",
       "| 1 | 1_ydbL        | ydbL        | 0.00480371 | 0.00480371 | 0 | 0.989 |\n",
       "\n"
      ],
      "text/plain": [
       "  CHR SNP           BP          minLOG10_p log10_p    r2 p    \n",
       "1 1   1_8712        8712        0.00480371 0.00480371 0  0.989\n",
       "2 1   1_dgoR        dgoR        0.00480371 0.00480371 0  0.989\n",
       "3 1   1_yehL~~~moxR yehL~~~moxR 0.00480371 0.00480371 0  0.989\n",
       "4 1   1_ygfK        ygfK        0.00480371 0.00480371 0  0.989\n",
       "5 1   1_ybcH        ybcH        0.00480371 0.00480371 0  0.989\n",
       "6 1   1_ydbL        ydbL        0.00480371 0.00480371 0  0.989"
      ]
     },
     "metadata": {},
     "output_type": "display_data"
    }
   ],
   "source": [
    "library(readr)\n",
    "\n",
    "# Construct the file path using environment variable\n",
    "genomics_data_base <- Sys.getenv(\"GENOMICS_DATA_BASE\")\n",
    "file_path <- file.path(genomics_data_base, \"annotations\", \"e_coli\", \"gene_sequences\", \"gene_presence_absence\", \"mortality_gene_presence_absence.plot\")\n",
    "\n",
    "# Read the file, skipping comment lines\n",
    "plot.df <- read_tsv(\n",
    "  file_path,\n",
    "  comment = \"#\",\n",
    "  col_names = c(\"CHR\", \"SNP\", \"BP\", \"minLOG10_p\", \"log10_p\", \"r2\")\n",
    ")\n",
    "\n",
    "plot.df$p <- 10^(-plot.df$log10_p)\n",
    "plot.df$SNP <- paste(plot.df$CHR, plot.df$BP, sep = \"_\")\n",
    "\n",
    "head(plot.df)"
   ]
  },
  {
   "cell_type": "markdown",
   "metadata": {},
   "source": [
    "## Bonferroni correction"
   ]
  },
  {
   "cell_type": "code",
   "execution_count": null,
   "metadata": {
    "vscode": {
     "languageId": "r"
    }
   },
   "outputs": [
    {
     "data": {
      "text/html": [
       "5.22737244228964"
      ],
      "text/latex": [
       "5.22737244228964"
      ],
      "text/markdown": [
       "5.22737244228964"
      ],
      "text/plain": [
       "[1] 5.227372"
      ]
     },
     "metadata": {},
     "output_type": "display_data"
    }
   ],
   "source": [
    "p.value.cutoff = -log10(0.05/nrow(plot.df))\n",
    "p.value.cutoff"
   ]
  },
  {
   "cell_type": "code",
   "execution_count": 11,
   "metadata": {
    "vscode": {
     "languageId": "r"
    }
   },
   "outputs": [
    {
     "data": {
      "text/html": [
       "<table class=\"dataframe\">\n",
       "<caption>A tibble: 0 × 7</caption>\n",
       "<thead>\n",
       "\t<tr><th scope=col>CHR</th><th scope=col>SNP</th><th scope=col>BP</th><th scope=col>minLOG10_p</th><th scope=col>log10_p</th><th scope=col>r2</th><th scope=col>p</th></tr>\n",
       "\t<tr><th scope=col>&lt;dbl&gt;</th><th scope=col>&lt;chr&gt;</th><th scope=col>&lt;chr&gt;</th><th scope=col>&lt;dbl&gt;</th><th scope=col>&lt;dbl&gt;</th><th scope=col>&lt;dbl&gt;</th><th scope=col>&lt;dbl&gt;</th></tr>\n",
       "</thead>\n",
       "<tbody>\n",
       "</tbody>\n",
       "</table>\n"
      ],
      "text/latex": [
       "A tibble: 0 × 7\n",
       "\\begin{tabular}{lllllll}\n",
       " CHR & SNP & BP & minLOG10\\_p & log10\\_p & r2 & p\\\\\n",
       " <dbl> & <chr> & <chr> & <dbl> & <dbl> & <dbl> & <dbl>\\\\\n",
       "\\hline\n",
       "\\end{tabular}\n"
      ],
      "text/markdown": [
       "\n",
       "A tibble: 0 × 7\n",
       "\n",
       "| CHR &lt;dbl&gt; | SNP &lt;chr&gt; | BP &lt;chr&gt; | minLOG10_p &lt;dbl&gt; | log10_p &lt;dbl&gt; | r2 &lt;dbl&gt; | p &lt;dbl&gt; |\n",
       "|---|---|---|---|---|---|---|\n",
       "\n"
      ],
      "text/plain": [
       "     CHR SNP BP minLOG10_p log10_p r2 p"
      ]
     },
     "metadata": {},
     "output_type": "display_data"
    }
   ],
   "source": [
    "plot.df[plot.df$log10_p > p.value.cutoff, ]"
   ]
  },
  {
   "cell_type": "markdown",
   "metadata": {},
   "source": [
    "## holm (FDR) correction"
   ]
  },
  {
   "cell_type": "code",
   "execution_count": 13,
   "metadata": {
    "vscode": {
     "languageId": "r"
    }
   },
   "outputs": [
    {
     "data": {
      "text/html": [],
      "text/latex": [],
      "text/markdown": [],
      "text/plain": [
       "character(0)"
      ]
     },
     "metadata": {},
     "output_type": "display_data"
    }
   ],
   "source": [
    "p_values <- plot.df$p\n",
    "alpha <- 0.05\n",
    "\n",
    "# Use the p.adjust function with method=[\"bonferroni\", \"holm\", \"hochberg\", \"hommel\", \"BH\", \"BY\"]\n",
    "adjusted_p_values <- p.adjust(p_values, method = \"holm\")\n",
    "\n",
    "significant <- adjusted_p_values < alpha\n",
    "\n",
    "signif.genes <- plot.df$SNP[significant]\n",
    "\n",
    "signif.genes"
   ]
  },
  {
   "cell_type": "markdown",
   "metadata": {},
   "source": [
    "## hochberg correction"
   ]
  },
  {
   "cell_type": "code",
   "execution_count": 14,
   "metadata": {
    "vscode": {
     "languageId": "r"
    }
   },
   "outputs": [
    {
     "data": {
      "text/html": [],
      "text/latex": [],
      "text/markdown": [],
      "text/plain": [
       "character(0)"
      ]
     },
     "metadata": {},
     "output_type": "display_data"
    }
   ],
   "source": [
    "p_values <- plot.df$p\n",
    "alpha <- 0.05\n",
    "\n",
    "# Use the p.adjust function with method=[\"bonferroni\", \"holm\", \"hochberg\", \"hommel\", \"BH\", \"BY\"]\n",
    "adjusted_p_values <- p.adjust(p_values, method = \"hochberg\")\n",
    "\n",
    "significant <- adjusted_p_values < alpha\n",
    "\n",
    "signif.genes <- plot.df$SNP[significant]\n",
    "\n",
    "signif.genes"
   ]
  },
  {
   "cell_type": "markdown",
   "metadata": {},
   "source": [
    "## hommel correction"
   ]
  },
  {
   "cell_type": "code",
   "execution_count": 15,
   "metadata": {
    "vscode": {
     "languageId": "r"
    }
   },
   "outputs": [
    {
     "data": {
      "text/html": [],
      "text/latex": [],
      "text/markdown": [],
      "text/plain": [
       "character(0)"
      ]
     },
     "metadata": {},
     "output_type": "display_data"
    }
   ],
   "source": [
    "p_values <- plot.df$p\n",
    "alpha <- 0.05\n",
    "\n",
    "# Use the p.adjust function with method=[\"bonferroni\", \"holm\", \"hochberg\", \"hommel\", \"BH\", \"BY\"]\n",
    "adjusted_p_values <- p.adjust(p_values, method = \"hommel\")\n",
    "\n",
    "significant <- adjusted_p_values < alpha\n",
    "\n",
    "signif.genes <- plot.df$SNP[significant]\n",
    "\n",
    "signif.genes"
   ]
  },
  {
   "cell_type": "markdown",
   "metadata": {},
   "source": [
    "## BH correction"
   ]
  },
  {
   "cell_type": "code",
   "execution_count": 16,
   "metadata": {
    "vscode": {
     "languageId": "r"
    }
   },
   "outputs": [
    {
     "data": {
      "text/html": [],
      "text/latex": [],
      "text/markdown": [],
      "text/plain": [
       "character(0)"
      ]
     },
     "metadata": {},
     "output_type": "display_data"
    }
   ],
   "source": [
    "p_values <- plot.df$p\n",
    "alpha <- 0.05\n",
    "\n",
    "# Use the p.adjust function with method=[\"bonferroni\", \"holm\", \"hochberg\", \"hommel\", \"BH\", \"BY\"]\n",
    "adjusted_p_values <- p.adjust(p_values, method = \"BH\")\n",
    "\n",
    "significant <- adjusted_p_values < alpha\n",
    "\n",
    "signif.genes <- plot.df$SNP[significant]\n",
    "\n",
    "signif.genes"
   ]
  },
  {
   "cell_type": "markdown",
   "metadata": {},
   "source": [
    "## BY correction"
   ]
  },
  {
   "cell_type": "code",
   "execution_count": 17,
   "metadata": {
    "vscode": {
     "languageId": "r"
    }
   },
   "outputs": [
    {
     "data": {
      "text/html": [],
      "text/latex": [],
      "text/markdown": [],
      "text/plain": [
       "character(0)"
      ]
     },
     "metadata": {},
     "output_type": "display_data"
    }
   ],
   "source": [
    "p_values <- plot.df$p\n",
    "alpha <- 0.05\n",
    "\n",
    "# Use the p.adjust function with method=[\"bonferroni\", \"holm\", \"hochberg\", \"hommel\", \"BH\", \"BY\"]\n",
    "adjusted_p_values <- p.adjust(p_values, method = \"BY\")\n",
    "\n",
    "significant <- adjusted_p_values < alpha\n",
    "\n",
    "signif.genes <- plot.df$SNP[significant]\n",
    "\n",
    "signif.genes"
   ]
  }
 ],
 "metadata": {
  "kernelspec": {
   "display_name": "R",
   "language": "R",
   "name": "ir"
  },
  "language_info": {
   "codemirror_mode": "r",
   "file_extension": ".r",
   "mimetype": "text/x-r-source",
   "name": "R",
   "pygments_lexer": "r",
   "version": "4.5.0"
  }
 },
 "nbformat": 4,
 "nbformat_minor": 2
}
