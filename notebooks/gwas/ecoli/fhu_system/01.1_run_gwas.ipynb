{
 "cells": [
  {
   "cell_type": "markdown",
   "metadata": {},
   "source": [
    "# Running instructions"
   ]
  },
  {
   "cell_type": "markdown",
   "metadata": {},
   "source": [
    "## Change working directory"
   ]
  },
  {
   "cell_type": "code",
   "execution_count": null,
   "metadata": {},
   "outputs": [],
   "source": [
    "cd ~/workspace/genome_data/annotations/e_coli/gene_sequences/fhu_system\n",
    "source ~/workspace/alfred-data-analysis/.venv_gwas/bin/activate"
   ]
  },
  {
   "cell_type": "markdown",
   "metadata": {},
   "source": [
    "## Obtain variants from the multiple sequence alignment files"
   ]
  },
  {
   "cell_type": "code",
   "execution_count": null,
   "metadata": {},
   "outputs": [],
   "source": [
    "snp-sites -v -o variants.vcf aligned.fna"
   ]
  },
  {
   "cell_type": "markdown",
   "metadata": {},
   "source": [
    "## Obtain consensus sequence from the multiple sequence alignment files"
   ]
  },
  {
   "cell_type": "code",
   "execution_count": 51,
   "metadata": {},
   "outputs": [],
   "source": [
    "import os\n",
    "from pathlib import Path\n",
    "\n",
    "from Bio import AlignIO\n",
    "from Bio.Align import AlignInfo\n",
    "\n",
    "\n",
    "dataDir = Path(os.environ['GENOMICS_DATA_BASE'], 'annotations', 'e_coli', 'gene_sequences', 'fhu_system')\n",
    "\n",
    "alignment = AlignIO.read(Path(dataDir, \"aligned.fna\"), \"fasta\")\n",
    "\n",
    "summary_align = AlignInfo.SummaryInfo(alignment)\n",
    "\n",
    "consensus = summary_align.dumb_consensus(threshold=0.40, ambiguous='N')"
   ]
  },
  {
   "cell_type": "code",
   "execution_count": 52,
   "metadata": {},
   "outputs": [
    {
     "name": "stdout",
     "output_type": "stream",
     "text": [
      "0\n"
     ]
    }
   ],
   "source": [
    "print(consensus.count('N'))"
   ]
  },
  {
   "cell_type": "code",
   "execution_count": 53,
   "metadata": {},
   "outputs": [
    {
     "name": "stdout",
     "output_type": "stream",
     "text": [
      "ATGGCACCTTCCAAAACTGCTCAGCCAAAACACTCACTGCGTAAAATCGCAGTTGTAGTAGCCACAGCGGTTAGCGGCATGTCTGTTTATGCACAGGCAGCGGTTGAACCGAAAGAAGACACTATCACCGTTACCGCTGCACCTGCGCCGCAAGAAAGCGCATGGGGGCCGGCTGCAACTATTGCGGCGCGACAGTCAGCTACCGGCACTAAAACCGATACGCCGATTCAAAAAGTACCTCAATCTATTTCTGTCGTCACCGCTGAAGAGATGGCGCTGCATCAGCCTAAGTCGGTGAAAGAAGCGCTTAGCTATACCCCTGGCGTTGCTGTGGGAACCCGTGGCGCATCTAATACTTATGATTACCTGATCATCCGCGGATTTGCGGCAGACGGCCAAAGCCAGAATAACTATCTGAATGGCCTGAAGTTGCAGGGCAACTTCTATAACGATGCGGTCATCGACCCGTATATGCTGGAACGTGCTGAAATTATGCGTGGCCCGGTTTCCGTGCTTTACGGTAAAAGCAGTCCTGGCGGTCTGTTGAATATGGTCAGCAAGCGTCCGACCACTGAACCGTTGAAAGAAGTTCAGTTTAAGGCCGGGACTGACAGCCTGTTCCAGACCGGTTTTGACTTCAGCGATGCGCTGGATGATGACGGCGTTTATTCTTATCGCCTGACCGGTCTTGCGCGTTCTGCCAATGCCCAGCAGAAAGGGTCAGAAGAGCAGCGTTATGCTATTGCACCGGCGTTCACCTGGCGTCCGGATGATAAAACCAATTTCACCTTCCTTTCTTACTTCCAGAACGAGCCGGAAACTGGTTATTACGGCTGGTTGCCGAAAGAGGGGACCGTTGAGCCGCTGCCAAACGGTAAGCGTCTGCCGACAGACTTTAACGAAGGGGCGAAGAACAACACCTATTCTCGTAACGAGAAGATGATTGGTTATAGCTTCGACCACGAATTTAACGACACCTTTACTGTGCGTCAGAACCTGCGCTTTGCGCAAAATAAAGTCTCGCAAAAGAGCGTATATGGCTACGGCATGTGCTCAGATCCGCTGTATACTTAAAACCAAGAGGCACTCAAGGCGAGTCCATGTGCAAGTATCCCGCAGTCTCAATGGGGCCATACACTGACTCGTCAGTACGTTATCGATAATGAGAAGTTAGAAAACTTCTCTGTTGATACTCAGTTGCAAAGCAAATTCGCAACCGGTTCTGTGGATCACACTCTGCTGACTGGCGTTGACTTTATGCGTATGCGTAATGACATCGACTCCTGGTTTGGTTATGCCGGTTCAGTTGCACCATCTGATATCTATAATTTAGACCGTAGTGACTTTGATTTTGGCGCGAATCACCCGAATCCGTCTGGTCCATACCGCGTTCTGCTGAAACAGAAACAAACCGGCCTGTATGTTCAGGATCAGGCGCAGTGGGATAAAGTGCTGGTTACGCTTGGCGGTCGCTATGACTGGGCCGATCAGTCATCTTTCAACCGTGATTACGGTAATAAATCTGAACGTGACGACAAAGAGTTCACCTGGCGTGGTGGTGTAAACTACCTGTTCGACAACGGCGTAACGCCTTACTTCAGCTACAGTGAATCATTTGAACCCGCTTCACAGACTGATGCGAACGGTGATCTGTTTGCACCTTCGAAAGGCAAACAGTATGAAGTCGGCGTGAAATATGTGCCAGAAGATCGCCCAATTGTGGTGACTGGCGCACTGTATCAGCTTACCAAAACTAATAACCTGATGGCGGATCCGAACGGTTCACTGTTCTCGGTTGAAGGCGGTGAGATTCGTGCGCGTGGCGTAGAGCTGGAAGCGAAAGCGGCACTGTCGGCGAGTGTTAACGTAGTCGGTTCTTATACTTACACCGATGCGGAATACACTACCGATACTACCTACAAAGGCAATACGCCTGCACAGGTGCCAAAACACATGGCTTCGCTGTGGGCTGACTATACCTTCTTTGACGGTCCGCTTTCAGGTCTGACGCTGGGCACCGGTGGTCGTTATACTGGCTCCAGCTATGGTGATCCGGCTAACTCCTTTAAAGTGGGAAGTTATACGGTCGTGGATGCGTTAGTGCGTTATGATCTGGCGCGAGTCGGCATGGCGGGCTCCAACGTGGCGCTGCATGTCAACAACCTGTTTGATCGTGAATACGTCGCCAGCTGCTTTAACACTTATGGTTGCTTCTGGGGCGCAGAACGTCAGGTCGTTGCAACCGCAACCTTCCGTTTCTAATTTCTCTTTTTGGGGCACGGATTTCCGTGCCCGTTTCACAAGTTGGCTGTTATGCAGGAATACACGAATCATTCCGATACCACTTTTGCACTGCGTAATATCTCCTTTCGTGTGCCCGGGCGCACGCTTTTGCATCCGTTGTCGTTAACCTTTCCTGCCGGGAAAGTGACTGGTCTGATTGGTCACAACGGTTCTGGTAAATCCACTCTGCTCAAAATGCTTGGTCGTCACCAGCCACCGTCGGAAGGGGAGATTCTTCTTGATGCCCAACCGCTGGAAAGCTGGAGCAGCAAAGCGTTTGCCCGCAAAGTGGCTTATTTACCGCAGCAGCTTCCTCCGGCAGAAGGGATGACCGTGCGTGAACTGGTGGCGATTGGTCGTTACCCGTGGCATGGCGCACTAGGGCGCTTTGGTGCGGCAGATCGCGAAAAGGTCGAGGAAGCTATCTCGCTGGTTGGCTTAAAACCGCTGGCGCATCGGCTGGTCGATAGCCTCTCTGGCGGCGAACGTCAGCGGGCGTGGATCGCCATGCTGGTGGCGCAGGATAGCCGCTGTCTGTTGCTCGACGAACCGACTTCGGCGCTGGATATCGCCCACCAGGTTGATGTACTGGCGCTGGTGCATCGTTTAAGTCAGGAGCGTGGCCTGACGGTCATTGCCGTGCTGCACGATATCAATATGGCGGCGCGCTACTGTGATTATCTGGTCGCCCTGCGCGGCGGTGAAATGATTGCTCAGGGAACGCCTGCGGAAATTATGCGCGGCGAAACCCTCGAAATGATTTATGGCATCCCGATGGGTATTCTGCCGCATCCGGCGGGTGCTGCACCTGTGAGTTTTGTTTATTGATGAGCGGCTTACCTCTTATTTCGCGCCGCCGACTGTTAACGGCGATGGCGCTTTCTCCGTTGTTATGGCAGATGAATACCGCCCACGCGGCAGTTATTGATCCCAATCGTATTGTGGCACTGGAGTGGTTGCCGGTGGAGTTACTGCTGGCGCTCGGCATCGTGCCTTACGGCGTGGCGGACACCATCAACTATCGCCTGTGGGTCAGCGAACCGCCATTGCCGGACTCAGTGATTGACGTTGGTTTGCGTACAGAACCCAACCTTGAACTGCTGACCGAAATGAAACCGTCGTTTATGGTCTGGTCTGCAGGATATGGCCCTTCACCAGAAATGCTGGCACGTATTGCGCCGGGGCGCGGATTTAACTTCAGCGACGGCAAACAGCCACTGGCGATGGCGCGTAAATCACTGACGGAAATGGCAGATTTACTTAACCTGCAAAGCGCAGCGGAAACGCATTTAGCGCACTATGAAGACTTTATCCGCAGCATGAAACCCCGCTTTGTGAAGCGTGGTGCACGCCCGTTATTGCTGACGACGCTTATCGATCCGCGCCATATGTTGGTCTTCGGTCCAAACAGCTTGTTCCAGGAAATTCTCGATGAGTACGGCATCCCAAATGCCTGGCAAGGGGAAACCAACTTCTGGGGCAGTACCGCCGTCAGTATCGATCGTCTGGCAGCGTATAAAGACGTTGATGTGCTCTGTTTTGATCACGACAACAGCAAAGACATGGATGCGCTAATGGCAACCCCGCTGTGGCAGGCCATGCCGTTTGTCCGCGCCGGACGCTTTCAGCGCGTACCTGCAGTCTGGTTCTATGGTGCGACGCTTTCTGCAATGCACTTTGTGCGTATTCTGGATAACGCCATCGGAGGTAAAGCGTGAGTAAACGAATTGCGCTTTTTCCGGTGTTATTGCTGGCGCTGCTGGTGGTTGCTGCTGCGGCGTTGACCTGGATGAACTTCTCGCAGGCGCTGCCGCGCAGCCAGTGGGCGCAGGCCGCCTGGTCGCCGGATATTGACGTCATCGAGCAGATGATTTTTCACTACAGCTTGTTGCCGCGTCTGGCGATTTCGCTGCTGGTGGGCGCGGGCCTGGGGCTGGTGGGCGTGCTGTTTCAGCAAGTGCTGCGTAACCCGCTGGCGGAACCGACGACGTTGGGTGTTGCAACAGGCGCGCAACTGGGGATTACCGTCACCACGCTCTGGGCGATCCCCGGCGCGATGGCGAGCCAGTTTGCTGCGCTGGCAGGGGCTTGTGTTGTTGGCTTAATCGTCTTTGGCGTCGCGTGGGGGAAACGGCTTTCGCCGGTAACGCTGATCCTCGCGGGGCTGGTAGTGAGCCTTTATTGCGGCGCAATCAATCAGTTACTGGTTATCTTCCATCATGACCAACTGCAAAGCATGTTCCTGTGGAGCACCGGAACGCTGACGCAAACCGACTGGGGCGGCGTTGAGCGTTTATGGCCGCAGCTGCTGGGCGGCGTGATGCTGACGTTATTGCTACTTCGCCCGTTAACTCTGATGGGGCTTGATGATGGCGTGGCGCGCAATCTCGGGCTGGCCTTGTCGCTCGCTCGTCTGGCGGCGTTGTCGCTGGCGATTGTCATCAGTGCGCTGCTGGTGAACGCGGTGGGGATTATCGGCTTTATCGGTTTGTTCGCGCCACTGCTGGCGAAAATGCTGGGGGCGCGGCGTTTGTTGCCACGGTTGATGCTGGCATCGCTGATTGGTGCGTTAATTCTGTGGCTTTCTGATCAAATCATCCTCTGGCTGACTCGCGTGTGGATGGAAGTGTCCACCGGTTCGGTCACTGCGTTGATCGGTGCGCCGCTGCTACTGTGGCTGCTGCCGCGTTTACGCAGCATTAGCGCGCCGGATATGAAGGTCAACGATCGTGTCGCGACTGAACGCCAACACGTGCTGGCGTTTGCCCTCGCGGGCGGCGTGCTGCTGTTGATGGCTGTGGTGGTGGCGCTGTCGTTTGGTCGTGATGCGCACGGCTGGACGTGGGCGAGCGGGGCGTTGCTCGAGGATTTGATGCCCTGGCGCTGGCCGCGAATTATGGCTGCGCTGTTTGCGGGCGTCATGCTGGCGGTGGCGGGCTGTATTATTCAGCGGCTGACCGGAAACCCGATGGCAAGCCCGGAAGTGCTGGGGATTAGCTCCGGCGCGGCGTTTGGCGTGGTGTTAATGCTGTTTCTGGTGCCGGGTAATGCCTTTGGCTGGCTGTTACCCGCAGGCAGTCTCGGGGCGGCGGTGACGCTGTTGATCATTATGATCGCCGCCGGACGCGGTGGATTTTCCCCACACCGCATGTTACTGGCGGGGATGGCGTTAAGTACCGCGTTCACCATGCTTTTGATGATGTTGCAGGCAAGTGGTGACCCGCGAATGGCGCAAGTTCTGACCTGGATTTCCGGTTCGACCTACAACGCGACCGATGCGCAGGTCTGGCGTACCGGAATTGTGATGGTGATTTTGCTGGCGATTACCCCGCTGTGCCGCCGCTGGCTGACCATTTTACCGCTGGGTGGTGATACCGCACGAGCCGTGGGGATGGCGCTGACGCCGACGCGAATTGCGCTGCTGCTGTTAGCGGCTTGCCTGACGGCGACCGCGACAATGACCATTGGACCGTTGAGTTTTGTTGGTTTAATGGCACCGCATATTGCGCGGATGATGGGCTTTCGACGGACGATGCCACACATCGTAATTTCGGCGCTGGTGGGTGGTTTACTGCTGGTGTTCGCTGACTGGTGTGGGCGGATGGTGCTGTTTCCATTCCAGATCCCCGCGGGGCTGCTGTCGACCTTTATCGGCGCGCCATATTTTATCTATTTGTTGAGAAAGCAGAGCCGTTAA\n"
     ]
    }
   ],
   "source": [
    "print(consensus)"
   ]
  },
  {
   "cell_type": "code",
   "execution_count": 54,
   "metadata": {},
   "outputs": [
    {
     "name": "stdout",
     "output_type": "stream",
     "text": [
      "5980\n"
     ]
    }
   ],
   "source": [
    "print(len(consensus))"
   ]
  },
  {
   "cell_type": "markdown",
   "metadata": {},
   "source": [
    "### Translate the nucleotide sequence to amino acid sequence"
   ]
  },
  {
   "cell_type": "code",
   "execution_count": 55,
   "metadata": {},
   "outputs": [
    {
     "name": "stderr",
     "output_type": "stream",
     "text": [
      "/home/vmadmin/workspace/alfred-data-analysis/.venv/lib/python3.10/site-packages/Bio/Seq.py:2879: BiopythonWarning: Partial codon, len(sequence) not a multiple of three. Explicitly trim the sequence or add trailing N before translation. This may become an error in future.\n",
      "  warnings.warn(\n"
     ]
    },
    {
     "data": {
      "text/plain": [
       "Seq('MAPSKTAQPKHSLRKIAVVVATAVSGMSVYAQAAVEPKEDTITVTAAPAPQESA...EPL')"
      ]
     },
     "execution_count": 55,
     "metadata": {},
     "output_type": "execute_result"
    }
   ],
   "source": [
    "from Bio.Seq import Seq\n",
    "\n",
    "\n",
    "dna_seq = Seq(consensus)\n",
    "protein_seq = dna_seq.translate()\n",
    "protein_seq"
   ]
  },
  {
   "cell_type": "code",
   "execution_count": 57,
   "metadata": {},
   "outputs": [
    {
     "data": {
      "text/plain": [
       "'MAPSKTAQPKHSLRKIAVVVATAVSGMSVYAQAAVEPKEDTITVTAAPAPQESAWGPAATIAARQSATGTKTDTPIQKVPQSISVVTAEEMALHQPKSVKEALSYTPGVAVGTRGASNTYDYLIIRGFAADGQSQNNYLNGLKLQGNFYNDAVIDPYMLERAEIMRGPVSVLYGKSSPGGLLNMVSKRPTTEPLKEVQFKAGTDSLFQTGFDFSDALDDDGVYSYRLTGLARSANAQQKGSEEQRYAIAPAFTWRPDDKTNFTFLSYFQNEPETGYYGWLPKEGTVEPLPNGKRLPTDFNEGAKNNTYSRNEKMIGYSFDHEFNDTFTVRQNLRFAQNKVSQKSVYGYGMCSDPLYT*NQEALKASPCASIPQSQWGHTLTRQYVIDNEKLENFSVDTQLQSKFATGSVDHTLLTGVDFMRMRNDIDSWFGYAGSVAPSDIYNLDRSDFDFGANHPNPSGPYRVLLKQKQTGLYVQDQAQWDKVLVTLGGRYDWADQSSFNRDYGNKSERDDKEFTWRGGVNYLFDNGVTPYFSYSESFEPASQTDANGDLFAPSKGKQYEVGVKYVPEDRPIVVTGALYQLTKTNNLMADPNGSLFSVEGGEIRARGVELEAKAALSASVNVVGSYTYTDAEYTTDTTYKGNTPAQVPKHMASLWADYTFFDGPLSGLTLGTGGRYTGSSYGDPANSFKVGSYTVVDALVRYDLARVGMAGSNVALHVNNLFDREYVASCFNTYGCFWGAERQVVATATFRF*FLFLGHGFPCPFHKLAVMQEYTNHSDTTFALRNISFRVPGRTLLHPLSLTFPAGKVTGLIGHNGSGKSTLLKMLGRHQPPSEGEILLDAQPLESWSSKAFARKVAYLPQQLPPAEGMTVRELVAIGRYPWHGALGRFGAADREKVEEAISLVGLKPLAHRLVDSLSGGERQRAWIAMLVAQDSRCLLLDEPTSALDIAHQVDVLALVHRLSQERGLTVIAVLHDINMAARYCDYLVALRGGEMIAQGTPAEIMRGETLEMIYGIPMGILPHPAGAAPVSFVY**AAYLLFRAADC*RRWRFLRCYGR*IPPTRQLLIPIVLWHWSGCRWSYCWRSASCLTAWRTPSTIACGSANRHCRTQ*LTLVCVQNPTLNC*PK*NRRLWSGLQDMALHQKCWHVLRRGADLTSATANSHWRWRVNH*RKWQIYLTCKAQRKRI*RTMKTLSAA*NPAL*SVVHARYC*RRLSIRAICWSSVQTACSRKFSMSTASQMPGKGKPTSGAVPPSVSIVWQRIKTLMCSVLITTTAKTWMR*WQPRCGRPCRLSAPDAFSAYLQSGSMVRRFLQCTLCVFWITPSEVKRE*TNCAFSGVIAGAAGGCCCGVDLDELLAGAAAQPVGAGRLVAGY*RHRADDFSLQLVAASGDFAAGGRGPGAGGRAVSASAA*PAGGTDDVGCCNRRATGDYRHHALGDPRRDGEPVCCAGRGLCCWLNRLWRRVGETAFAGNADPRGAGSEPLLRRNQSVTGYLPS*PTAKHVPVEHRNADANRLGRR*AFMAAAAGRRDADVIATSPVNSDGA**WRGAQSRAGLVARSSGGVVAGDCHQCAAGERGGDYRLYRFVRATAGENAGGAAFVATVDAGIADWCVNSVAF*SNHPLADSRVDGSVHRFGHCVDRCAAATVAAAAFTQH*RAGYEGQRSCRD*TPTRAGVCPRGRRAAVDGCGGGAVVWS*CARLDVGERGVARGFDALALAANYGCAVCGRHAGGGGLYYSAADRKPDGKPGSAGD*LRRGVWRGVNAVSGAG*CLWLAVTRRQSRGGGDAVDHYDRRRTRWIFPTPHVTGGDGVKYRVHHAFDDVAGKW*PANGASSDLDFRFDLQRDRCAGLAYRNCDGDFAGDYPAVPPLADHFTAGW*YRTSRGDGADADANCAAAVSGLPDGDRDNDHWTVEFCWFNGTAYCADDGLSTDDATHRNFGAGGWFTAGVR*LVWADGAVSIPDPRGAAVDLYRRAIFYLFVEKAEPL'"
      ]
     },
     "execution_count": 57,
     "metadata": {},
     "output_type": "execute_result"
    }
   ],
   "source": [
    "str(protein_seq)"
   ]
  },
  {
   "cell_type": "markdown",
   "metadata": {},
   "source": [
    "## Patristic distances"
   ]
  },
  {
   "cell_type": "markdown",
   "metadata": {},
   "source": [
    "### Extract distance from phylogeny"
   ]
  },
  {
   "cell_type": "code",
   "execution_count": null,
   "metadata": {},
   "outputs": [],
   "source": [
    "python ~/workspace/pyseer/scripts/phylogeny_distance.py tree.nwk  > phylogeny_dists.tsv"
   ]
  },
  {
   "cell_type": "markdown",
   "metadata": {},
   "source": [
    "### Perform GWAS"
   ]
  },
  {
   "cell_type": "code",
   "execution_count": null,
   "metadata": {},
   "outputs": [],
   "source": [
    "pyseer --phenotypes /home/vmadmin/workspace/ehr_data/data/full_cohort/tube_id_mortality.pheno --vcf variants.vcf --distances phylogeny_dists.tsv --lineage --max-dimensions 6 --min-af 0.06 --max-af 0.94 > mortality_SNPs.txt"
   ]
  },
  {
   "cell_type": "markdown",
   "metadata": {},
   "source": [
    "### Format output"
   ]
  },
  {
   "cell_type": "code",
   "execution_count": null,
   "metadata": {},
   "outputs": [],
   "source": [
    "cat <(echo \"#CHR SNP BP minLOG10(P) log10(p) r^2\") <(paste <(sed '1d' mortality_SNPs.txt | cut -d \"_\" -f 2) <(sed '1d' mortality_SNPs.txt | cut -f 4) | awk '{p = -log($2)/log(10); print \"1\",\".\",$1,p,p,\"0\"}' ) | tr ' ' '\\t' > mortality_snps.plot"
   ]
  },
  {
   "cell_type": "markdown",
   "metadata": {},
   "source": [
    "## Distance from root"
   ]
  },
  {
   "cell_type": "markdown",
   "metadata": {},
   "source": [
    "### Extract distance from phylogeny"
   ]
  },
  {
   "cell_type": "code",
   "execution_count": null,
   "metadata": {},
   "outputs": [],
   "source": [
    "python ~/workspace/pyseer/scripts/phylogeny_distance.py --lmm tree.nwk  > phylogeny_K.tsv"
   ]
  },
  {
   "cell_type": "markdown",
   "metadata": {},
   "source": [
    "### Perform GWAS"
   ]
  },
  {
   "cell_type": "code",
   "execution_count": null,
   "metadata": {},
   "outputs": [],
   "source": [
    "python ~/workspace/pyseer/pyseer-runner.py --lmm --phenotypes ~/workspace/ehr_data/data/full_cohort/tube_id_mortality.pheno --vcf variants.vcf --similarity phylogeny_K.tsv --phenotype-column death_30_day --output-patterns mortality_SNP_patterns.txt > mortality_SNPs_lmm.txt"
   ]
  },
  {
   "cell_type": "markdown",
   "metadata": {},
   "source": [
    "### Analyse output"
   ]
  },
  {
   "cell_type": "markdown",
   "metadata": {},
   "source": [
    "#### Count the number of patterns to control for multiple testing"
   ]
  },
  {
   "cell_type": "code",
   "execution_count": null,
   "metadata": {},
   "outputs": [],
   "source": [
    "python ~/workspace/pyseer/scripts/count_patterns.py mortality_SNP_patterns.txt"
   ]
  },
  {
   "cell_type": "markdown",
   "metadata": {},
   "source": [
    "Output:\n",
    "\n",
    "Patterns:\t98\n",
    "\n",
    "Threshold:\t5.10E-04"
   ]
  },
  {
   "cell_type": "code",
   "execution_count": null,
   "metadata": {},
   "outputs": [
    {
     "data": {
      "text/html": [
       "<table class=\"dataframe\">\n",
       "<caption>A data.frame: 6 × 8</caption>\n",
       "<thead>\n",
       "\t<tr><th></th><th scope=col>variant</th><th scope=col>af</th><th scope=col>filter-pvalue</th><th scope=col>lrt-pvalue</th><th scope=col>beta</th><th scope=col>beta-std-err</th><th scope=col>variant_h2</th><th scope=col>notes</th></tr>\n",
       "\t<tr><th></th><th scope=col>&lt;chr&gt;</th><th scope=col>&lt;dbl&gt;</th><th scope=col>&lt;dbl&gt;</th><th scope=col>&lt;dbl&gt;</th><th scope=col>&lt;dbl&gt;</th><th scope=col>&lt;dbl&gt;</th><th scope=col>&lt;dbl&gt;</th><th scope=col>&lt;chr&gt;</th></tr>\n",
       "</thead>\n",
       "<tbody>\n",
       "\t<tr><th scope=row>1</th><td>1_6_A_G  </td><td>0.3960</td><td>0.2840</td><td>0.2850</td><td> 0.02370</td><td>0.0221</td><td>0.03800</td><td>         </td></tr>\n",
       "\t<tr><th scope=row>2</th><td>1_8_C_G  </td><td>0.3960</td><td>0.2840</td><td>0.2850</td><td> 0.02370</td><td>0.0221</td><td>0.03800</td><td>         </td></tr>\n",
       "\t<tr><th scope=row>3</th><td>1_33_C_T </td><td>0.0202</td><td>0.1700</td><td>0.1700</td><td>-0.10600</td><td>0.0770</td><td>0.04880</td><td>bad-chisq</td></tr>\n",
       "\t<tr><th scope=row>4</th><td>1_72_T_A </td><td>0.0391</td><td>0.9000</td><td>0.9000</td><td>-0.00704</td><td>0.0559</td><td>0.00448</td><td>         </td></tr>\n",
       "\t<tr><th scope=row>5</th><td>1_147_G_A</td><td>0.0303</td><td>0.0909</td><td>0.0911</td><td>-0.10700</td><td>0.0631</td><td>0.06010</td><td>bad-chisq</td></tr>\n",
       "\t<tr><th scope=row>6</th><td>1_210_T_C</td><td>0.0290</td><td>0.0981</td><td>0.0984</td><td>-0.10700</td><td>0.0644</td><td>0.05880</td><td>bad-chisq</td></tr>\n",
       "</tbody>\n",
       "</table>\n"
      ],
      "text/latex": [
       "A data.frame: 6 × 8\n",
       "\\begin{tabular}{r|llllllll}\n",
       "  & variant & af & filter-pvalue & lrt-pvalue & beta & beta-std-err & variant\\_h2 & notes\\\\\n",
       "  & <chr> & <dbl> & <dbl> & <dbl> & <dbl> & <dbl> & <dbl> & <chr>\\\\\n",
       "\\hline\n",
       "\t1 & 1\\_6\\_A\\_G   & 0.3960 & 0.2840 & 0.2850 &  0.02370 & 0.0221 & 0.03800 &          \\\\\n",
       "\t2 & 1\\_8\\_C\\_G   & 0.3960 & 0.2840 & 0.2850 &  0.02370 & 0.0221 & 0.03800 &          \\\\\n",
       "\t3 & 1\\_33\\_C\\_T  & 0.0202 & 0.1700 & 0.1700 & -0.10600 & 0.0770 & 0.04880 & bad-chisq\\\\\n",
       "\t4 & 1\\_72\\_T\\_A  & 0.0391 & 0.9000 & 0.9000 & -0.00704 & 0.0559 & 0.00448 &          \\\\\n",
       "\t5 & 1\\_147\\_G\\_A & 0.0303 & 0.0909 & 0.0911 & -0.10700 & 0.0631 & 0.06010 & bad-chisq\\\\\n",
       "\t6 & 1\\_210\\_T\\_C & 0.0290 & 0.0981 & 0.0984 & -0.10700 & 0.0644 & 0.05880 & bad-chisq\\\\\n",
       "\\end{tabular}\n"
      ],
      "text/markdown": [
       "\n",
       "A data.frame: 6 × 8\n",
       "\n",
       "| <!--/--> | variant &lt;chr&gt; | af &lt;dbl&gt; | filter-pvalue &lt;dbl&gt; | lrt-pvalue &lt;dbl&gt; | beta &lt;dbl&gt; | beta-std-err &lt;dbl&gt; | variant_h2 &lt;dbl&gt; | notes &lt;chr&gt; |\n",
       "|---|---|---|---|---|---|---|---|---|\n",
       "| 1 | 1_6_A_G   | 0.3960 | 0.2840 | 0.2850 |  0.02370 | 0.0221 | 0.03800 | <!----> |\n",
       "| 2 | 1_8_C_G   | 0.3960 | 0.2840 | 0.2850 |  0.02370 | 0.0221 | 0.03800 | <!----> |\n",
       "| 3 | 1_33_C_T  | 0.0202 | 0.1700 | 0.1700 | -0.10600 | 0.0770 | 0.04880 | bad-chisq |\n",
       "| 4 | 1_72_T_A  | 0.0391 | 0.9000 | 0.9000 | -0.00704 | 0.0559 | 0.00448 | <!----> |\n",
       "| 5 | 1_147_G_A | 0.0303 | 0.0909 | 0.0911 | -0.10700 | 0.0631 | 0.06010 | bad-chisq |\n",
       "| 6 | 1_210_T_C | 0.0290 | 0.0981 | 0.0984 | -0.10700 | 0.0644 | 0.05880 | bad-chisq |\n",
       "\n"
      ],
      "text/plain": [
       "  variant   af     filter-pvalue lrt-pvalue beta     beta-std-err variant_h2\n",
       "1 1_6_A_G   0.3960 0.2840        0.2850      0.02370 0.0221       0.03800   \n",
       "2 1_8_C_G   0.3960 0.2840        0.2850      0.02370 0.0221       0.03800   \n",
       "3 1_33_C_T  0.0202 0.1700        0.1700     -0.10600 0.0770       0.04880   \n",
       "4 1_72_T_A  0.0391 0.9000        0.9000     -0.00704 0.0559       0.00448   \n",
       "5 1_147_G_A 0.0303 0.0909        0.0911     -0.10700 0.0631       0.06010   \n",
       "6 1_210_T_C 0.0290 0.0981        0.0984     -0.10700 0.0644       0.05880   \n",
       "  notes    \n",
       "1          \n",
       "2          \n",
       "3 bad-chisq\n",
       "4          \n",
       "5 bad-chisq\n",
       "6 bad-chisq"
      ]
     },
     "metadata": {},
     "output_type": "display_data"
    }
   ],
   "source": [
    "library(data.table)\n",
    "\n",
    "\n",
    "gono_gwas <- fread('~/workspace/genome_data/annotations/e_coli/gene_sequences/fhu_system/mortality_SNPs_lmm.txt', data.table = FALSE)\n",
    "head(gono_gwas)"
   ]
  },
  {
   "cell_type": "code",
   "execution_count": null,
   "metadata": {},
   "outputs": [
    {
     "data": {
      "text/html": [
       "0.000510204081632653"
      ],
      "text/latex": [
       "0.000510204081632653"
      ],
      "text/markdown": [
       "0.000510204081632653"
      ],
      "text/plain": [
       "[1] 0.0005102041"
      ]
     },
     "metadata": {},
     "output_type": "display_data"
    }
   ],
   "source": [
    "gono_gwas <- gono_gwas[order(gono_gwas$`lrt-pvalue`),]\n",
    "gono_gwas <- gono_gwas[!grepl(\"bad-chisq\", gono_gwas$notes),]\n",
    "\n",
    "# threshold form running count_patterns in pyseer\n",
    "sig_threshold <- 0.05/(98)\n",
    "sig_threshold"
   ]
  },
  {
   "cell_type": "code",
   "execution_count": null,
   "metadata": {},
   "outputs": [
    {
     "data": {
      "text/html": [
       "13"
      ],
      "text/latex": [
       "13"
      ],
      "text/markdown": [
       "13"
      ],
      "text/plain": [
       "[1] 13"
      ]
     },
     "metadata": {},
     "output_type": "display_data"
    },
    {
     "data": {
      "text/html": [
       "<table class=\"dataframe\">\n",
       "<caption>A data.frame: 13 × 8</caption>\n",
       "<thead>\n",
       "\t<tr><th></th><th scope=col>variant</th><th scope=col>af</th><th scope=col>filter-pvalue</th><th scope=col>lrt-pvalue</th><th scope=col>beta</th><th scope=col>beta-std-err</th><th scope=col>variant_h2</th><th scope=col>notes</th></tr>\n",
       "\t<tr><th></th><th scope=col>&lt;chr&gt;</th><th scope=col>&lt;dbl&gt;</th><th scope=col>&lt;dbl&gt;</th><th scope=col>&lt;dbl&gt;</th><th scope=col>&lt;dbl&gt;</th><th scope=col>&lt;dbl&gt;</th><th scope=col>&lt;dbl&gt;</th><th scope=col>&lt;chr&gt;</th></tr>\n",
       "</thead>\n",
       "<tbody>\n",
       "\t<tr><th scope=row>560</th><td>1_4841_C_T</td><td>0.0227</td><td>1.57e-06</td><td>1.36e-06</td><td>0.349</td><td>0.0717</td><td>0.171</td><td></td></tr>\n",
       "\t<tr><th scope=row>537</th><td>1_4600_C_T</td><td>0.0240</td><td>4.26e-06</td><td>3.80e-06</td><td>0.325</td><td>0.0699</td><td>0.163</td><td></td></tr>\n",
       "\t<tr><th scope=row>539</th><td>1_4615_A_G</td><td>0.0253</td><td>1.04e-05</td><td>9.50e-06</td><td>0.304</td><td>0.0682</td><td>0.157</td><td></td></tr>\n",
       "\t<tr><th scope=row>562</th><td>1_4853_T_C</td><td>0.0543</td><td>1.08e-05</td><td>9.86e-06</td><td>0.210</td><td>0.0472</td><td>0.156</td><td></td></tr>\n",
       "\t<tr><th scope=row>563</th><td>1_4855_A_G</td><td>0.0568</td><td>2.64e-05</td><td>2.45e-05</td><td>0.197</td><td>0.0463</td><td>0.149</td><td></td></tr>\n",
       "\t<tr><th scope=row>564</th><td>1_4858_T_C</td><td>0.0568</td><td>2.64e-05</td><td>2.45e-05</td><td>0.197</td><td>0.0463</td><td>0.149</td><td></td></tr>\n",
       "\t<tr><th scope=row>565</th><td>1_4861_G_C</td><td>0.0568</td><td>2.64e-05</td><td>2.45e-05</td><td>0.197</td><td>0.0463</td><td>0.149</td><td></td></tr>\n",
       "\t<tr><th scope=row>553</th><td>1_4814_T_C</td><td>0.0581</td><td>4.00e-05</td><td>3.74e-05</td><td>0.190</td><td>0.0458</td><td>0.146</td><td></td></tr>\n",
       "\t<tr><th scope=row>554</th><td>1_4817_T_C</td><td>0.0593</td><td>5.94e-05</td><td>5.59e-05</td><td>0.184</td><td>0.0454</td><td>0.143</td><td></td></tr>\n",
       "\t<tr><th scope=row>558</th><td>1_4826_T_C</td><td>0.0341</td><td>6.66e-05</td><td>6.28e-05</td><td>0.238</td><td>0.0591</td><td>0.142</td><td></td></tr>\n",
       "\t<tr><th scope=row>566</th><td>1_4870_T_C</td><td>0.0606</td><td>8.66e-05</td><td>8.20e-05</td><td>0.178</td><td>0.0450</td><td>0.139</td><td></td></tr>\n",
       "\t<tr><th scope=row>630</th><td>1_5899_A_G</td><td>0.0139</td><td>1.19e-04</td><td>1.13e-04</td><td>0.356</td><td>0.0917</td><td>0.137</td><td></td></tr>\n",
       "\t<tr><th scope=row>595</th><td>1_5236_G_A</td><td>0.0240</td><td>1.25e-04</td><td>1.19e-04</td><td>0.271</td><td>0.0702</td><td>0.136</td><td></td></tr>\n",
       "</tbody>\n",
       "</table>\n"
      ],
      "text/latex": [
       "A data.frame: 13 × 8\n",
       "\\begin{tabular}{r|llllllll}\n",
       "  & variant & af & filter-pvalue & lrt-pvalue & beta & beta-std-err & variant\\_h2 & notes\\\\\n",
       "  & <chr> & <dbl> & <dbl> & <dbl> & <dbl> & <dbl> & <dbl> & <chr>\\\\\n",
       "\\hline\n",
       "\t560 & 1\\_4841\\_C\\_T & 0.0227 & 1.57e-06 & 1.36e-06 & 0.349 & 0.0717 & 0.171 & \\\\\n",
       "\t537 & 1\\_4600\\_C\\_T & 0.0240 & 4.26e-06 & 3.80e-06 & 0.325 & 0.0699 & 0.163 & \\\\\n",
       "\t539 & 1\\_4615\\_A\\_G & 0.0253 & 1.04e-05 & 9.50e-06 & 0.304 & 0.0682 & 0.157 & \\\\\n",
       "\t562 & 1\\_4853\\_T\\_C & 0.0543 & 1.08e-05 & 9.86e-06 & 0.210 & 0.0472 & 0.156 & \\\\\n",
       "\t563 & 1\\_4855\\_A\\_G & 0.0568 & 2.64e-05 & 2.45e-05 & 0.197 & 0.0463 & 0.149 & \\\\\n",
       "\t564 & 1\\_4858\\_T\\_C & 0.0568 & 2.64e-05 & 2.45e-05 & 0.197 & 0.0463 & 0.149 & \\\\\n",
       "\t565 & 1\\_4861\\_G\\_C & 0.0568 & 2.64e-05 & 2.45e-05 & 0.197 & 0.0463 & 0.149 & \\\\\n",
       "\t553 & 1\\_4814\\_T\\_C & 0.0581 & 4.00e-05 & 3.74e-05 & 0.190 & 0.0458 & 0.146 & \\\\\n",
       "\t554 & 1\\_4817\\_T\\_C & 0.0593 & 5.94e-05 & 5.59e-05 & 0.184 & 0.0454 & 0.143 & \\\\\n",
       "\t558 & 1\\_4826\\_T\\_C & 0.0341 & 6.66e-05 & 6.28e-05 & 0.238 & 0.0591 & 0.142 & \\\\\n",
       "\t566 & 1\\_4870\\_T\\_C & 0.0606 & 8.66e-05 & 8.20e-05 & 0.178 & 0.0450 & 0.139 & \\\\\n",
       "\t630 & 1\\_5899\\_A\\_G & 0.0139 & 1.19e-04 & 1.13e-04 & 0.356 & 0.0917 & 0.137 & \\\\\n",
       "\t595 & 1\\_5236\\_G\\_A & 0.0240 & 1.25e-04 & 1.19e-04 & 0.271 & 0.0702 & 0.136 & \\\\\n",
       "\\end{tabular}\n"
      ],
      "text/markdown": [
       "\n",
       "A data.frame: 13 × 8\n",
       "\n",
       "| <!--/--> | variant &lt;chr&gt; | af &lt;dbl&gt; | filter-pvalue &lt;dbl&gt; | lrt-pvalue &lt;dbl&gt; | beta &lt;dbl&gt; | beta-std-err &lt;dbl&gt; | variant_h2 &lt;dbl&gt; | notes &lt;chr&gt; |\n",
       "|---|---|---|---|---|---|---|---|---|\n",
       "| 560 | 1_4841_C_T | 0.0227 | 1.57e-06 | 1.36e-06 | 0.349 | 0.0717 | 0.171 | <!----> |\n",
       "| 537 | 1_4600_C_T | 0.0240 | 4.26e-06 | 3.80e-06 | 0.325 | 0.0699 | 0.163 | <!----> |\n",
       "| 539 | 1_4615_A_G | 0.0253 | 1.04e-05 | 9.50e-06 | 0.304 | 0.0682 | 0.157 | <!----> |\n",
       "| 562 | 1_4853_T_C | 0.0543 | 1.08e-05 | 9.86e-06 | 0.210 | 0.0472 | 0.156 | <!----> |\n",
       "| 563 | 1_4855_A_G | 0.0568 | 2.64e-05 | 2.45e-05 | 0.197 | 0.0463 | 0.149 | <!----> |\n",
       "| 564 | 1_4858_T_C | 0.0568 | 2.64e-05 | 2.45e-05 | 0.197 | 0.0463 | 0.149 | <!----> |\n",
       "| 565 | 1_4861_G_C | 0.0568 | 2.64e-05 | 2.45e-05 | 0.197 | 0.0463 | 0.149 | <!----> |\n",
       "| 553 | 1_4814_T_C | 0.0581 | 4.00e-05 | 3.74e-05 | 0.190 | 0.0458 | 0.146 | <!----> |\n",
       "| 554 | 1_4817_T_C | 0.0593 | 5.94e-05 | 5.59e-05 | 0.184 | 0.0454 | 0.143 | <!----> |\n",
       "| 558 | 1_4826_T_C | 0.0341 | 6.66e-05 | 6.28e-05 | 0.238 | 0.0591 | 0.142 | <!----> |\n",
       "| 566 | 1_4870_T_C | 0.0606 | 8.66e-05 | 8.20e-05 | 0.178 | 0.0450 | 0.139 | <!----> |\n",
       "| 630 | 1_5899_A_G | 0.0139 | 1.19e-04 | 1.13e-04 | 0.356 | 0.0917 | 0.137 | <!----> |\n",
       "| 595 | 1_5236_G_A | 0.0240 | 1.25e-04 | 1.19e-04 | 0.271 | 0.0702 | 0.136 | <!----> |\n",
       "\n"
      ],
      "text/plain": [
       "    variant    af     filter-pvalue lrt-pvalue beta  beta-std-err variant_h2\n",
       "560 1_4841_C_T 0.0227 1.57e-06      1.36e-06   0.349 0.0717       0.171     \n",
       "537 1_4600_C_T 0.0240 4.26e-06      3.80e-06   0.325 0.0699       0.163     \n",
       "539 1_4615_A_G 0.0253 1.04e-05      9.50e-06   0.304 0.0682       0.157     \n",
       "562 1_4853_T_C 0.0543 1.08e-05      9.86e-06   0.210 0.0472       0.156     \n",
       "563 1_4855_A_G 0.0568 2.64e-05      2.45e-05   0.197 0.0463       0.149     \n",
       "564 1_4858_T_C 0.0568 2.64e-05      2.45e-05   0.197 0.0463       0.149     \n",
       "565 1_4861_G_C 0.0568 2.64e-05      2.45e-05   0.197 0.0463       0.149     \n",
       "553 1_4814_T_C 0.0581 4.00e-05      3.74e-05   0.190 0.0458       0.146     \n",
       "554 1_4817_T_C 0.0593 5.94e-05      5.59e-05   0.184 0.0454       0.143     \n",
       "558 1_4826_T_C 0.0341 6.66e-05      6.28e-05   0.238 0.0591       0.142     \n",
       "566 1_4870_T_C 0.0606 8.66e-05      8.20e-05   0.178 0.0450       0.139     \n",
       "630 1_5899_A_G 0.0139 1.19e-04      1.13e-04   0.356 0.0917       0.137     \n",
       "595 1_5236_G_A 0.0240 1.25e-04      1.19e-04   0.271 0.0702       0.136     \n",
       "    notes\n",
       "560      \n",
       "537      \n",
       "539      \n",
       "562      \n",
       "563      \n",
       "564      \n",
       "565      \n",
       "553      \n",
       "554      \n",
       "558      \n",
       "566      \n",
       "630      \n",
       "595      "
      ]
     },
     "metadata": {},
     "output_type": "display_data"
    }
   ],
   "source": [
    "sum(gono_gwas$`lrt-pvalue`<sig_threshold)\n",
    "sig_hits <- gono_gwas[gono_gwas$`lrt-pvalue`<sig_threshold,]\n",
    "sig_hits"
   ]
  },
  {
   "cell_type": "markdown",
   "metadata": {},
   "source": [
    "## Pairwise distance matrix produced using mash"
   ]
  },
  {
   "cell_type": "markdown",
   "metadata": {},
   "source": [
    "### Create the mash sketches"
   ]
  },
  {
   "cell_type": "code",
   "execution_count": null,
   "metadata": {},
   "outputs": [],
   "source": [
    "mash sketch -s 10000 -o mash_sketch /home/vmadmin/workspace/genome_data/fasta/ECOLI/*fasta"
   ]
  },
  {
   "cell_type": "markdown",
   "metadata": {},
   "source": [
    "### Calculate distances between all pairs of samples"
   ]
  },
  {
   "cell_type": "code",
   "execution_count": null,
   "metadata": {},
   "outputs": [],
   "source": [
    "mash dist mash_sketch.msh mash_sketch.msh| square_mash > mash.tsv"
   ]
  },
  {
   "cell_type": "code",
   "execution_count": null,
   "metadata": {},
   "outputs": [],
   "source": [
    "python ~/workspace/pyseer/scree_plot.py mash.tsv"
   ]
  },
  {
   "cell_type": "code",
   "execution_count": null,
   "metadata": {},
   "outputs": [],
   "source": [
    "sed -i 's/_short//g' mash.tsv"
   ]
  },
  {
   "cell_type": "markdown",
   "metadata": {},
   "source": [
    "### Perform GWAS"
   ]
  },
  {
   "cell_type": "code",
   "execution_count": null,
   "metadata": {},
   "outputs": [],
   "source": [
    "python ~/workspace/pyseer/pyseer-runner.py --phenotypes ~/workspace/ehr_data/data/full_cohort/tube_id_mortality.pheno --vcf variants.vcf --distances mash.tsv --phenotype-column death_30_day --output-patterns mortality_SNP_patterns_mash.txt --max-dimensions 6 --min-af 0.085 --max-af 0.915 > mortality_SNPs_mash.txt"
   ]
  }
 ],
 "metadata": {
  "kernelspec": {
   "display_name": ".venv",
   "language": "python",
   "name": "python3"
  },
  "language_info": {
   "codemirror_mode": {
    "name": "ipython",
    "version": 3
   },
   "file_extension": ".py",
   "mimetype": "text/x-python",
   "name": "python",
   "nbconvert_exporter": "python",
   "pygments_lexer": "ipython3",
   "version": "3.10.12"
  }
 },
 "nbformat": 4,
 "nbformat_minor": 2
}
