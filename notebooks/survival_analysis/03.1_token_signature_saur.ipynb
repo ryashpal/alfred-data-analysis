{
 "cells": [
  {
   "cell_type": "markdown",
   "metadata": {},
   "source": [
    "# Survival analysis of token signatures"
   ]
  },
  {
   "cell_type": "markdown",
   "metadata": {},
   "source": [
    "## Read bed files containing tokens"
   ]
  },
  {
   "cell_type": "code",
   "execution_count": 1,
   "metadata": {},
   "outputs": [
    {
     "data": {
      "text/html": [
       "<div>\n",
       "<style scoped>\n",
       "    .dataframe tbody tr th:only-of-type {\n",
       "        vertical-align: middle;\n",
       "    }\n",
       "\n",
       "    .dataframe tbody tr th {\n",
       "        vertical-align: top;\n",
       "    }\n",
       "\n",
       "    .dataframe thead th {\n",
       "        text-align: right;\n",
       "    }\n",
       "</style>\n",
       "<table border=\"1\" class=\"dataframe\">\n",
       "  <thead>\n",
       "    <tr style=\"text-align: right;\">\n",
       "      <th></th>\n",
       "      <th>contig_id</th>\n",
       "      <th>start_position</th>\n",
       "      <th>end_position</th>\n",
       "      <th>tokens</th>\n",
       "      <th>score</th>\n",
       "      <th>tube_id</th>\n",
       "    </tr>\n",
       "  </thead>\n",
       "  <tbody>\n",
       "    <tr>\n",
       "      <th>0</th>\n",
       "      <td>1</td>\n",
       "      <td>0</td>\n",
       "      <td>6</td>\n",
       "      <td>TTTTCTT</td>\n",
       "      <td>0.000064</td>\n",
       "      <td>ALF22G140</td>\n",
       "    </tr>\n",
       "    <tr>\n",
       "      <th>1</th>\n",
       "      <td>1</td>\n",
       "      <td>7</td>\n",
       "      <td>9</td>\n",
       "      <td>ACC</td>\n",
       "      <td>-0.000395</td>\n",
       "      <td>ALF22G140</td>\n",
       "    </tr>\n",
       "    <tr>\n",
       "      <th>2</th>\n",
       "      <td>1</td>\n",
       "      <td>10</td>\n",
       "      <td>13</td>\n",
       "      <td>GACA</td>\n",
       "      <td>0.001573</td>\n",
       "      <td>ALF22G140</td>\n",
       "    </tr>\n",
       "    <tr>\n",
       "      <th>3</th>\n",
       "      <td>1</td>\n",
       "      <td>14</td>\n",
       "      <td>18</td>\n",
       "      <td>AGAAT</td>\n",
       "      <td>-0.000986</td>\n",
       "      <td>ALF22G140</td>\n",
       "    </tr>\n",
       "    <tr>\n",
       "      <th>4</th>\n",
       "      <td>1</td>\n",
       "      <td>19</td>\n",
       "      <td>25</td>\n",
       "      <td>TAATTAT</td>\n",
       "      <td>0.000795</td>\n",
       "      <td>ALF22G140</td>\n",
       "    </tr>\n",
       "    <tr>\n",
       "      <th>...</th>\n",
       "      <td>...</td>\n",
       "      <td>...</td>\n",
       "      <td>...</td>\n",
       "      <td>...</td>\n",
       "      <td>...</td>\n",
       "      <td>...</td>\n",
       "    </tr>\n",
       "    <tr>\n",
       "      <th>176721937</th>\n",
       "      <td>5</td>\n",
       "      <td>181665</td>\n",
       "      <td>181667</td>\n",
       "      <td>CGG</td>\n",
       "      <td>-0.002273</td>\n",
       "      <td>AH21C044</td>\n",
       "    </tr>\n",
       "    <tr>\n",
       "      <th>176721938</th>\n",
       "      <td>5</td>\n",
       "      <td>181668</td>\n",
       "      <td>181673</td>\n",
       "      <td>CTCATC</td>\n",
       "      <td>-0.001735</td>\n",
       "      <td>AH21C044</td>\n",
       "    </tr>\n",
       "    <tr>\n",
       "      <th>176721939</th>\n",
       "      <td>5</td>\n",
       "      <td>181674</td>\n",
       "      <td>181676</td>\n",
       "      <td>GCA</td>\n",
       "      <td>-0.003468</td>\n",
       "      <td>AH21C044</td>\n",
       "    </tr>\n",
       "    <tr>\n",
       "      <th>176721940</th>\n",
       "      <td>5</td>\n",
       "      <td>181677</td>\n",
       "      <td>181680</td>\n",
       "      <td>TCCA</td>\n",
       "      <td>-0.000228</td>\n",
       "      <td>AH21C044</td>\n",
       "    </tr>\n",
       "    <tr>\n",
       "      <th>176721941</th>\n",
       "      <td>5</td>\n",
       "      <td>181681</td>\n",
       "      <td>181685</td>\n",
       "      <td>CTTTT</td>\n",
       "      <td>-0.003030</td>\n",
       "      <td>AH21C044</td>\n",
       "    </tr>\n",
       "  </tbody>\n",
       "</table>\n",
       "<p>176721942 rows × 6 columns</p>\n",
       "</div>"
      ],
      "text/plain": [
       "           contig_id  start_position  end_position   tokens     score  \\\n",
       "0                  1               0             6  TTTTCTT  0.000064   \n",
       "1                  1               7             9      ACC -0.000395   \n",
       "2                  1              10            13     GACA  0.001573   \n",
       "3                  1              14            18    AGAAT -0.000986   \n",
       "4                  1              19            25  TAATTAT  0.000795   \n",
       "...              ...             ...           ...      ...       ...   \n",
       "176721937          5          181665        181667      CGG -0.002273   \n",
       "176721938          5          181668        181673   CTCATC -0.001735   \n",
       "176721939          5          181674        181676      GCA -0.003468   \n",
       "176721940          5          181677        181680     TCCA -0.000228   \n",
       "176721941          5          181681        181685    CTTTT -0.003030   \n",
       "\n",
       "             tube_id  \n",
       "0          ALF22G140  \n",
       "1          ALF22G140  \n",
       "2          ALF22G140  \n",
       "3          ALF22G140  \n",
       "4          ALF22G140  \n",
       "...              ...  \n",
       "176721937   AH21C044  \n",
       "176721938   AH21C044  \n",
       "176721939   AH21C044  \n",
       "176721940   AH21C044  \n",
       "176721941   AH21C044  \n",
       "\n",
       "[176721942 rows x 6 columns]"
      ]
     },
     "execution_count": 1,
     "metadata": {},
     "output_type": "execute_result"
    }
   ],
   "source": [
    "import os\n",
    "import pandas as pd\n",
    "from pathlib import Path\n",
    "\n",
    "\n",
    "bedDir = Path(os.environ['GENOMICS_DATA_BASE'], 'genome_nlp_tokens', 'bed_files', 'SAUR')\n",
    "\n",
    "bedDfList = []\n",
    "for bedFile in os.listdir(bedDir):\n",
    "    tubeid = bedFile.split('.')[0].split('_')[0]\n",
    "    tokensDf = pd.read_csv(Path(bedDir, bedFile), sep='\\t', names=['contig_id', 'start_position', 'end_position', 'tokens', 'score'])\n",
    "    tokensDf['tube_id'] = tubeid\n",
    "    bedDfList.append(tokensDf)\n",
    "\n",
    "bedDf = pd.concat(bedDfList, ignore_index=True)\n",
    "bedDf"
   ]
  },
  {
   "cell_type": "markdown",
   "metadata": {},
   "source": [
    "## Calculate token lengths"
   ]
  },
  {
   "cell_type": "code",
   "execution_count": 2,
   "metadata": {},
   "outputs": [
    {
     "data": {
      "text/html": [
       "<div>\n",
       "<style scoped>\n",
       "    .dataframe tbody tr th:only-of-type {\n",
       "        vertical-align: middle;\n",
       "    }\n",
       "\n",
       "    .dataframe tbody tr th {\n",
       "        vertical-align: top;\n",
       "    }\n",
       "\n",
       "    .dataframe thead th {\n",
       "        text-align: right;\n",
       "    }\n",
       "</style>\n",
       "<table border=\"1\" class=\"dataframe\">\n",
       "  <thead>\n",
       "    <tr style=\"text-align: right;\">\n",
       "      <th></th>\n",
       "      <th>contig_id</th>\n",
       "      <th>start_position</th>\n",
       "      <th>end_position</th>\n",
       "      <th>tokens</th>\n",
       "      <th>score</th>\n",
       "      <th>tube_id</th>\n",
       "      <th>token_length</th>\n",
       "    </tr>\n",
       "  </thead>\n",
       "  <tbody>\n",
       "    <tr>\n",
       "      <th>0</th>\n",
       "      <td>1</td>\n",
       "      <td>0</td>\n",
       "      <td>6</td>\n",
       "      <td>TTTTCTT</td>\n",
       "      <td>0.000064</td>\n",
       "      <td>ALF22G140</td>\n",
       "      <td>7</td>\n",
       "    </tr>\n",
       "    <tr>\n",
       "      <th>1</th>\n",
       "      <td>1</td>\n",
       "      <td>7</td>\n",
       "      <td>9</td>\n",
       "      <td>ACC</td>\n",
       "      <td>-0.000395</td>\n",
       "      <td>ALF22G140</td>\n",
       "      <td>3</td>\n",
       "    </tr>\n",
       "    <tr>\n",
       "      <th>2</th>\n",
       "      <td>1</td>\n",
       "      <td>10</td>\n",
       "      <td>13</td>\n",
       "      <td>GACA</td>\n",
       "      <td>0.001573</td>\n",
       "      <td>ALF22G140</td>\n",
       "      <td>4</td>\n",
       "    </tr>\n",
       "    <tr>\n",
       "      <th>3</th>\n",
       "      <td>1</td>\n",
       "      <td>14</td>\n",
       "      <td>18</td>\n",
       "      <td>AGAAT</td>\n",
       "      <td>-0.000986</td>\n",
       "      <td>ALF22G140</td>\n",
       "      <td>5</td>\n",
       "    </tr>\n",
       "    <tr>\n",
       "      <th>4</th>\n",
       "      <td>1</td>\n",
       "      <td>19</td>\n",
       "      <td>25</td>\n",
       "      <td>TAATTAT</td>\n",
       "      <td>0.000795</td>\n",
       "      <td>ALF22G140</td>\n",
       "      <td>7</td>\n",
       "    </tr>\n",
       "    <tr>\n",
       "      <th>...</th>\n",
       "      <td>...</td>\n",
       "      <td>...</td>\n",
       "      <td>...</td>\n",
       "      <td>...</td>\n",
       "      <td>...</td>\n",
       "      <td>...</td>\n",
       "      <td>...</td>\n",
       "    </tr>\n",
       "    <tr>\n",
       "      <th>176721937</th>\n",
       "      <td>5</td>\n",
       "      <td>181665</td>\n",
       "      <td>181667</td>\n",
       "      <td>CGG</td>\n",
       "      <td>-0.002273</td>\n",
       "      <td>AH21C044</td>\n",
       "      <td>3</td>\n",
       "    </tr>\n",
       "    <tr>\n",
       "      <th>176721938</th>\n",
       "      <td>5</td>\n",
       "      <td>181668</td>\n",
       "      <td>181673</td>\n",
       "      <td>CTCATC</td>\n",
       "      <td>-0.001735</td>\n",
       "      <td>AH21C044</td>\n",
       "      <td>6</td>\n",
       "    </tr>\n",
       "    <tr>\n",
       "      <th>176721939</th>\n",
       "      <td>5</td>\n",
       "      <td>181674</td>\n",
       "      <td>181676</td>\n",
       "      <td>GCA</td>\n",
       "      <td>-0.003468</td>\n",
       "      <td>AH21C044</td>\n",
       "      <td>3</td>\n",
       "    </tr>\n",
       "    <tr>\n",
       "      <th>176721940</th>\n",
       "      <td>5</td>\n",
       "      <td>181677</td>\n",
       "      <td>181680</td>\n",
       "      <td>TCCA</td>\n",
       "      <td>-0.000228</td>\n",
       "      <td>AH21C044</td>\n",
       "      <td>4</td>\n",
       "    </tr>\n",
       "    <tr>\n",
       "      <th>176721941</th>\n",
       "      <td>5</td>\n",
       "      <td>181681</td>\n",
       "      <td>181685</td>\n",
       "      <td>CTTTT</td>\n",
       "      <td>-0.003030</td>\n",
       "      <td>AH21C044</td>\n",
       "      <td>5</td>\n",
       "    </tr>\n",
       "  </tbody>\n",
       "</table>\n",
       "<p>176721942 rows × 7 columns</p>\n",
       "</div>"
      ],
      "text/plain": [
       "           contig_id  start_position  end_position   tokens     score  \\\n",
       "0                  1               0             6  TTTTCTT  0.000064   \n",
       "1                  1               7             9      ACC -0.000395   \n",
       "2                  1              10            13     GACA  0.001573   \n",
       "3                  1              14            18    AGAAT -0.000986   \n",
       "4                  1              19            25  TAATTAT  0.000795   \n",
       "...              ...             ...           ...      ...       ...   \n",
       "176721937          5          181665        181667      CGG -0.002273   \n",
       "176721938          5          181668        181673   CTCATC -0.001735   \n",
       "176721939          5          181674        181676      GCA -0.003468   \n",
       "176721940          5          181677        181680     TCCA -0.000228   \n",
       "176721941          5          181681        181685    CTTTT -0.003030   \n",
       "\n",
       "             tube_id  token_length  \n",
       "0          ALF22G140             7  \n",
       "1          ALF22G140             3  \n",
       "2          ALF22G140             4  \n",
       "3          ALF22G140             5  \n",
       "4          ALF22G140             7  \n",
       "...              ...           ...  \n",
       "176721937   AH21C044             3  \n",
       "176721938   AH21C044             6  \n",
       "176721939   AH21C044             3  \n",
       "176721940   AH21C044             4  \n",
       "176721941   AH21C044             5  \n",
       "\n",
       "[176721942 rows x 7 columns]"
      ]
     },
     "execution_count": 2,
     "metadata": {},
     "output_type": "execute_result"
    }
   ],
   "source": [
    "bedDf['token_length'] = bedDf.tokens.apply(lambda x: len(x))\n",
    "bedDf"
   ]
  },
  {
   "cell_type": "markdown",
   "metadata": {},
   "source": [
    "## Calculate counts of token lengths"
   ]
  },
  {
   "cell_type": "code",
   "execution_count": 3,
   "metadata": {},
   "outputs": [
    {
     "data": {
      "text/html": [
       "<div>\n",
       "<style scoped>\n",
       "    .dataframe tbody tr th:only-of-type {\n",
       "        vertical-align: middle;\n",
       "    }\n",
       "\n",
       "    .dataframe tbody tr th {\n",
       "        vertical-align: top;\n",
       "    }\n",
       "\n",
       "    .dataframe thead th {\n",
       "        text-align: right;\n",
       "    }\n",
       "</style>\n",
       "<table border=\"1\" class=\"dataframe\">\n",
       "  <thead>\n",
       "    <tr style=\"text-align: right;\">\n",
       "      <th></th>\n",
       "      <th>token_length</th>\n",
       "      <th>count</th>\n",
       "    </tr>\n",
       "  </thead>\n",
       "  <tbody>\n",
       "    <tr>\n",
       "      <th>8</th>\n",
       "      <td>1</td>\n",
       "      <td>369058</td>\n",
       "    </tr>\n",
       "    <tr>\n",
       "      <th>6</th>\n",
       "      <td>2</td>\n",
       "      <td>3503389</td>\n",
       "    </tr>\n",
       "    <tr>\n",
       "      <th>4</th>\n",
       "      <td>3</td>\n",
       "      <td>10246519</td>\n",
       "    </tr>\n",
       "    <tr>\n",
       "      <th>3</th>\n",
       "      <td>4</td>\n",
       "      <td>18476852</td>\n",
       "    </tr>\n",
       "    <tr>\n",
       "      <th>0</th>\n",
       "      <td>5</td>\n",
       "      <td>54107814</td>\n",
       "    </tr>\n",
       "    <tr>\n",
       "      <th>1</th>\n",
       "      <td>6</td>\n",
       "      <td>49067795</td>\n",
       "    </tr>\n",
       "    <tr>\n",
       "      <th>2</th>\n",
       "      <td>7</td>\n",
       "      <td>31028269</td>\n",
       "    </tr>\n",
       "    <tr>\n",
       "      <th>5</th>\n",
       "      <td>8</td>\n",
       "      <td>8209701</td>\n",
       "    </tr>\n",
       "    <tr>\n",
       "      <th>7</th>\n",
       "      <td>9</td>\n",
       "      <td>1528839</td>\n",
       "    </tr>\n",
       "    <tr>\n",
       "      <th>9</th>\n",
       "      <td>10</td>\n",
       "      <td>167582</td>\n",
       "    </tr>\n",
       "    <tr>\n",
       "      <th>10</th>\n",
       "      <td>11</td>\n",
       "      <td>13393</td>\n",
       "    </tr>\n",
       "    <tr>\n",
       "      <th>13</th>\n",
       "      <td>12</td>\n",
       "      <td>148</td>\n",
       "    </tr>\n",
       "    <tr>\n",
       "      <th>11</th>\n",
       "      <td>13</td>\n",
       "      <td>2286</td>\n",
       "    </tr>\n",
       "    <tr>\n",
       "      <th>12</th>\n",
       "      <td>15</td>\n",
       "      <td>210</td>\n",
       "    </tr>\n",
       "    <tr>\n",
       "      <th>14</th>\n",
       "      <td>16</td>\n",
       "      <td>87</td>\n",
       "    </tr>\n",
       "  </tbody>\n",
       "</table>\n",
       "</div>"
      ],
      "text/plain": [
       "    token_length     count\n",
       "8              1    369058\n",
       "6              2   3503389\n",
       "4              3  10246519\n",
       "3              4  18476852\n",
       "0              5  54107814\n",
       "1              6  49067795\n",
       "2              7  31028269\n",
       "5              8   8209701\n",
       "7              9   1528839\n",
       "9             10    167582\n",
       "10            11     13393\n",
       "13            12       148\n",
       "11            13      2286\n",
       "12            15       210\n",
       "14            16        87"
      ]
     },
     "execution_count": 3,
     "metadata": {},
     "output_type": "execute_result"
    }
   ],
   "source": [
    "tokenlengthCountDf = bedDf.token_length.value_counts().reset_index().sort_values(by=['token_length'], ascending=True)\n",
    "tokenlengthCountDf"
   ]
  },
  {
   "cell_type": "markdown",
   "metadata": {},
   "source": [
    "## Plot counts of token lengths"
   ]
  },
  {
   "cell_type": "code",
   "execution_count": 4,
   "metadata": {},
   "outputs": [
    {
     "data": {
      "text/plain": [
       "<Axes: xlabel='token_length', ylabel='count'>"
      ]
     },
     "execution_count": 4,
     "metadata": {},
     "output_type": "execute_result"
    },
    {
     "data": {
      "image/png": "[encoded data removed]",
      "text/plain": [
       "<Figure size 640x480 with 1 Axes>"
      ]
     },
     "metadata": {},
     "output_type": "display_data"
    }
   ],
   "source": [
    "import seaborn as sns\n",
    "\n",
    "sns.barplot(tokenlengthCountDf, x='token_length', y='count')"
   ]
  },
  {
   "cell_type": "markdown",
   "metadata": {},
   "source": [
    "## Remove smaller tokens from this analysis"
   ]
  },
  {
   "cell_type": "code",
   "execution_count": 5,
   "metadata": {},
   "outputs": [
    {
     "data": {
      "text/html": [
       "<div>\n",
       "<style scoped>\n",
       "    .dataframe tbody tr th:only-of-type {\n",
       "        vertical-align: middle;\n",
       "    }\n",
       "\n",
       "    .dataframe tbody tr th {\n",
       "        vertical-align: top;\n",
       "    }\n",
       "\n",
       "    .dataframe thead th {\n",
       "        text-align: right;\n",
       "    }\n",
       "</style>\n",
       "<table border=\"1\" class=\"dataframe\">\n",
       "  <thead>\n",
       "    <tr style=\"text-align: right;\">\n",
       "      <th></th>\n",
       "      <th>contig_id</th>\n",
       "      <th>start_position</th>\n",
       "      <th>end_position</th>\n",
       "      <th>tokens</th>\n",
       "      <th>score</th>\n",
       "      <th>tube_id</th>\n",
       "      <th>token_length</th>\n",
       "    </tr>\n",
       "  </thead>\n",
       "  <tbody>\n",
       "    <tr>\n",
       "      <th>12590</th>\n",
       "      <td>1</td>\n",
       "      <td>69263</td>\n",
       "      <td>69273</td>\n",
       "      <td>TATATATATAT</td>\n",
       "      <td>0.000834</td>\n",
       "      <td>ALF22G140</td>\n",
       "      <td>11</td>\n",
       "    </tr>\n",
       "    <tr>\n",
       "      <th>61062</th>\n",
       "      <td>1</td>\n",
       "      <td>334856</td>\n",
       "      <td>334866</td>\n",
       "      <td>CTCACTGCAAC</td>\n",
       "      <td>0.002666</td>\n",
       "      <td>ALF22G140</td>\n",
       "      <td>11</td>\n",
       "    </tr>\n",
       "    <tr>\n",
       "      <th>66837</th>\n",
       "      <td>1</td>\n",
       "      <td>366582</td>\n",
       "      <td>366592</td>\n",
       "      <td>AAATAAATAAA</td>\n",
       "      <td>-0.002220</td>\n",
       "      <td>ALF22G140</td>\n",
       "      <td>11</td>\n",
       "    </tr>\n",
       "    <tr>\n",
       "      <th>75592</th>\n",
       "      <td>2</td>\n",
       "      <td>21195</td>\n",
       "      <td>21205</td>\n",
       "      <td>AAATAAATAAA</td>\n",
       "      <td>-0.001987</td>\n",
       "      <td>ALF22G140</td>\n",
       "      <td>11</td>\n",
       "    </tr>\n",
       "    <tr>\n",
       "      <th>83222</th>\n",
       "      <td>2</td>\n",
       "      <td>63338</td>\n",
       "      <td>63350</td>\n",
       "      <td>TTTTTGTATTTTT</td>\n",
       "      <td>0.000883</td>\n",
       "      <td>ALF22G140</td>\n",
       "      <td>13</td>\n",
       "    </tr>\n",
       "    <tr>\n",
       "      <th>...</th>\n",
       "      <td>...</td>\n",
       "      <td>...</td>\n",
       "      <td>...</td>\n",
       "      <td>...</td>\n",
       "      <td>...</td>\n",
       "      <td>...</td>\n",
       "      <td>...</td>\n",
       "    </tr>\n",
       "    <tr>\n",
       "      <th>176686286</th>\n",
       "      <td>4</td>\n",
       "      <td>266803</td>\n",
       "      <td>266813</td>\n",
       "      <td>AAATAAATAAA</td>\n",
       "      <td>-0.001279</td>\n",
       "      <td>AH21C044</td>\n",
       "      <td>11</td>\n",
       "    </tr>\n",
       "    <tr>\n",
       "      <th>176686870</th>\n",
       "      <td>4</td>\n",
       "      <td>270015</td>\n",
       "      <td>270025</td>\n",
       "      <td>TTCTTTTCTTT</td>\n",
       "      <td>-0.001087</td>\n",
       "      <td>AH21C044</td>\n",
       "      <td>11</td>\n",
       "    </tr>\n",
       "    <tr>\n",
       "      <th>176703957</th>\n",
       "      <td>5</td>\n",
       "      <td>81915</td>\n",
       "      <td>81925</td>\n",
       "      <td>AAATAAATAAA</td>\n",
       "      <td>0.002236</td>\n",
       "      <td>AH21C044</td>\n",
       "      <td>11</td>\n",
       "    </tr>\n",
       "    <tr>\n",
       "      <th>176712559</th>\n",
       "      <td>5</td>\n",
       "      <td>129547</td>\n",
       "      <td>129557</td>\n",
       "      <td>AAAGAAAGAAA</td>\n",
       "      <td>0.000311</td>\n",
       "      <td>AH21C044</td>\n",
       "      <td>11</td>\n",
       "    </tr>\n",
       "    <tr>\n",
       "      <th>176714514</th>\n",
       "      <td>5</td>\n",
       "      <td>140613</td>\n",
       "      <td>140623</td>\n",
       "      <td>AAATAAATAAA</td>\n",
       "      <td>-0.001833</td>\n",
       "      <td>AH21C044</td>\n",
       "      <td>11</td>\n",
       "    </tr>\n",
       "  </tbody>\n",
       "</table>\n",
       "<p>16124 rows × 7 columns</p>\n",
       "</div>"
      ],
      "text/plain": [
       "           contig_id  start_position  end_position         tokens     score  \\\n",
       "12590              1           69263         69273    TATATATATAT  0.000834   \n",
       "61062              1          334856        334866    CTCACTGCAAC  0.002666   \n",
       "66837              1          366582        366592    AAATAAATAAA -0.002220   \n",
       "75592              2           21195         21205    AAATAAATAAA -0.001987   \n",
       "83222              2           63338         63350  TTTTTGTATTTTT  0.000883   \n",
       "...              ...             ...           ...            ...       ...   \n",
       "176686286          4          266803        266813    AAATAAATAAA -0.001279   \n",
       "176686870          4          270015        270025    TTCTTTTCTTT -0.001087   \n",
       "176703957          5           81915         81925    AAATAAATAAA  0.002236   \n",
       "176712559          5          129547        129557    AAAGAAAGAAA  0.000311   \n",
       "176714514          5          140613        140623    AAATAAATAAA -0.001833   \n",
       "\n",
       "             tube_id  token_length  \n",
       "12590      ALF22G140            11  \n",
       "61062      ALF22G140            11  \n",
       "66837      ALF22G140            11  \n",
       "75592      ALF22G140            11  \n",
       "83222      ALF22G140            13  \n",
       "...              ...           ...  \n",
       "176686286   AH21C044            11  \n",
       "176686870   AH21C044            11  \n",
       "176703957   AH21C044            11  \n",
       "176712559   AH21C044            11  \n",
       "176714514   AH21C044            11  \n",
       "\n",
       "[16124 rows x 7 columns]"
      ]
     },
     "execution_count": 5,
     "metadata": {},
     "output_type": "execute_result"
    }
   ],
   "source": [
    "tokensDf = bedDf[bedDf.token_length > 10]\n",
    "tokensDf"
   ]
  },
  {
   "cell_type": "markdown",
   "metadata": {},
   "source": [
    "## Plot attribution score distribution"
   ]
  },
  {
   "cell_type": "code",
   "execution_count": 6,
   "metadata": {},
   "outputs": [
    {
     "data": {
      "text/plain": [
       "<seaborn.axisgrid.FacetGrid at 0x7cb2eb379480>"
      ]
     },
     "execution_count": 6,
     "metadata": {},
     "output_type": "execute_result"
    },
    {
     "data": {
      "image/png": "[encoded data removed]",
      "text/plain": [
       "<Figure size 500x500 with 1 Axes>"
      ]
     },
     "metadata": {},
     "output_type": "display_data"
    }
   ],
   "source": [
    "import seaborn as sns\n",
    "\n",
    "\n",
    "sns.displot(tokensDf.score)"
   ]
  },
  {
   "cell_type": "markdown",
   "metadata": {},
   "source": [
    "## Plot attribution score distribution (Zoomed)"
   ]
  },
  {
   "cell_type": "code",
   "execution_count": 8,
   "metadata": {},
   "outputs": [
    {
     "data": {
      "text/plain": [
       "<seaborn.axisgrid.FacetGrid at 0x7cb2e8f9d000>"
      ]
     },
     "execution_count": 8,
     "metadata": {},
     "output_type": "execute_result"
    },
    {
     "data": {
      "image/png": "[encoded data removed]",
      "text/plain": [
       "<Figure size 500x500 with 1 Axes>"
      ]
     },
     "metadata": {},
     "output_type": "display_data"
    }
   ],
   "source": [
    "import seaborn as sns\n",
    "\n",
    "\n",
    "sns.displot(tokensDf[(tokensDf.score > -0.05) & (tokensDf.score < 0.05)].score)"
   ]
  },
  {
   "cell_type": "markdown",
   "metadata": {},
   "source": [
    "## Calculate high-score cut-off such that ~10 top tokens are selected"
   ]
  },
  {
   "cell_type": "code",
   "execution_count": 25,
   "metadata": {},
   "outputs": [
    {
     "data": {
      "text/plain": [
       "np.float64(0.0031044564460859115)"
      ]
     },
     "execution_count": 25,
     "metadata": {},
     "output_type": "execute_result"
    }
   ],
   "source": [
    "highscoreCutoff = tokensDf.score.mean() + 0.9 * tokensDf.score.std()\n",
    "highscoreCutoff"
   ]
  },
  {
   "cell_type": "markdown",
   "metadata": {},
   "source": [
    "## Obtain the number of tokens whose attribution score is over the cut-off"
   ]
  },
  {
   "cell_type": "code",
   "execution_count": 26,
   "metadata": {},
   "outputs": [
    {
     "data": {
      "text/plain": [
       "10"
      ]
     },
     "execution_count": 26,
     "metadata": {},
     "output_type": "execute_result"
    }
   ],
   "source": [
    "highscoreTokens = tokensDf[(tokensDf.score > highscoreCutoff)].tokens.unique()\n",
    "len(highscoreTokens)"
   ]
  },
  {
   "cell_type": "markdown",
   "metadata": {},
   "source": [
    "## Display the top tokens whose attribution score is over the cut-off"
   ]
  },
  {
   "cell_type": "code",
   "execution_count": 27,
   "metadata": {},
   "outputs": [
    {
     "data": {
      "text/plain": [
       "array(['AAATAAATAAA', 'TTTTTGTATTTTT', 'TATATATATAT', 'GGATATTTGGA',\n",
       "       'TAATTTTTTGTATTTT', 'AAAAATACAAAAA', 'GGGATTATAGG', 'CTCACTGCAAC',\n",
       "       'ATATATATATATATAT', 'GCTGCAGTGAG'], dtype=object)"
      ]
     },
     "execution_count": 27,
     "metadata": {},
     "output_type": "execute_result"
    }
   ],
   "source": [
    "highscoreTokens"
   ]
  },
  {
   "cell_type": "markdown",
   "metadata": {},
   "source": [
    "## Obtain the number of tubeids containing atlease one if these tokens"
   ]
  },
  {
   "cell_type": "code",
   "execution_count": 28,
   "metadata": {},
   "outputs": [
    {
     "data": {
      "text/plain": [
       "557"
      ]
     },
     "execution_count": 28,
     "metadata": {},
     "output_type": "execute_result"
    }
   ],
   "source": [
    "len(tokensDf[tokensDf.tokens.isin(highscoreTokens)].tube_id.unique())"
   ]
  },
  {
   "cell_type": "markdown",
   "metadata": {},
   "source": [
    "## Obtain how many of the top tokens each tubeid contains"
   ]
  },
  {
   "cell_type": "code",
   "execution_count": 29,
   "metadata": {},
   "outputs": [
    {
     "data": {
      "text/html": [
       "<div>\n",
       "<style scoped>\n",
       "    .dataframe tbody tr th:only-of-type {\n",
       "        vertical-align: middle;\n",
       "    }\n",
       "\n",
       "    .dataframe tbody tr th {\n",
       "        vertical-align: top;\n",
       "    }\n",
       "\n",
       "    .dataframe thead th {\n",
       "        text-align: right;\n",
       "    }\n",
       "</style>\n",
       "<table border=\"1\" class=\"dataframe\">\n",
       "  <thead>\n",
       "    <tr style=\"text-align: right;\">\n",
       "      <th></th>\n",
       "      <th>tube_id</th>\n",
       "      <th>unique_token_count</th>\n",
       "    </tr>\n",
       "  </thead>\n",
       "  <tbody>\n",
       "    <tr>\n",
       "      <th>0</th>\n",
       "      <td>AH18J001</td>\n",
       "      <td>4</td>\n",
       "    </tr>\n",
       "    <tr>\n",
       "      <th>1</th>\n",
       "      <td>AH18J002</td>\n",
       "      <td>4</td>\n",
       "    </tr>\n",
       "    <tr>\n",
       "      <th>2</th>\n",
       "      <td>AH18J014</td>\n",
       "      <td>4</td>\n",
       "    </tr>\n",
       "    <tr>\n",
       "      <th>3</th>\n",
       "      <td>AH18J021</td>\n",
       "      <td>8</td>\n",
       "    </tr>\n",
       "    <tr>\n",
       "      <th>4</th>\n",
       "      <td>AH18J022</td>\n",
       "      <td>7</td>\n",
       "    </tr>\n",
       "    <tr>\n",
       "      <th>...</th>\n",
       "      <td>...</td>\n",
       "      <td>...</td>\n",
       "    </tr>\n",
       "    <tr>\n",
       "      <th>552</th>\n",
       "      <td>ALF23C134</td>\n",
       "      <td>6</td>\n",
       "    </tr>\n",
       "    <tr>\n",
       "      <th>553</th>\n",
       "      <td>ALF23C140</td>\n",
       "      <td>7</td>\n",
       "    </tr>\n",
       "    <tr>\n",
       "      <th>554</th>\n",
       "      <td>ALF23C174</td>\n",
       "      <td>5</td>\n",
       "    </tr>\n",
       "    <tr>\n",
       "      <th>555</th>\n",
       "      <td>ALF23C182</td>\n",
       "      <td>3</td>\n",
       "    </tr>\n",
       "    <tr>\n",
       "      <th>556</th>\n",
       "      <td>ALF23C188</td>\n",
       "      <td>4</td>\n",
       "    </tr>\n",
       "  </tbody>\n",
       "</table>\n",
       "<p>557 rows × 2 columns</p>\n",
       "</div>"
      ],
      "text/plain": [
       "       tube_id  unique_token_count\n",
       "0     AH18J001                   4\n",
       "1     AH18J002                   4\n",
       "2     AH18J014                   4\n",
       "3     AH18J021                   8\n",
       "4     AH18J022                   7\n",
       "..         ...                 ...\n",
       "552  ALF23C134                   6\n",
       "553  ALF23C140                   7\n",
       "554  ALF23C174                   5\n",
       "555  ALF23C182                   3\n",
       "556  ALF23C188                   4\n",
       "\n",
       "[557 rows x 2 columns]"
      ]
     },
     "execution_count": 29,
     "metadata": {},
     "output_type": "execute_result"
    }
   ],
   "source": [
    "groupedDf = tokensDf[tokensDf.tokens.isin(highscoreTokens)].groupby(by=['tube_id'])['tokens'].nunique().reset_index().rename(columns={'tokens': 'unique_token_count'})\n",
    "groupedDf"
   ]
  },
  {
   "cell_type": "markdown",
   "metadata": {},
   "source": [
    "## Obtain the unique token counts distribution"
   ]
  },
  {
   "cell_type": "code",
   "execution_count": 30,
   "metadata": {},
   "outputs": [
    {
     "data": {
      "text/plain": [
       "unique_token_count\n",
       "5    160\n",
       "4    149\n",
       "6    135\n",
       "3     69\n",
       "7     25\n",
       "2     12\n",
       "8      7\n",
       "Name: count, dtype: int64"
      ]
     },
     "execution_count": 30,
     "metadata": {},
     "output_type": "execute_result"
    }
   ],
   "source": [
    "groupedDf.unique_token_count.value_counts()"
   ]
  },
  {
   "cell_type": "markdown",
   "metadata": {},
   "source": [
    "## Create low and high score dataframes"
   ]
  },
  {
   "cell_type": "code",
   "execution_count": 31,
   "metadata": {},
   "outputs": [
    {
     "data": {
      "text/plain": [
       "((390, 2), (135, 2))"
      ]
     },
     "execution_count": 31,
     "metadata": {},
     "output_type": "execute_result"
    }
   ],
   "source": [
    "lowscoredf = groupedDf[groupedDf.unique_token_count < 6]\n",
    "highscoredf = groupedDf[groupedDf.unique_token_count == 6]\n",
    "lowscoredf.shape, highscoredf.shape"
   ]
  },
  {
   "cell_type": "code",
   "execution_count": 32,
   "metadata": {},
   "outputs": [
    {
     "data": {
      "text/html": [
       "<div>\n",
       "<style scoped>\n",
       "    .dataframe tbody tr th:only-of-type {\n",
       "        vertical-align: middle;\n",
       "    }\n",
       "\n",
       "    .dataframe tbody tr th {\n",
       "        vertical-align: top;\n",
       "    }\n",
       "\n",
       "    .dataframe thead th {\n",
       "        text-align: right;\n",
       "    }\n",
       "</style>\n",
       "<table border=\"1\" class=\"dataframe\">\n",
       "  <thead>\n",
       "    <tr style=\"text-align: right;\">\n",
       "      <th></th>\n",
       "      <th>tube_id</th>\n",
       "      <th>unique_token_count</th>\n",
       "    </tr>\n",
       "  </thead>\n",
       "  <tbody>\n",
       "    <tr>\n",
       "      <th>0</th>\n",
       "      <td>AH18J001</td>\n",
       "      <td>4</td>\n",
       "    </tr>\n",
       "    <tr>\n",
       "      <th>1</th>\n",
       "      <td>AH18J002</td>\n",
       "      <td>4</td>\n",
       "    </tr>\n",
       "    <tr>\n",
       "      <th>2</th>\n",
       "      <td>AH18J014</td>\n",
       "      <td>4</td>\n",
       "    </tr>\n",
       "    <tr>\n",
       "      <th>5</th>\n",
       "      <td>AH18J030</td>\n",
       "      <td>3</td>\n",
       "    </tr>\n",
       "    <tr>\n",
       "      <th>7</th>\n",
       "      <td>AH18J037</td>\n",
       "      <td>4</td>\n",
       "    </tr>\n",
       "    <tr>\n",
       "      <th>...</th>\n",
       "      <td>...</td>\n",
       "      <td>...</td>\n",
       "    </tr>\n",
       "    <tr>\n",
       "      <th>550</th>\n",
       "      <td>ALF23C124</td>\n",
       "      <td>5</td>\n",
       "    </tr>\n",
       "    <tr>\n",
       "      <th>551</th>\n",
       "      <td>ALF23C128</td>\n",
       "      <td>5</td>\n",
       "    </tr>\n",
       "    <tr>\n",
       "      <th>554</th>\n",
       "      <td>ALF23C174</td>\n",
       "      <td>5</td>\n",
       "    </tr>\n",
       "    <tr>\n",
       "      <th>555</th>\n",
       "      <td>ALF23C182</td>\n",
       "      <td>3</td>\n",
       "    </tr>\n",
       "    <tr>\n",
       "      <th>556</th>\n",
       "      <td>ALF23C188</td>\n",
       "      <td>4</td>\n",
       "    </tr>\n",
       "  </tbody>\n",
       "</table>\n",
       "<p>390 rows × 2 columns</p>\n",
       "</div>"
      ],
      "text/plain": [
       "       tube_id  unique_token_count\n",
       "0     AH18J001                   4\n",
       "1     AH18J002                   4\n",
       "2     AH18J014                   4\n",
       "5     AH18J030                   3\n",
       "7     AH18J037                   4\n",
       "..         ...                 ...\n",
       "550  ALF23C124                   5\n",
       "551  ALF23C128                   5\n",
       "554  ALF23C174                   5\n",
       "555  ALF23C182                   3\n",
       "556  ALF23C188                   4\n",
       "\n",
       "[390 rows x 2 columns]"
      ]
     },
     "execution_count": 32,
     "metadata": {},
     "output_type": "execute_result"
    }
   ],
   "source": [
    "lowscoredf"
   ]
  },
  {
   "cell_type": "code",
   "execution_count": 33,
   "metadata": {},
   "outputs": [
    {
     "data": {
      "text/html": [
       "<div>\n",
       "<style scoped>\n",
       "    .dataframe tbody tr th:only-of-type {\n",
       "        vertical-align: middle;\n",
       "    }\n",
       "\n",
       "    .dataframe tbody tr th {\n",
       "        vertical-align: top;\n",
       "    }\n",
       "\n",
       "    .dataframe thead th {\n",
       "        text-align: right;\n",
       "    }\n",
       "</style>\n",
       "<table border=\"1\" class=\"dataframe\">\n",
       "  <thead>\n",
       "    <tr style=\"text-align: right;\">\n",
       "      <th></th>\n",
       "      <th>tube_id</th>\n",
       "      <th>unique_token_count</th>\n",
       "    </tr>\n",
       "  </thead>\n",
       "  <tbody>\n",
       "    <tr>\n",
       "      <th>6</th>\n",
       "      <td>AH18J036</td>\n",
       "      <td>6</td>\n",
       "    </tr>\n",
       "    <tr>\n",
       "      <th>9</th>\n",
       "      <td>AH18J051</td>\n",
       "      <td>6</td>\n",
       "    </tr>\n",
       "    <tr>\n",
       "      <th>13</th>\n",
       "      <td>AH18J065</td>\n",
       "      <td>6</td>\n",
       "    </tr>\n",
       "    <tr>\n",
       "      <th>19</th>\n",
       "      <td>AH18K010</td>\n",
       "      <td>6</td>\n",
       "    </tr>\n",
       "    <tr>\n",
       "      <th>22</th>\n",
       "      <td>AH18K024</td>\n",
       "      <td>6</td>\n",
       "    </tr>\n",
       "    <tr>\n",
       "      <th>...</th>\n",
       "      <td>...</td>\n",
       "      <td>...</td>\n",
       "    </tr>\n",
       "    <tr>\n",
       "      <th>543</th>\n",
       "      <td>ALF23B065</td>\n",
       "      <td>6</td>\n",
       "    </tr>\n",
       "    <tr>\n",
       "      <th>544</th>\n",
       "      <td>ALF23B100</td>\n",
       "      <td>6</td>\n",
       "    </tr>\n",
       "    <tr>\n",
       "      <th>547</th>\n",
       "      <td>ALF23C044</td>\n",
       "      <td>6</td>\n",
       "    </tr>\n",
       "    <tr>\n",
       "      <th>549</th>\n",
       "      <td>ALF23C094</td>\n",
       "      <td>6</td>\n",
       "    </tr>\n",
       "    <tr>\n",
       "      <th>552</th>\n",
       "      <td>ALF23C134</td>\n",
       "      <td>6</td>\n",
       "    </tr>\n",
       "  </tbody>\n",
       "</table>\n",
       "<p>135 rows × 2 columns</p>\n",
       "</div>"
      ],
      "text/plain": [
       "       tube_id  unique_token_count\n",
       "6     AH18J036                   6\n",
       "9     AH18J051                   6\n",
       "13    AH18J065                   6\n",
       "19    AH18K010                   6\n",
       "22    AH18K024                   6\n",
       "..         ...                 ...\n",
       "543  ALF23B065                   6\n",
       "544  ALF23B100                   6\n",
       "547  ALF23C044                   6\n",
       "549  ALF23C094                   6\n",
       "552  ALF23C134                   6\n",
       "\n",
       "[135 rows x 2 columns]"
      ]
     },
     "execution_count": 33,
     "metadata": {},
     "output_type": "execute_result"
    }
   ],
   "source": [
    "highscoredf"
   ]
  },
  {
   "cell_type": "markdown",
   "metadata": {},
   "source": [
    "## Save lowscore tubeids"
   ]
  },
  {
   "cell_type": "code",
   "execution_count": 34,
   "metadata": {},
   "outputs": [],
   "source": [
    "import os\n",
    "\n",
    "from pathlib import Path\n",
    "\n",
    "\n",
    "lowscoredf.tube_id.to_csv(Path(os.environ['GENOMICS_DATA_BASE'], 'survival_analysis', 'SAUR', 'lowscore_tubeids.txt'), index=False)"
   ]
  },
  {
   "cell_type": "markdown",
   "metadata": {},
   "source": [
    "## Save highscore tubeids"
   ]
  },
  {
   "cell_type": "code",
   "execution_count": 35,
   "metadata": {},
   "outputs": [],
   "source": [
    "import os\n",
    "\n",
    "from pathlib import Path\n",
    "\n",
    "\n",
    "highscoredf.tube_id.to_csv(Path(os.environ['GENOMICS_DATA_BASE'], 'survival_analysis', 'SAUR', 'highscore_tubeids.txt'), index=False)"
   ]
  }
 ],
 "metadata": {
  "kernelspec": {
   "display_name": ".venv",
   "language": "python",
   "name": "python3"
  },
  "language_info": {
   "codemirror_mode": {
    "name": "ipython",
    "version": 3
   },
   "file_extension": ".py",
   "mimetype": "text/x-python",
   "name": "python",
   "nbconvert_exporter": "python",
   "pygments_lexer": "ipython3",
   "version": "3.10.12"
  }
 },
 "nbformat": 4,
 "nbformat_minor": 2
}
